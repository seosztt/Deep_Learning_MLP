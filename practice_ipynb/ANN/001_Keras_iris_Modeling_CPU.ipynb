{
 "cells": [
  {
   "cell_type": "markdown",
   "metadata": {
    "id": "RMLHu3RZ5lWK"
   },
   "source": [
    "# Keras iris Modeling"
   ]
  },
  {
   "cell_type": "code",
   "execution_count": null,
   "metadata": {
    "id": "RbPgODpVzdHI"
   },
   "outputs": [],
   "source": [
    "import warnings\n",
    "warnings.filterwarnings('ignore')"
   ]
  },
  {
   "cell_type": "markdown",
   "metadata": {
    "id": "Z0vCjo566DU3"
   },
   "source": [
    "* 실습용 데이터 설정\n",
    " - iris.csv"
   ]
  },
  {
   "cell_type": "code",
   "execution_count": null,
   "metadata": {
    "id": "LfEBY4JwDS1i"
   },
   "outputs": [],
   "source": [
    "import seaborn as sns\n",
    "\n",
    "iris = sns.load_dataset('iris')"
   ]
  },
  {
   "cell_type": "markdown",
   "metadata": {
    "id": "_2m1joqE6eEq"
   },
   "source": [
    "* pandas DataFrame"
   ]
  },
  {
   "cell_type": "code",
   "execution_count": null,
   "metadata": {
    "colab": {
     "base_uri": "https://localhost:8080/"
    },
    "executionInfo": {
     "elapsed": 96,
     "status": "ok",
     "timestamp": 1630370630812,
     "user": {
      "displayName": "이정구",
      "photoUrl": "https://lh3.googleusercontent.com/a-/AOh14Gg2atzeYT6QYFW3pcTDyi6aX0d6dqm_hj4W8fMg=s64",
      "userId": "17400242557229223804"
     },
     "user_tz": -540
    },
    "id": "F6MvmhtB53CS",
    "outputId": "06d0194f-b45b-4b1d-8ba8-d6a2c75d39f9"
   },
   "outputs": [
    {
     "name": "stdout",
     "output_type": "stream",
     "text": [
      "<class 'pandas.core.frame.DataFrame'>\n",
      "RangeIndex: 150 entries, 0 to 149\n",
      "Data columns (total 5 columns):\n",
      " #   Column        Non-Null Count  Dtype  \n",
      "---  ------        --------------  -----  \n",
      " 0   sepal_length  150 non-null    float64\n",
      " 1   sepal_width   150 non-null    float64\n",
      " 2   petal_length  150 non-null    float64\n",
      " 3   petal_width   150 non-null    float64\n",
      " 4   species       150 non-null    object \n",
      "dtypes: float64(4), object(1)\n",
      "memory usage: 6.0+ KB\n"
     ]
    }
   ],
   "source": [
    "iris.info()"
   ]
  },
  {
   "cell_type": "code",
   "execution_count": null,
   "metadata": {
    "colab": {
     "base_uri": "https://localhost:8080/",
     "height": 203
    },
    "executionInfo": {
     "elapsed": 32,
     "status": "ok",
     "timestamp": 1630370630814,
     "user": {
      "displayName": "이정구",
      "photoUrl": "https://lh3.googleusercontent.com/a-/AOh14Gg2atzeYT6QYFW3pcTDyi6aX0d6dqm_hj4W8fMg=s64",
      "userId": "17400242557229223804"
     },
     "user_tz": -540
    },
    "id": "7l2ojjz_D39D",
    "outputId": "7fd3cb93-c677-4a9b-b457-e1b92adb6018"
   },
   "outputs": [
    {
     "data": {
      "text/html": [
       "<div>\n",
       "<style scoped>\n",
       "    .dataframe tbody tr th:only-of-type {\n",
       "        vertical-align: middle;\n",
       "    }\n",
       "\n",
       "    .dataframe tbody tr th {\n",
       "        vertical-align: top;\n",
       "    }\n",
       "\n",
       "    .dataframe thead th {\n",
       "        text-align: right;\n",
       "    }\n",
       "</style>\n",
       "<table border=\"1\" class=\"dataframe\">\n",
       "  <thead>\n",
       "    <tr style=\"text-align: right;\">\n",
       "      <th></th>\n",
       "      <th>sepal_length</th>\n",
       "      <th>sepal_width</th>\n",
       "      <th>petal_length</th>\n",
       "      <th>petal_width</th>\n",
       "      <th>species</th>\n",
       "    </tr>\n",
       "  </thead>\n",
       "  <tbody>\n",
       "    <tr>\n",
       "      <th>0</th>\n",
       "      <td>5.1</td>\n",
       "      <td>3.5</td>\n",
       "      <td>1.4</td>\n",
       "      <td>0.2</td>\n",
       "      <td>setosa</td>\n",
       "    </tr>\n",
       "    <tr>\n",
       "      <th>1</th>\n",
       "      <td>4.9</td>\n",
       "      <td>3.0</td>\n",
       "      <td>1.4</td>\n",
       "      <td>0.2</td>\n",
       "      <td>setosa</td>\n",
       "    </tr>\n",
       "    <tr>\n",
       "      <th>2</th>\n",
       "      <td>4.7</td>\n",
       "      <td>3.2</td>\n",
       "      <td>1.3</td>\n",
       "      <td>0.2</td>\n",
       "      <td>setosa</td>\n",
       "    </tr>\n",
       "    <tr>\n",
       "      <th>3</th>\n",
       "      <td>4.6</td>\n",
       "      <td>3.1</td>\n",
       "      <td>1.5</td>\n",
       "      <td>0.2</td>\n",
       "      <td>setosa</td>\n",
       "    </tr>\n",
       "    <tr>\n",
       "      <th>4</th>\n",
       "      <td>5.0</td>\n",
       "      <td>3.6</td>\n",
       "      <td>1.4</td>\n",
       "      <td>0.2</td>\n",
       "      <td>setosa</td>\n",
       "    </tr>\n",
       "  </tbody>\n",
       "</table>\n",
       "</div>"
      ],
      "text/plain": [
       "   sepal_length  sepal_width  petal_length  petal_width species\n",
       "0           5.1          3.5           1.4          0.2  setosa\n",
       "1           4.9          3.0           1.4          0.2  setosa\n",
       "2           4.7          3.2           1.3          0.2  setosa\n",
       "3           4.6          3.1           1.5          0.2  setosa\n",
       "4           5.0          3.6           1.4          0.2  setosa"
      ]
     },
     "execution_count": 4,
     "metadata": {},
     "output_type": "execute_result"
    }
   ],
   "source": [
    "iris.head()"
   ]
  },
  {
   "cell_type": "markdown",
   "metadata": {
    "id": "0a9zRCoM6iHg"
   },
   "source": [
    "# I. Data Preprocessing"
   ]
  },
  {
   "cell_type": "markdown",
   "metadata": {
    "id": "WIq-NRIq659b"
   },
   "source": [
    "> ## 1) iris.Species 빈도분석"
   ]
  },
  {
   "cell_type": "markdown",
   "metadata": {
    "id": "sg3g1ycL0bj_"
   },
   "source": [
    "* Species : setosa, virginica, versicolor"
   ]
  },
  {
   "cell_type": "code",
   "execution_count": null,
   "metadata": {
    "colab": {
     "base_uri": "https://localhost:8080/"
    },
    "executionInfo": {
     "elapsed": 31,
     "status": "ok",
     "timestamp": 1630370630816,
     "user": {
      "displayName": "이정구",
      "photoUrl": "https://lh3.googleusercontent.com/a-/AOh14Gg2atzeYT6QYFW3pcTDyi6aX0d6dqm_hj4W8fMg=s64",
      "userId": "17400242557229223804"
     },
     "user_tz": -540
    },
    "id": "Ccv6L9LX6mBD",
    "outputId": "10fae508-0397-4aab-d902-c17865004d5a"
   },
   "outputs": [
    {
     "data": {
      "text/plain": [
       "setosa        50\n",
       "virginica     50\n",
       "versicolor    50\n",
       "Name: species, dtype: int64"
      ]
     },
     "execution_count": 5,
     "metadata": {},
     "output_type": "execute_result"
    }
   ],
   "source": [
    "iris.species.value_counts()"
   ]
  },
  {
   "cell_type": "markdown",
   "metadata": {
    "id": "JrKQmY9s7WzT"
   },
   "source": [
    "> ## 2) DataFrame to Array & Casting"
   ]
  },
  {
   "cell_type": "code",
   "execution_count": null,
   "metadata": {
    "colab": {
     "base_uri": "https://localhost:8080/"
    },
    "executionInfo": {
     "elapsed": 377,
     "status": "ok",
     "timestamp": 1630370631169,
     "user": {
      "displayName": "이정구",
      "photoUrl": "https://lh3.googleusercontent.com/a-/AOh14Gg2atzeYT6QYFW3pcTDyi6aX0d6dqm_hj4W8fMg=s64",
      "userId": "17400242557229223804"
     },
     "user_tz": -540
    },
    "id": "R9VIgOnfE4Ra",
    "outputId": "7bf8f14d-2695-4b10-da1a-2def2ffe3786"
   },
   "outputs": [
    {
     "data": {
      "text/plain": [
       "array([[5.1, 3.5, 1.4, 0.2, 'setosa'],\n",
       "       [4.9, 3.0, 1.4, 0.2, 'setosa'],\n",
       "       [4.7, 3.2, 1.3, 0.2, 'setosa'],\n",
       "       [4.6, 3.1, 1.5, 0.2, 'setosa'],\n",
       "       [5.0, 3.6, 1.4, 0.2, 'setosa'],\n",
       "       [5.4, 3.9, 1.7, 0.4, 'setosa'],\n",
       "       [4.6, 3.4, 1.4, 0.3, 'setosa'],\n",
       "       [5.0, 3.4, 1.5, 0.2, 'setosa'],\n",
       "       [4.4, 2.9, 1.4, 0.2, 'setosa'],\n",
       "       [4.9, 3.1, 1.5, 0.1, 'setosa'],\n",
       "       [5.4, 3.7, 1.5, 0.2, 'setosa'],\n",
       "       [4.8, 3.4, 1.6, 0.2, 'setosa'],\n",
       "       [4.8, 3.0, 1.4, 0.1, 'setosa'],\n",
       "       [4.3, 3.0, 1.1, 0.1, 'setosa'],\n",
       "       [5.8, 4.0, 1.2, 0.2, 'setosa'],\n",
       "       [5.7, 4.4, 1.5, 0.4, 'setosa'],\n",
       "       [5.4, 3.9, 1.3, 0.4, 'setosa'],\n",
       "       [5.1, 3.5, 1.4, 0.3, 'setosa'],\n",
       "       [5.7, 3.8, 1.7, 0.3, 'setosa'],\n",
       "       [5.1, 3.8, 1.5, 0.3, 'setosa'],\n",
       "       [5.4, 3.4, 1.7, 0.2, 'setosa'],\n",
       "       [5.1, 3.7, 1.5, 0.4, 'setosa'],\n",
       "       [4.6, 3.6, 1.0, 0.2, 'setosa'],\n",
       "       [5.1, 3.3, 1.7, 0.5, 'setosa'],\n",
       "       [4.8, 3.4, 1.9, 0.2, 'setosa'],\n",
       "       [5.0, 3.0, 1.6, 0.2, 'setosa'],\n",
       "       [5.0, 3.4, 1.6, 0.4, 'setosa'],\n",
       "       [5.2, 3.5, 1.5, 0.2, 'setosa'],\n",
       "       [5.2, 3.4, 1.4, 0.2, 'setosa'],\n",
       "       [4.7, 3.2, 1.6, 0.2, 'setosa'],\n",
       "       [4.8, 3.1, 1.6, 0.2, 'setosa'],\n",
       "       [5.4, 3.4, 1.5, 0.4, 'setosa'],\n",
       "       [5.2, 4.1, 1.5, 0.1, 'setosa'],\n",
       "       [5.5, 4.2, 1.4, 0.2, 'setosa'],\n",
       "       [4.9, 3.1, 1.5, 0.2, 'setosa'],\n",
       "       [5.0, 3.2, 1.2, 0.2, 'setosa'],\n",
       "       [5.5, 3.5, 1.3, 0.2, 'setosa'],\n",
       "       [4.9, 3.6, 1.4, 0.1, 'setosa'],\n",
       "       [4.4, 3.0, 1.3, 0.2, 'setosa'],\n",
       "       [5.1, 3.4, 1.5, 0.2, 'setosa'],\n",
       "       [5.0, 3.5, 1.3, 0.3, 'setosa'],\n",
       "       [4.5, 2.3, 1.3, 0.3, 'setosa'],\n",
       "       [4.4, 3.2, 1.3, 0.2, 'setosa'],\n",
       "       [5.0, 3.5, 1.6, 0.6, 'setosa'],\n",
       "       [5.1, 3.8, 1.9, 0.4, 'setosa'],\n",
       "       [4.8, 3.0, 1.4, 0.3, 'setosa'],\n",
       "       [5.1, 3.8, 1.6, 0.2, 'setosa'],\n",
       "       [4.6, 3.2, 1.4, 0.2, 'setosa'],\n",
       "       [5.3, 3.7, 1.5, 0.2, 'setosa'],\n",
       "       [5.0, 3.3, 1.4, 0.2, 'setosa'],\n",
       "       [7.0, 3.2, 4.7, 1.4, 'versicolor'],\n",
       "       [6.4, 3.2, 4.5, 1.5, 'versicolor'],\n",
       "       [6.9, 3.1, 4.9, 1.5, 'versicolor'],\n",
       "       [5.5, 2.3, 4.0, 1.3, 'versicolor'],\n",
       "       [6.5, 2.8, 4.6, 1.5, 'versicolor'],\n",
       "       [5.7, 2.8, 4.5, 1.3, 'versicolor'],\n",
       "       [6.3, 3.3, 4.7, 1.6, 'versicolor'],\n",
       "       [4.9, 2.4, 3.3, 1.0, 'versicolor'],\n",
       "       [6.6, 2.9, 4.6, 1.3, 'versicolor'],\n",
       "       [5.2, 2.7, 3.9, 1.4, 'versicolor'],\n",
       "       [5.0, 2.0, 3.5, 1.0, 'versicolor'],\n",
       "       [5.9, 3.0, 4.2, 1.5, 'versicolor'],\n",
       "       [6.0, 2.2, 4.0, 1.0, 'versicolor'],\n",
       "       [6.1, 2.9, 4.7, 1.4, 'versicolor'],\n",
       "       [5.6, 2.9, 3.6, 1.3, 'versicolor'],\n",
       "       [6.7, 3.1, 4.4, 1.4, 'versicolor'],\n",
       "       [5.6, 3.0, 4.5, 1.5, 'versicolor'],\n",
       "       [5.8, 2.7, 4.1, 1.0, 'versicolor'],\n",
       "       [6.2, 2.2, 4.5, 1.5, 'versicolor'],\n",
       "       [5.6, 2.5, 3.9, 1.1, 'versicolor'],\n",
       "       [5.9, 3.2, 4.8, 1.8, 'versicolor'],\n",
       "       [6.1, 2.8, 4.0, 1.3, 'versicolor'],\n",
       "       [6.3, 2.5, 4.9, 1.5, 'versicolor'],\n",
       "       [6.1, 2.8, 4.7, 1.2, 'versicolor'],\n",
       "       [6.4, 2.9, 4.3, 1.3, 'versicolor'],\n",
       "       [6.6, 3.0, 4.4, 1.4, 'versicolor'],\n",
       "       [6.8, 2.8, 4.8, 1.4, 'versicolor'],\n",
       "       [6.7, 3.0, 5.0, 1.7, 'versicolor'],\n",
       "       [6.0, 2.9, 4.5, 1.5, 'versicolor'],\n",
       "       [5.7, 2.6, 3.5, 1.0, 'versicolor'],\n",
       "       [5.5, 2.4, 3.8, 1.1, 'versicolor'],\n",
       "       [5.5, 2.4, 3.7, 1.0, 'versicolor'],\n",
       "       [5.8, 2.7, 3.9, 1.2, 'versicolor'],\n",
       "       [6.0, 2.7, 5.1, 1.6, 'versicolor'],\n",
       "       [5.4, 3.0, 4.5, 1.5, 'versicolor'],\n",
       "       [6.0, 3.4, 4.5, 1.6, 'versicolor'],\n",
       "       [6.7, 3.1, 4.7, 1.5, 'versicolor'],\n",
       "       [6.3, 2.3, 4.4, 1.3, 'versicolor'],\n",
       "       [5.6, 3.0, 4.1, 1.3, 'versicolor'],\n",
       "       [5.5, 2.5, 4.0, 1.3, 'versicolor'],\n",
       "       [5.5, 2.6, 4.4, 1.2, 'versicolor'],\n",
       "       [6.1, 3.0, 4.6, 1.4, 'versicolor'],\n",
       "       [5.8, 2.6, 4.0, 1.2, 'versicolor'],\n",
       "       [5.0, 2.3, 3.3, 1.0, 'versicolor'],\n",
       "       [5.6, 2.7, 4.2, 1.3, 'versicolor'],\n",
       "       [5.7, 3.0, 4.2, 1.2, 'versicolor'],\n",
       "       [5.7, 2.9, 4.2, 1.3, 'versicolor'],\n",
       "       [6.2, 2.9, 4.3, 1.3, 'versicolor'],\n",
       "       [5.1, 2.5, 3.0, 1.1, 'versicolor'],\n",
       "       [5.7, 2.8, 4.1, 1.3, 'versicolor'],\n",
       "       [6.3, 3.3, 6.0, 2.5, 'virginica'],\n",
       "       [5.8, 2.7, 5.1, 1.9, 'virginica'],\n",
       "       [7.1, 3.0, 5.9, 2.1, 'virginica'],\n",
       "       [6.3, 2.9, 5.6, 1.8, 'virginica'],\n",
       "       [6.5, 3.0, 5.8, 2.2, 'virginica'],\n",
       "       [7.6, 3.0, 6.6, 2.1, 'virginica'],\n",
       "       [4.9, 2.5, 4.5, 1.7, 'virginica'],\n",
       "       [7.3, 2.9, 6.3, 1.8, 'virginica'],\n",
       "       [6.7, 2.5, 5.8, 1.8, 'virginica'],\n",
       "       [7.2, 3.6, 6.1, 2.5, 'virginica'],\n",
       "       [6.5, 3.2, 5.1, 2.0, 'virginica'],\n",
       "       [6.4, 2.7, 5.3, 1.9, 'virginica'],\n",
       "       [6.8, 3.0, 5.5, 2.1, 'virginica'],\n",
       "       [5.7, 2.5, 5.0, 2.0, 'virginica'],\n",
       "       [5.8, 2.8, 5.1, 2.4, 'virginica'],\n",
       "       [6.4, 3.2, 5.3, 2.3, 'virginica'],\n",
       "       [6.5, 3.0, 5.5, 1.8, 'virginica'],\n",
       "       [7.7, 3.8, 6.7, 2.2, 'virginica'],\n",
       "       [7.7, 2.6, 6.9, 2.3, 'virginica'],\n",
       "       [6.0, 2.2, 5.0, 1.5, 'virginica'],\n",
       "       [6.9, 3.2, 5.7, 2.3, 'virginica'],\n",
       "       [5.6, 2.8, 4.9, 2.0, 'virginica'],\n",
       "       [7.7, 2.8, 6.7, 2.0, 'virginica'],\n",
       "       [6.3, 2.7, 4.9, 1.8, 'virginica'],\n",
       "       [6.7, 3.3, 5.7, 2.1, 'virginica'],\n",
       "       [7.2, 3.2, 6.0, 1.8, 'virginica'],\n",
       "       [6.2, 2.8, 4.8, 1.8, 'virginica'],\n",
       "       [6.1, 3.0, 4.9, 1.8, 'virginica'],\n",
       "       [6.4, 2.8, 5.6, 2.1, 'virginica'],\n",
       "       [7.2, 3.0, 5.8, 1.6, 'virginica'],\n",
       "       [7.4, 2.8, 6.1, 1.9, 'virginica'],\n",
       "       [7.9, 3.8, 6.4, 2.0, 'virginica'],\n",
       "       [6.4, 2.8, 5.6, 2.2, 'virginica'],\n",
       "       [6.3, 2.8, 5.1, 1.5, 'virginica'],\n",
       "       [6.1, 2.6, 5.6, 1.4, 'virginica'],\n",
       "       [7.7, 3.0, 6.1, 2.3, 'virginica'],\n",
       "       [6.3, 3.4, 5.6, 2.4, 'virginica'],\n",
       "       [6.4, 3.1, 5.5, 1.8, 'virginica'],\n",
       "       [6.0, 3.0, 4.8, 1.8, 'virginica'],\n",
       "       [6.9, 3.1, 5.4, 2.1, 'virginica'],\n",
       "       [6.7, 3.1, 5.6, 2.4, 'virginica'],\n",
       "       [6.9, 3.1, 5.1, 2.3, 'virginica'],\n",
       "       [5.8, 2.7, 5.1, 1.9, 'virginica'],\n",
       "       [6.8, 3.2, 5.9, 2.3, 'virginica'],\n",
       "       [6.7, 3.3, 5.7, 2.5, 'virginica'],\n",
       "       [6.7, 3.0, 5.2, 2.3, 'virginica'],\n",
       "       [6.3, 2.5, 5.0, 1.9, 'virginica'],\n",
       "       [6.5, 3.0, 5.2, 2.0, 'virginica'],\n",
       "       [6.2, 3.4, 5.4, 2.3, 'virginica'],\n",
       "       [5.9, 3.0, 5.1, 1.8, 'virginica']], dtype=object)"
      ]
     },
     "execution_count": 6,
     "metadata": {},
     "output_type": "execute_result"
    }
   ],
   "source": [
    "iris_AR = iris.values\n",
    "\n",
    "iris_AR"
   ]
  },
  {
   "cell_type": "markdown",
   "metadata": {
    "id": "zByopArAICpw"
   },
   "source": [
    "* object to float"
   ]
  },
  {
   "cell_type": "code",
   "execution_count": null,
   "metadata": {
    "colab": {
     "base_uri": "https://localhost:8080/"
    },
    "executionInfo": {
     "elapsed": 27,
     "status": "ok",
     "timestamp": 1630370631170,
     "user": {
      "displayName": "이정구",
      "photoUrl": "https://lh3.googleusercontent.com/a-/AOh14Gg2atzeYT6QYFW3pcTDyi6aX0d6dqm_hj4W8fMg=s64",
      "userId": "17400242557229223804"
     },
     "user_tz": -540
    },
    "id": "tPJYM6B3Y64I",
    "outputId": "e5c9d963-44ea-4c85-aff9-fb8cd18afaf2"
   },
   "outputs": [
    {
     "data": {
      "text/plain": [
       "((150, 4), (150,))"
      ]
     },
     "execution_count": 7,
     "metadata": {},
     "output_type": "execute_result"
    }
   ],
   "source": [
    "AR_X = iris_AR[:, 0:4].astype(float)\n",
    "AR_y = iris_AR[:, 4]\n",
    "\n",
    "AR_X.shape, AR_y.shape"
   ]
  },
  {
   "cell_type": "markdown",
   "metadata": {
    "id": "lUx516tc8E6Q"
   },
   "source": [
    "> ## 3) One Hot Encoding with sklearn & Keras"
   ]
  },
  {
   "cell_type": "markdown",
   "metadata": {
    "id": "9lm5fWHmIgOd"
   },
   "source": [
    "* LabelEncoder( )\n",
    " - ['setosa', 'virginica', 'virsicolor'] to [0, 1, 2]"
   ]
  },
  {
   "cell_type": "code",
   "execution_count": null,
   "metadata": {
    "colab": {
     "base_uri": "https://localhost:8080/"
    },
    "executionInfo": {
     "elapsed": 9,
     "status": "ok",
     "timestamp": 1630370631171,
     "user": {
      "displayName": "이정구",
      "photoUrl": "https://lh3.googleusercontent.com/a-/AOh14Gg2atzeYT6QYFW3pcTDyi6aX0d6dqm_hj4W8fMg=s64",
      "userId": "17400242557229223804"
     },
     "user_tz": -540
    },
    "id": "iFhNzeIMbXyV",
    "outputId": "d5d139c6-2a1f-447f-df98-5c56776c8d3a"
   },
   "outputs": [
    {
     "data": {
      "text/plain": [
       "array([0, 0, 0, 0, 0, 0, 0, 0, 0, 0, 0, 0, 0, 0, 0, 0, 0, 0, 0, 0, 0, 0,\n",
       "       0, 0, 0, 0, 0, 0, 0, 0, 0, 0, 0, 0, 0, 0, 0, 0, 0, 0, 0, 0, 0, 0,\n",
       "       0, 0, 0, 0, 0, 0, 1, 1, 1, 1, 1, 1, 1, 1, 1, 1, 1, 1, 1, 1, 1, 1,\n",
       "       1, 1, 1, 1, 1, 1, 1, 1, 1, 1, 1, 1, 1, 1, 1, 1, 1, 1, 1, 1, 1, 1,\n",
       "       1, 1, 1, 1, 1, 1, 1, 1, 1, 1, 1, 1, 2, 2, 2, 2, 2, 2, 2, 2, 2, 2,\n",
       "       2, 2, 2, 2, 2, 2, 2, 2, 2, 2, 2, 2, 2, 2, 2, 2, 2, 2, 2, 2, 2, 2,\n",
       "       2, 2, 2, 2, 2, 2, 2, 2, 2, 2, 2, 2, 2, 2, 2, 2, 2, 2])"
      ]
     },
     "execution_count": 8,
     "metadata": {},
     "output_type": "execute_result"
    }
   ],
   "source": [
    "from sklearn.preprocessing import LabelEncoder\n",
    "\n",
    "encoder =  LabelEncoder()\n",
    "AR_yLBE = encoder.fit_transform(AR_y)\n",
    "\n",
    "AR_yLBE"
   ]
  },
  {
   "cell_type": "markdown",
   "metadata": {
    "id": "k7LEIdH3JAtw"
   },
   "source": [
    "* One-Hot Encoding - to_categorical( )"
   ]
  },
  {
   "cell_type": "code",
   "execution_count": null,
   "metadata": {
    "colab": {
     "base_uri": "https://localhost:8080/"
    },
    "executionInfo": {
     "elapsed": 2734,
     "status": "ok",
     "timestamp": 1630370633900,
     "user": {
      "displayName": "이정구",
      "photoUrl": "https://lh3.googleusercontent.com/a-/AOh14Gg2atzeYT6QYFW3pcTDyi6aX0d6dqm_hj4W8fMg=s64",
      "userId": "17400242557229223804"
     },
     "user_tz": -540
    },
    "id": "hxdLQPuuZQ13",
    "outputId": "c4ee67d3-a481-4dbc-ccb4-9ccb1a774aa4"
   },
   "outputs": [
    {
     "data": {
      "text/plain": [
       "array([[1., 0., 0.],\n",
       "       [1., 0., 0.],\n",
       "       [1., 0., 0.],\n",
       "       [1., 0., 0.],\n",
       "       [1., 0., 0.],\n",
       "       [1., 0., 0.],\n",
       "       [1., 0., 0.],\n",
       "       [1., 0., 0.],\n",
       "       [1., 0., 0.],\n",
       "       [1., 0., 0.],\n",
       "       [1., 0., 0.],\n",
       "       [1., 0., 0.],\n",
       "       [1., 0., 0.],\n",
       "       [1., 0., 0.],\n",
       "       [1., 0., 0.],\n",
       "       [1., 0., 0.],\n",
       "       [1., 0., 0.],\n",
       "       [1., 0., 0.],\n",
       "       [1., 0., 0.],\n",
       "       [1., 0., 0.],\n",
       "       [1., 0., 0.],\n",
       "       [1., 0., 0.],\n",
       "       [1., 0., 0.],\n",
       "       [1., 0., 0.],\n",
       "       [1., 0., 0.],\n",
       "       [1., 0., 0.],\n",
       "       [1., 0., 0.],\n",
       "       [1., 0., 0.],\n",
       "       [1., 0., 0.],\n",
       "       [1., 0., 0.],\n",
       "       [1., 0., 0.],\n",
       "       [1., 0., 0.],\n",
       "       [1., 0., 0.],\n",
       "       [1., 0., 0.],\n",
       "       [1., 0., 0.],\n",
       "       [1., 0., 0.],\n",
       "       [1., 0., 0.],\n",
       "       [1., 0., 0.],\n",
       "       [1., 0., 0.],\n",
       "       [1., 0., 0.],\n",
       "       [1., 0., 0.],\n",
       "       [1., 0., 0.],\n",
       "       [1., 0., 0.],\n",
       "       [1., 0., 0.],\n",
       "       [1., 0., 0.],\n",
       "       [1., 0., 0.],\n",
       "       [1., 0., 0.],\n",
       "       [1., 0., 0.],\n",
       "       [1., 0., 0.],\n",
       "       [1., 0., 0.],\n",
       "       [0., 1., 0.],\n",
       "       [0., 1., 0.],\n",
       "       [0., 1., 0.],\n",
       "       [0., 1., 0.],\n",
       "       [0., 1., 0.],\n",
       "       [0., 1., 0.],\n",
       "       [0., 1., 0.],\n",
       "       [0., 1., 0.],\n",
       "       [0., 1., 0.],\n",
       "       [0., 1., 0.],\n",
       "       [0., 1., 0.],\n",
       "       [0., 1., 0.],\n",
       "       [0., 1., 0.],\n",
       "       [0., 1., 0.],\n",
       "       [0., 1., 0.],\n",
       "       [0., 1., 0.],\n",
       "       [0., 1., 0.],\n",
       "       [0., 1., 0.],\n",
       "       [0., 1., 0.],\n",
       "       [0., 1., 0.],\n",
       "       [0., 1., 0.],\n",
       "       [0., 1., 0.],\n",
       "       [0., 1., 0.],\n",
       "       [0., 1., 0.],\n",
       "       [0., 1., 0.],\n",
       "       [0., 1., 0.],\n",
       "       [0., 1., 0.],\n",
       "       [0., 1., 0.],\n",
       "       [0., 1., 0.],\n",
       "       [0., 1., 0.],\n",
       "       [0., 1., 0.],\n",
       "       [0., 1., 0.],\n",
       "       [0., 1., 0.],\n",
       "       [0., 1., 0.],\n",
       "       [0., 1., 0.],\n",
       "       [0., 1., 0.],\n",
       "       [0., 1., 0.],\n",
       "       [0., 1., 0.],\n",
       "       [0., 1., 0.],\n",
       "       [0., 1., 0.],\n",
       "       [0., 1., 0.],\n",
       "       [0., 1., 0.],\n",
       "       [0., 1., 0.],\n",
       "       [0., 1., 0.],\n",
       "       [0., 1., 0.],\n",
       "       [0., 1., 0.],\n",
       "       [0., 1., 0.],\n",
       "       [0., 1., 0.],\n",
       "       [0., 1., 0.],\n",
       "       [0., 1., 0.],\n",
       "       [0., 0., 1.],\n",
       "       [0., 0., 1.],\n",
       "       [0., 0., 1.],\n",
       "       [0., 0., 1.],\n",
       "       [0., 0., 1.],\n",
       "       [0., 0., 1.],\n",
       "       [0., 0., 1.],\n",
       "       [0., 0., 1.],\n",
       "       [0., 0., 1.],\n",
       "       [0., 0., 1.],\n",
       "       [0., 0., 1.],\n",
       "       [0., 0., 1.],\n",
       "       [0., 0., 1.],\n",
       "       [0., 0., 1.],\n",
       "       [0., 0., 1.],\n",
       "       [0., 0., 1.],\n",
       "       [0., 0., 1.],\n",
       "       [0., 0., 1.],\n",
       "       [0., 0., 1.],\n",
       "       [0., 0., 1.],\n",
       "       [0., 0., 1.],\n",
       "       [0., 0., 1.],\n",
       "       [0., 0., 1.],\n",
       "       [0., 0., 1.],\n",
       "       [0., 0., 1.],\n",
       "       [0., 0., 1.],\n",
       "       [0., 0., 1.],\n",
       "       [0., 0., 1.],\n",
       "       [0., 0., 1.],\n",
       "       [0., 0., 1.],\n",
       "       [0., 0., 1.],\n",
       "       [0., 0., 1.],\n",
       "       [0., 0., 1.],\n",
       "       [0., 0., 1.],\n",
       "       [0., 0., 1.],\n",
       "       [0., 0., 1.],\n",
       "       [0., 0., 1.],\n",
       "       [0., 0., 1.],\n",
       "       [0., 0., 1.],\n",
       "       [0., 0., 1.],\n",
       "       [0., 0., 1.],\n",
       "       [0., 0., 1.],\n",
       "       [0., 0., 1.],\n",
       "       [0., 0., 1.],\n",
       "       [0., 0., 1.],\n",
       "       [0., 0., 1.],\n",
       "       [0., 0., 1.],\n",
       "       [0., 0., 1.],\n",
       "       [0., 0., 1.],\n",
       "       [0., 0., 1.]], dtype=float32)"
      ]
     },
     "execution_count": 9,
     "metadata": {},
     "output_type": "execute_result"
    }
   ],
   "source": [
    "from tensorflow.keras.utils import to_categorical\n",
    "\n",
    "AR_yOHE = to_categorical(AR_yLBE)\n",
    "\n",
    "AR_yOHE"
   ]
  },
  {
   "cell_type": "markdown",
   "metadata": {
    "id": "I2Forf0oXF8c"
   },
   "source": [
    "> ## 4) Version check"
   ]
  },
  {
   "cell_type": "markdown",
   "metadata": {
    "id": "uPaHtu9NOYaX"
   },
   "source": [
    "* tensorFlow Version"
   ]
  },
  {
   "cell_type": "code",
   "execution_count": null,
   "metadata": {
    "colab": {
     "base_uri": "https://localhost:8080/",
     "height": 35
    },
    "executionInfo": {
     "elapsed": 44,
     "status": "ok",
     "timestamp": 1630370633903,
     "user": {
      "displayName": "이정구",
      "photoUrl": "https://lh3.googleusercontent.com/a-/AOh14Gg2atzeYT6QYFW3pcTDyi6aX0d6dqm_hj4W8fMg=s64",
      "userId": "17400242557229223804"
     },
     "user_tz": -540
    },
    "id": "X6xKtsfgOTso",
    "outputId": "15b40eee-e472-4838-9adb-2147c38976f1"
   },
   "outputs": [
    {
     "data": {
      "application/vnd.google.colaboratory.intrinsic+json": {
       "type": "string"
      },
      "text/plain": [
       "'2.6.0'"
      ]
     },
     "execution_count": 10,
     "metadata": {},
     "output_type": "execute_result"
    }
   ],
   "source": [
    "import tensorflow\n",
    "\n",
    "tensorflow.__version__"
   ]
  },
  {
   "cell_type": "markdown",
   "metadata": {
    "id": "Ydu4ux7dOm2N"
   },
   "source": [
    "* Keras Version"
   ]
  },
  {
   "cell_type": "code",
   "execution_count": null,
   "metadata": {
    "colab": {
     "base_uri": "https://localhost:8080/",
     "height": 35
    },
    "executionInfo": {
     "elapsed": 39,
     "status": "ok",
     "timestamp": 1630370633905,
     "user": {
      "displayName": "이정구",
      "photoUrl": "https://lh3.googleusercontent.com/a-/AOh14Gg2atzeYT6QYFW3pcTDyi6aX0d6dqm_hj4W8fMg=s64",
      "userId": "17400242557229223804"
     },
     "user_tz": -540
    },
    "id": "zhMz9QSBOjTK",
    "outputId": "c03b815b-93a9-4052-e286-5901a4e612e4"
   },
   "outputs": [
    {
     "data": {
      "application/vnd.google.colaboratory.intrinsic+json": {
       "type": "string"
      },
      "text/plain": [
       "'2.6.0'"
      ]
     },
     "execution_count": 11,
     "metadata": {},
     "output_type": "execute_result"
    }
   ],
   "source": [
    "import keras\n",
    "\n",
    "keras.__version__"
   ]
  },
  {
   "cell_type": "markdown",
   "metadata": {
    "id": "8zievJ6A8dQc"
   },
   "source": [
    "> ## 5) train_test_split( )"
   ]
  },
  {
   "cell_type": "markdown",
   "metadata": {
    "id": "CT8iuCjxJdIn"
   },
   "source": [
    "* 7 : 3"
   ]
  },
  {
   "cell_type": "code",
   "execution_count": null,
   "metadata": {
    "colab": {
     "base_uri": "https://localhost:8080/"
    },
    "executionInfo": {
     "elapsed": 33,
     "status": "ok",
     "timestamp": 1630370633906,
     "user": {
      "displayName": "이정구",
      "photoUrl": "https://lh3.googleusercontent.com/a-/AOh14Gg2atzeYT6QYFW3pcTDyi6aX0d6dqm_hj4W8fMg=s64",
      "userId": "17400242557229223804"
     },
     "user_tz": -540
    },
    "id": "WIiSOik0dGct",
    "outputId": "6826f9f6-b764-4f64-e467-b0533a4c85d7"
   },
   "outputs": [
    {
     "data": {
      "text/plain": [
       "((105, 4), (45, 4), (105, 3), (45, 3))"
      ]
     },
     "execution_count": 12,
     "metadata": {},
     "output_type": "execute_result"
    }
   ],
   "source": [
    "from sklearn.model_selection import train_test_split\n",
    "\n",
    "X_train, X_test, y_train, y_test = train_test_split(AR_X, AR_yOHE, \n",
    "                                                    test_size = 0.3, \n",
    "                                                    random_state = 2045) \n",
    "\n",
    "X_train.shape, X_test.shape, y_train.shape, y_test.shape"
   ]
  },
  {
   "cell_type": "markdown",
   "metadata": {
    "id": "_WuSRwBd8oxV"
   },
   "source": [
    "# II. Keras Modeling"
   ]
  },
  {
   "cell_type": "markdown",
   "metadata": {
    "id": "5RHmF1kr9heb"
   },
   "source": [
    "> ## 1) Keras models & layers Import"
   ]
  },
  {
   "cell_type": "code",
   "execution_count": null,
   "metadata": {
    "id": "K0DN73_6duqG"
   },
   "outputs": [],
   "source": [
    "from tensorflow.keras import models \n",
    "from tensorflow.keras import layers"
   ]
  },
  {
   "cell_type": "markdown",
   "metadata": {
    "id": "-rDeiCMV-eKV"
   },
   "source": [
    "> ## 2) Model Define"
   ]
  },
  {
   "cell_type": "markdown",
   "metadata": {
    "id": "1ix6_3Tk-yWW"
   },
   "source": [
    "* 모델 신경망 구조 정의"
   ]
  },
  {
   "cell_type": "code",
   "execution_count": null,
   "metadata": {
    "id": "DJ8uzQMSemA-"
   },
   "outputs": [],
   "source": [
    "Model_iris = models.Sequential()\n",
    "\n",
    "Model_iris.add(layers.Dense(16, activation = 'relu', input_shape = (4,)))\n",
    "Model_iris.add(layers.Dense(8, activation = 'relu'))\n",
    "Model_iris.add(layers.Dense(3, activation = 'softmax'))"
   ]
  },
  {
   "cell_type": "markdown",
   "metadata": {
    "id": "U0vAUcHx-zdW"
   },
   "source": [
    "* 모델 구조 확인\n",
    " - Layers & Parameters"
   ]
  },
  {
   "cell_type": "code",
   "execution_count": null,
   "metadata": {
    "colab": {
     "base_uri": "https://localhost:8080/"
    },
    "executionInfo": {
     "elapsed": 13,
     "status": "ok",
     "timestamp": 1630370634307,
     "user": {
      "displayName": "이정구",
      "photoUrl": "https://lh3.googleusercontent.com/a-/AOh14Gg2atzeYT6QYFW3pcTDyi6aX0d6dqm_hj4W8fMg=s64",
      "userId": "17400242557229223804"
     },
     "user_tz": -540
    },
    "id": "1sfOdgz2jQeM",
    "outputId": "5c39dc19-9b7c-438d-f54b-0461025e8ac4"
   },
   "outputs": [
    {
     "name": "stdout",
     "output_type": "stream",
     "text": [
      "Model: \"sequential\"\n",
      "_________________________________________________________________\n",
      "Layer (type)                 Output Shape              Param #   \n",
      "=================================================================\n",
      "dense (Dense)                (None, 16)                80        \n",
      "_________________________________________________________________\n",
      "dense_1 (Dense)              (None, 8)                 136       \n",
      "_________________________________________________________________\n",
      "dense_2 (Dense)              (None, 3)                 27        \n",
      "=================================================================\n",
      "Total params: 243\n",
      "Trainable params: 243\n",
      "Non-trainable params: 0\n",
      "_________________________________________________________________\n"
     ]
    }
   ],
   "source": [
    "Model_iris.summary()"
   ]
  },
  {
   "cell_type": "markdown",
   "metadata": {
    "id": "j9nJ82S8TmOW"
   },
   "source": [
    "* 모델 레이어 시각화"
   ]
  },
  {
   "cell_type": "code",
   "execution_count": null,
   "metadata": {
    "colab": {
     "base_uri": "https://localhost:8080/",
     "height": 422
    },
    "executionInfo": {
     "elapsed": 379,
     "status": "ok",
     "timestamp": 1630370634681,
     "user": {
      "displayName": "이정구",
      "photoUrl": "https://lh3.googleusercontent.com/a-/AOh14Gg2atzeYT6QYFW3pcTDyi6aX0d6dqm_hj4W8fMg=s64",
      "userId": "17400242557229223804"
     },
     "user_tz": -540
    },
    "id": "SqtCd2AuTWfv",
    "outputId": "a78345cc-117f-4abf-ffee-c1328b45d662"
   },
   "outputs": [
    {
     "data": {
      "image/png": "[encoded data removed]",
      "text/plain": [
       "<IPython.core.display.Image object>"
      ]
     },
     "execution_count": 16,
     "metadata": {},
     "output_type": "execute_result"
    }
   ],
   "source": [
    "from tensorflow.keras import utils\n",
    "\n",
    "utils.plot_model(Model_iris,\n",
    "                 show_shapes = True,\n",
    "                 show_dtype = True)"
   ]
  },
  {
   "cell_type": "markdown",
   "metadata": {
    "id": "3jTRDB6y-5Mx"
   },
   "source": [
    "> ## 3) Model Compile"
   ]
  },
  {
   "cell_type": "markdown",
   "metadata": {
    "id": "iixRFcKM_PUJ"
   },
   "source": [
    "* 모델 학습방법 설정"
   ]
  },
  {
   "cell_type": "code",
   "execution_count": null,
   "metadata": {
    "id": "Qe9CXqyKjHhI"
   },
   "outputs": [],
   "source": [
    "Model_iris.compile(loss = 'categorical_crossentropy',\n",
    "                   optimizer = 'adam',\n",
    "                   metrics = ['accuracy'])"
   ]
  },
  {
   "cell_type": "markdown",
   "metadata": {
    "id": "y7zLg_l4_BvM"
   },
   "source": [
    "> ## 4) Model Fit"
   ]
  },
  {
   "cell_type": "markdown",
   "metadata": {
    "id": "BLjGgSpG_UiT"
   },
   "source": [
    "* 모델 학습 수행"
   ]
  },
  {
   "cell_type": "code",
   "execution_count": null,
   "metadata": {
    "colab": {
     "base_uri": "https://localhost:8080/"
    },
    "executionInfo": {
     "elapsed": 31544,
     "status": "ok",
     "timestamp": 1630370666221,
     "user": {
      "displayName": "이정구",
      "photoUrl": "https://lh3.googleusercontent.com/a-/AOh14Gg2atzeYT6QYFW3pcTDyi6aX0d6dqm_hj4W8fMg=s64",
      "userId": "17400242557229223804"
     },
     "user_tz": -540
    },
    "id": "1J-5DPpUjKPZ",
    "outputId": "f4edadb1-ae92-423e-fb58-3ce216bf2402"
   },
   "outputs": [
    {
     "name": "stdout",
     "output_type": "stream",
     "text": [
      "Epoch 1/500\n",
      "15/15 [==============================] - 1s 25ms/step - loss: 1.0945 - accuracy: 0.4000 - val_loss: 1.1173 - val_accuracy: 0.5333\n",
      "Epoch 2/500\n",
      "15/15 [==============================] - 0s 3ms/step - loss: 1.0371 - accuracy: 0.3714 - val_loss: 1.0489 - val_accuracy: 0.3111\n",
      "Epoch 3/500\n",
      "15/15 [==============================] - 0s 3ms/step - loss: 0.9816 - accuracy: 0.3524 - val_loss: 0.9907 - val_accuracy: 0.3333\n",
      "Epoch 4/500\n",
      "15/15 [==============================] - 0s 4ms/step - loss: 0.9324 - accuracy: 0.5238 - val_loss: 0.9453 - val_accuracy: 0.4000\n",
      "Epoch 5/500\n",
      "15/15 [==============================] - 0s 3ms/step - loss: 0.8944 - accuracy: 0.6571 - val_loss: 0.8981 - val_accuracy: 0.7333\n",
      "Epoch 6/500\n",
      "15/15 [==============================] - 0s 4ms/step - loss: 0.8620 - accuracy: 0.7714 - val_loss: 0.8711 - val_accuracy: 0.8667\n",
      "Epoch 7/500\n",
      "15/15 [==============================] - 0s 4ms/step - loss: 0.8428 - accuracy: 0.7429 - val_loss: 0.8520 - val_accuracy: 0.8889\n",
      "Epoch 8/500\n",
      "15/15 [==============================] - 0s 3ms/step - loss: 0.8291 - accuracy: 0.8857 - val_loss: 0.8365 - val_accuracy: 0.9778\n",
      "Epoch 9/500\n",
      "15/15 [==============================] - 0s 4ms/step - loss: 0.8085 - accuracy: 0.8952 - val_loss: 0.8227 - val_accuracy: 0.8889\n",
      "Epoch 10/500\n",
      "15/15 [==============================] - 0s 3ms/step - loss: 0.7960 - accuracy: 0.7905 - val_loss: 0.8107 - val_accuracy: 0.7556\n",
      "Epoch 11/500\n",
      "15/15 [==============================] - 0s 3ms/step - loss: 0.7909 - accuracy: 0.8667 - val_loss: 0.7991 - val_accuracy: 0.9778\n",
      "Epoch 12/500\n",
      "15/15 [==============================] - 0s 3ms/step - loss: 0.7713 - accuracy: 0.8667 - val_loss: 0.7880 - val_accuracy: 0.7556\n",
      "Epoch 13/500\n",
      "15/15 [==============================] - 0s 4ms/step - loss: 0.7617 - accuracy: 0.7619 - val_loss: 0.7775 - val_accuracy: 0.7556\n",
      "Epoch 14/500\n",
      "15/15 [==============================] - 0s 4ms/step - loss: 0.7529 - accuracy: 0.8095 - val_loss: 0.7672 - val_accuracy: 0.8000\n",
      "Epoch 15/500\n",
      "15/15 [==============================] - 0s 3ms/step - loss: 0.7413 - accuracy: 0.9048 - val_loss: 0.7566 - val_accuracy: 1.0000\n",
      "Epoch 16/500\n",
      "15/15 [==============================] - 0s 4ms/step - loss: 0.7329 - accuracy: 0.9143 - val_loss: 0.7471 - val_accuracy: 0.9333\n",
      "Epoch 17/500\n",
      "15/15 [==============================] - 0s 4ms/step - loss: 0.7280 - accuracy: 0.9524 - val_loss: 0.7394 - val_accuracy: 1.0000\n",
      "Epoch 18/500\n",
      "15/15 [==============================] - 0s 4ms/step - loss: 0.7196 - accuracy: 0.8381 - val_loss: 0.7308 - val_accuracy: 0.7778\n",
      "Epoch 19/500\n",
      "15/15 [==============================] - 0s 3ms/step - loss: 0.7089 - accuracy: 0.8190 - val_loss: 0.7213 - val_accuracy: 0.8222\n",
      "Epoch 20/500\n",
      "15/15 [==============================] - 0s 3ms/step - loss: 0.6983 - accuracy: 0.9333 - val_loss: 0.7127 - val_accuracy: 1.0000\n",
      "Epoch 21/500\n",
      "15/15 [==============================] - 0s 3ms/step - loss: 0.6908 - accuracy: 0.9524 - val_loss: 0.7029 - val_accuracy: 0.9778\n",
      "Epoch 22/500\n",
      "15/15 [==============================] - 0s 4ms/step - loss: 0.6855 - accuracy: 0.9048 - val_loss: 0.6945 - val_accuracy: 1.0000\n",
      "Epoch 23/500\n",
      "15/15 [==============================] - 0s 3ms/step - loss: 0.6741 - accuracy: 0.9333 - val_loss: 0.6864 - val_accuracy: 0.9333\n",
      "Epoch 24/500\n",
      "15/15 [==============================] - 0s 3ms/step - loss: 0.6692 - accuracy: 0.9048 - val_loss: 0.6800 - val_accuracy: 0.8222\n",
      "Epoch 25/500\n",
      "15/15 [==============================] - 0s 4ms/step - loss: 0.6626 - accuracy: 0.8952 - val_loss: 0.6701 - val_accuracy: 1.0000\n",
      "Epoch 26/500\n",
      "15/15 [==============================] - 0s 4ms/step - loss: 0.6485 - accuracy: 0.9333 - val_loss: 0.6611 - val_accuracy: 0.9333\n",
      "Epoch 27/500\n",
      "15/15 [==============================] - 0s 4ms/step - loss: 0.6412 - accuracy: 0.9048 - val_loss: 0.6499 - val_accuracy: 1.0000\n",
      "Epoch 28/500\n",
      "15/15 [==============================] - 0s 4ms/step - loss: 0.6274 - accuracy: 0.9524 - val_loss: 0.6342 - val_accuracy: 1.0000\n",
      "Epoch 29/500\n",
      "15/15 [==============================] - 0s 3ms/step - loss: 0.6110 - accuracy: 0.9524 - val_loss: 0.6171 - val_accuracy: 1.0000\n",
      "Epoch 30/500\n",
      "15/15 [==============================] - 0s 3ms/step - loss: 0.5981 - accuracy: 0.9524 - val_loss: 0.6010 - val_accuracy: 1.0000\n",
      "Epoch 31/500\n",
      "15/15 [==============================] - 0s 3ms/step - loss: 0.5823 - accuracy: 0.9524 - val_loss: 0.5883 - val_accuracy: 0.9778\n",
      "Epoch 32/500\n",
      "15/15 [==============================] - 0s 3ms/step - loss: 0.5674 - accuracy: 0.9524 - val_loss: 0.5716 - val_accuracy: 1.0000\n",
      "Epoch 33/500\n",
      "15/15 [==============================] - 0s 3ms/step - loss: 0.5576 - accuracy: 0.9619 - val_loss: 0.5583 - val_accuracy: 1.0000\n",
      "Epoch 34/500\n",
      "15/15 [==============================] - 0s 3ms/step - loss: 0.5410 - accuracy: 0.9619 - val_loss: 0.5447 - val_accuracy: 1.0000\n",
      "Epoch 35/500\n",
      "15/15 [==============================] - 0s 4ms/step - loss: 0.5339 - accuracy: 0.9619 - val_loss: 0.5321 - val_accuracy: 1.0000\n",
      "Epoch 36/500\n",
      "15/15 [==============================] - 0s 3ms/step - loss: 0.5174 - accuracy: 0.9619 - val_loss: 0.5250 - val_accuracy: 0.9778\n",
      "Epoch 37/500\n",
      "15/15 [==============================] - 0s 3ms/step - loss: 0.5052 - accuracy: 0.9619 - val_loss: 0.5086 - val_accuracy: 1.0000\n",
      "Epoch 38/500\n",
      "15/15 [==============================] - 0s 3ms/step - loss: 0.4945 - accuracy: 0.9619 - val_loss: 0.4967 - val_accuracy: 1.0000\n",
      "Epoch 39/500\n",
      "15/15 [==============================] - 0s 3ms/step - loss: 0.4847 - accuracy: 0.9619 - val_loss: 0.4853 - val_accuracy: 1.0000\n",
      "Epoch 40/500\n",
      "15/15 [==============================] - 0s 4ms/step - loss: 0.4760 - accuracy: 0.9619 - val_loss: 0.4749 - val_accuracy: 1.0000\n",
      "Epoch 41/500\n",
      "15/15 [==============================] - 0s 4ms/step - loss: 0.4665 - accuracy: 0.9714 - val_loss: 0.4665 - val_accuracy: 0.9778\n",
      "Epoch 42/500\n",
      "15/15 [==============================] - 0s 4ms/step - loss: 0.4542 - accuracy: 0.9524 - val_loss: 0.4551 - val_accuracy: 1.0000\n",
      "Epoch 43/500\n",
      "15/15 [==============================] - 0s 3ms/step - loss: 0.4484 - accuracy: 0.9524 - val_loss: 0.4444 - val_accuracy: 1.0000\n",
      "Epoch 44/500\n",
      "15/15 [==============================] - 0s 4ms/step - loss: 0.4381 - accuracy: 0.9619 - val_loss: 0.4359 - val_accuracy: 1.0000\n",
      "Epoch 45/500\n",
      "15/15 [==============================] - 0s 4ms/step - loss: 0.4287 - accuracy: 0.9714 - val_loss: 0.4258 - val_accuracy: 1.0000\n",
      "Epoch 46/500\n",
      "15/15 [==============================] - 0s 4ms/step - loss: 0.4252 - accuracy: 0.9524 - val_loss: 0.4165 - val_accuracy: 1.0000\n",
      "Epoch 47/500\n",
      "15/15 [==============================] - 0s 3ms/step - loss: 0.4117 - accuracy: 0.9714 - val_loss: 0.4085 - val_accuracy: 1.0000\n",
      "Epoch 48/500\n",
      "15/15 [==============================] - 0s 5ms/step - loss: 0.4072 - accuracy: 0.9714 - val_loss: 0.3999 - val_accuracy: 1.0000\n",
      "Epoch 49/500\n",
      "15/15 [==============================] - 0s 4ms/step - loss: 0.4001 - accuracy: 0.9619 - val_loss: 0.3926 - val_accuracy: 1.0000\n",
      "Epoch 50/500\n",
      "15/15 [==============================] - 0s 4ms/step - loss: 0.3859 - accuracy: 0.9714 - val_loss: 0.3854 - val_accuracy: 1.0000\n",
      "Epoch 51/500\n",
      "15/15 [==============================] - 0s 3ms/step - loss: 0.3884 - accuracy: 0.9714 - val_loss: 0.3767 - val_accuracy: 1.0000\n",
      "Epoch 52/500\n",
      "15/15 [==============================] - 0s 3ms/step - loss: 0.3867 - accuracy: 0.9619 - val_loss: 0.3697 - val_accuracy: 1.0000\n",
      "Epoch 53/500\n",
      "15/15 [==============================] - 0s 4ms/step - loss: 0.3774 - accuracy: 0.9524 - val_loss: 0.3635 - val_accuracy: 1.0000\n",
      "Epoch 54/500\n",
      "15/15 [==============================] - 0s 4ms/step - loss: 0.3604 - accuracy: 0.9714 - val_loss: 0.3586 - val_accuracy: 0.9778\n",
      "Epoch 55/500\n",
      "15/15 [==============================] - 0s 3ms/step - loss: 0.3624 - accuracy: 0.9714 - val_loss: 0.3494 - val_accuracy: 1.0000\n",
      "Epoch 56/500\n",
      "15/15 [==============================] - 0s 4ms/step - loss: 0.3505 - accuracy: 0.9619 - val_loss: 0.3436 - val_accuracy: 1.0000\n",
      "Epoch 57/500\n",
      "15/15 [==============================] - 0s 3ms/step - loss: 0.3453 - accuracy: 0.9714 - val_loss: 0.3373 - val_accuracy: 1.0000\n",
      "Epoch 58/500\n",
      "15/15 [==============================] - 0s 4ms/step - loss: 0.3401 - accuracy: 0.9810 - val_loss: 0.3311 - val_accuracy: 1.0000\n",
      "Epoch 59/500\n",
      "15/15 [==============================] - 0s 3ms/step - loss: 0.3339 - accuracy: 0.9714 - val_loss: 0.3245 - val_accuracy: 1.0000\n",
      "Epoch 60/500\n",
      "15/15 [==============================] - 0s 3ms/step - loss: 0.3304 - accuracy: 0.9714 - val_loss: 0.3188 - val_accuracy: 1.0000\n",
      "Epoch 61/500\n",
      "15/15 [==============================] - 0s 4ms/step - loss: 0.3241 - accuracy: 0.9714 - val_loss: 0.3139 - val_accuracy: 1.0000\n",
      "Epoch 62/500\n",
      "15/15 [==============================] - 0s 3ms/step - loss: 0.3213 - accuracy: 0.9714 - val_loss: 0.3081 - val_accuracy: 1.0000\n",
      "Epoch 63/500\n",
      "15/15 [==============================] - 0s 5ms/step - loss: 0.3159 - accuracy: 0.9810 - val_loss: 0.3027 - val_accuracy: 1.0000\n",
      "Epoch 64/500\n",
      "15/15 [==============================] - 0s 3ms/step - loss: 0.3100 - accuracy: 0.9619 - val_loss: 0.2975 - val_accuracy: 1.0000\n",
      "Epoch 65/500\n",
      "15/15 [==============================] - 0s 4ms/step - loss: 0.3038 - accuracy: 0.9714 - val_loss: 0.2925 - val_accuracy: 1.0000\n",
      "Epoch 66/500\n",
      "15/15 [==============================] - 0s 4ms/step - loss: 0.2994 - accuracy: 0.9714 - val_loss: 0.2876 - val_accuracy: 1.0000\n",
      "Epoch 67/500\n",
      "15/15 [==============================] - 0s 4ms/step - loss: 0.2960 - accuracy: 0.9619 - val_loss: 0.2835 - val_accuracy: 1.0000\n",
      "Epoch 68/500\n",
      "15/15 [==============================] - 0s 4ms/step - loss: 0.2963 - accuracy: 0.9619 - val_loss: 0.2787 - val_accuracy: 1.0000\n",
      "Epoch 69/500\n",
      "15/15 [==============================] - 0s 4ms/step - loss: 0.2864 - accuracy: 0.9714 - val_loss: 0.2753 - val_accuracy: 0.9778\n",
      "Epoch 70/500\n",
      "15/15 [==============================] - 0s 4ms/step - loss: 0.2828 - accuracy: 0.9714 - val_loss: 0.2705 - val_accuracy: 0.9778\n",
      "Epoch 71/500\n",
      "15/15 [==============================] - 0s 3ms/step - loss: 0.2798 - accuracy: 0.9810 - val_loss: 0.2670 - val_accuracy: 0.9778\n",
      "Epoch 72/500\n",
      "15/15 [==============================] - 0s 4ms/step - loss: 0.2786 - accuracy: 0.9714 - val_loss: 0.2619 - val_accuracy: 1.0000\n",
      "Epoch 73/500\n",
      "15/15 [==============================] - 0s 3ms/step - loss: 0.2757 - accuracy: 0.9714 - val_loss: 0.2576 - val_accuracy: 1.0000\n",
      "Epoch 74/500\n",
      "15/15 [==============================] - 0s 3ms/step - loss: 0.2675 - accuracy: 0.9714 - val_loss: 0.2545 - val_accuracy: 0.9778\n",
      "Epoch 75/500\n",
      "15/15 [==============================] - 0s 3ms/step - loss: 0.2652 - accuracy: 0.9810 - val_loss: 0.2497 - val_accuracy: 1.0000\n",
      "Epoch 76/500\n",
      "15/15 [==============================] - 0s 3ms/step - loss: 0.2651 - accuracy: 0.9714 - val_loss: 0.2473 - val_accuracy: 0.9778\n",
      "Epoch 77/500\n",
      "15/15 [==============================] - 0s 4ms/step - loss: 0.2604 - accuracy: 0.9905 - val_loss: 0.2451 - val_accuracy: 0.9778\n",
      "Epoch 78/500\n",
      "15/15 [==============================] - 0s 3ms/step - loss: 0.2556 - accuracy: 0.9714 - val_loss: 0.2389 - val_accuracy: 1.0000\n",
      "Epoch 79/500\n",
      "15/15 [==============================] - 0s 4ms/step - loss: 0.2520 - accuracy: 0.9714 - val_loss: 0.2352 - val_accuracy: 1.0000\n",
      "Epoch 80/500\n",
      "15/15 [==============================] - 0s 3ms/step - loss: 0.2480 - accuracy: 0.9714 - val_loss: 0.2342 - val_accuracy: 0.9778\n",
      "Epoch 81/500\n",
      "15/15 [==============================] - 0s 3ms/step - loss: 0.2463 - accuracy: 0.9714 - val_loss: 0.2294 - val_accuracy: 0.9778\n",
      "Epoch 82/500\n",
      "15/15 [==============================] - 0s 3ms/step - loss: 0.2441 - accuracy: 0.9810 - val_loss: 0.2281 - val_accuracy: 0.9778\n",
      "Epoch 83/500\n",
      "15/15 [==============================] - 0s 4ms/step - loss: 0.2397 - accuracy: 0.9810 - val_loss: 0.2222 - val_accuracy: 1.0000\n",
      "Epoch 84/500\n",
      "15/15 [==============================] - 0s 3ms/step - loss: 0.2408 - accuracy: 0.9714 - val_loss: 0.2198 - val_accuracy: 1.0000\n",
      "Epoch 85/500\n",
      "15/15 [==============================] - 0s 3ms/step - loss: 0.2427 - accuracy: 0.9714 - val_loss: 0.2176 - val_accuracy: 0.9778\n",
      "Epoch 86/500\n",
      "15/15 [==============================] - 0s 4ms/step - loss: 0.2315 - accuracy: 0.9714 - val_loss: 0.2138 - val_accuracy: 1.0000\n",
      "Epoch 87/500\n",
      "15/15 [==============================] - 0s 3ms/step - loss: 0.2339 - accuracy: 0.9714 - val_loss: 0.2127 - val_accuracy: 0.9778\n",
      "Epoch 88/500\n",
      "15/15 [==============================] - 0s 3ms/step - loss: 0.2277 - accuracy: 0.9714 - val_loss: 0.2104 - val_accuracy: 0.9778\n",
      "Epoch 89/500\n",
      "15/15 [==============================] - 0s 3ms/step - loss: 0.2297 - accuracy: 0.9714 - val_loss: 0.2049 - val_accuracy: 1.0000\n",
      "Epoch 90/500\n",
      "15/15 [==============================] - 0s 3ms/step - loss: 0.2269 - accuracy: 0.9810 - val_loss: 0.2051 - val_accuracy: 0.9778\n",
      "Epoch 91/500\n",
      "15/15 [==============================] - 0s 4ms/step - loss: 0.2199 - accuracy: 0.9810 - val_loss: 0.1995 - val_accuracy: 1.0000\n",
      "Epoch 92/500\n",
      "15/15 [==============================] - 0s 3ms/step - loss: 0.2205 - accuracy: 0.9714 - val_loss: 0.1972 - val_accuracy: 1.0000\n",
      "Epoch 93/500\n",
      "15/15 [==============================] - 0s 4ms/step - loss: 0.2158 - accuracy: 0.9714 - val_loss: 0.1947 - val_accuracy: 1.0000\n",
      "Epoch 94/500\n",
      "15/15 [==============================] - 0s 3ms/step - loss: 0.2154 - accuracy: 0.9714 - val_loss: 0.1954 - val_accuracy: 0.9778\n",
      "Epoch 95/500\n",
      "15/15 [==============================] - 0s 3ms/step - loss: 0.2104 - accuracy: 0.9810 - val_loss: 0.1909 - val_accuracy: 0.9778\n",
      "Epoch 96/500\n",
      "15/15 [==============================] - 0s 4ms/step - loss: 0.2233 - accuracy: 0.9714 - val_loss: 0.1876 - val_accuracy: 1.0000\n",
      "Epoch 97/500\n",
      "15/15 [==============================] - 0s 5ms/step - loss: 0.2110 - accuracy: 0.9714 - val_loss: 0.1907 - val_accuracy: 0.9778\n",
      "Epoch 98/500\n",
      "15/15 [==============================] - 0s 4ms/step - loss: 0.2017 - accuracy: 0.9810 - val_loss: 0.1827 - val_accuracy: 1.0000\n",
      "Epoch 99/500\n",
      "15/15 [==============================] - 0s 4ms/step - loss: 0.2075 - accuracy: 0.9714 - val_loss: 0.1804 - val_accuracy: 1.0000\n",
      "Epoch 100/500\n",
      "15/15 [==============================] - 0s 3ms/step - loss: 0.1975 - accuracy: 0.9810 - val_loss: 0.1832 - val_accuracy: 0.9778\n",
      "Epoch 101/500\n",
      "15/15 [==============================] - 0s 3ms/step - loss: 0.2001 - accuracy: 0.9905 - val_loss: 0.1764 - val_accuracy: 1.0000\n",
      "Epoch 102/500\n",
      "15/15 [==============================] - 0s 4ms/step - loss: 0.1967 - accuracy: 0.9810 - val_loss: 0.1762 - val_accuracy: 0.9778\n",
      "Epoch 103/500\n",
      "15/15 [==============================] - 0s 3ms/step - loss: 0.1940 - accuracy: 0.9810 - val_loss: 0.1721 - val_accuracy: 1.0000\n",
      "Epoch 104/500\n",
      "15/15 [==============================] - 0s 4ms/step - loss: 0.1950 - accuracy: 0.9714 - val_loss: 0.1711 - val_accuracy: 0.9778\n",
      "Epoch 105/500\n",
      "15/15 [==============================] - 0s 3ms/step - loss: 0.1904 - accuracy: 0.9714 - val_loss: 0.1691 - val_accuracy: 0.9778\n",
      "Epoch 106/500\n",
      "15/15 [==============================] - 0s 4ms/step - loss: 0.1908 - accuracy: 0.9714 - val_loss: 0.1680 - val_accuracy: 0.9778\n",
      "Epoch 107/500\n",
      "15/15 [==============================] - 0s 3ms/step - loss: 0.1893 - accuracy: 0.9714 - val_loss: 0.1660 - val_accuracy: 0.9778\n",
      "Epoch 108/500\n",
      "15/15 [==============================] - 0s 3ms/step - loss: 0.1864 - accuracy: 0.9810 - val_loss: 0.1628 - val_accuracy: 0.9778\n",
      "Epoch 109/500\n",
      "15/15 [==============================] - 0s 3ms/step - loss: 0.1850 - accuracy: 0.9810 - val_loss: 0.1615 - val_accuracy: 0.9778\n",
      "Epoch 110/500\n",
      "15/15 [==============================] - 0s 3ms/step - loss: 0.1830 - accuracy: 0.9714 - val_loss: 0.1593 - val_accuracy: 0.9778\n",
      "Epoch 111/500\n",
      "15/15 [==============================] - 0s 3ms/step - loss: 0.1828 - accuracy: 0.9714 - val_loss: 0.1628 - val_accuracy: 0.9778\n",
      "Epoch 112/500\n",
      "15/15 [==============================] - 0s 3ms/step - loss: 0.1847 - accuracy: 0.9905 - val_loss: 0.1548 - val_accuracy: 1.0000\n",
      "Epoch 113/500\n",
      "15/15 [==============================] - 0s 3ms/step - loss: 0.1777 - accuracy: 0.9810 - val_loss: 0.1570 - val_accuracy: 0.9778\n",
      "Epoch 114/500\n",
      "15/15 [==============================] - 0s 3ms/step - loss: 0.1815 - accuracy: 0.9714 - val_loss: 0.1571 - val_accuracy: 0.9778\n",
      "Epoch 115/500\n",
      "15/15 [==============================] - 0s 3ms/step - loss: 0.1783 - accuracy: 0.9810 - val_loss: 0.1504 - val_accuracy: 0.9778\n",
      "Epoch 116/500\n",
      "15/15 [==============================] - 0s 3ms/step - loss: 0.1736 - accuracy: 0.9810 - val_loss: 0.1547 - val_accuracy: 0.9778\n",
      "Epoch 117/500\n",
      "15/15 [==============================] - 0s 4ms/step - loss: 0.1704 - accuracy: 0.9810 - val_loss: 0.1479 - val_accuracy: 0.9778\n",
      "Epoch 118/500\n",
      "15/15 [==============================] - 0s 3ms/step - loss: 0.1762 - accuracy: 0.9714 - val_loss: 0.1452 - val_accuracy: 1.0000\n",
      "Epoch 119/500\n",
      "15/15 [==============================] - 0s 3ms/step - loss: 0.1758 - accuracy: 0.9714 - val_loss: 0.1518 - val_accuracy: 0.9778\n",
      "Epoch 120/500\n",
      "15/15 [==============================] - 0s 4ms/step - loss: 0.1670 - accuracy: 0.9810 - val_loss: 0.1423 - val_accuracy: 1.0000\n",
      "Epoch 121/500\n",
      "15/15 [==============================] - 0s 4ms/step - loss: 0.1683 - accuracy: 0.9714 - val_loss: 0.1427 - val_accuracy: 0.9778\n",
      "Epoch 122/500\n",
      "15/15 [==============================] - 0s 3ms/step - loss: 0.1660 - accuracy: 0.9714 - val_loss: 0.1439 - val_accuracy: 0.9778\n",
      "Epoch 123/500\n",
      "15/15 [==============================] - 0s 4ms/step - loss: 0.1647 - accuracy: 0.9810 - val_loss: 0.1395 - val_accuracy: 0.9778\n",
      "Epoch 124/500\n",
      "15/15 [==============================] - 0s 4ms/step - loss: 0.1643 - accuracy: 0.9714 - val_loss: 0.1365 - val_accuracy: 1.0000\n",
      "Epoch 125/500\n",
      "15/15 [==============================] - 0s 4ms/step - loss: 0.1629 - accuracy: 0.9714 - val_loss: 0.1387 - val_accuracy: 0.9778\n",
      "Epoch 126/500\n",
      "15/15 [==============================] - 0s 3ms/step - loss: 0.1668 - accuracy: 0.9810 - val_loss: 0.1337 - val_accuracy: 1.0000\n",
      "Epoch 127/500\n",
      "15/15 [==============================] - 0s 4ms/step - loss: 0.1639 - accuracy: 0.9619 - val_loss: 0.1419 - val_accuracy: 0.9778\n",
      "Epoch 128/500\n",
      "15/15 [==============================] - 0s 4ms/step - loss: 0.1576 - accuracy: 0.9810 - val_loss: 0.1310 - val_accuracy: 1.0000\n",
      "Epoch 129/500\n",
      "15/15 [==============================] - 0s 5ms/step - loss: 0.1601 - accuracy: 0.9714 - val_loss: 0.1317 - val_accuracy: 0.9778\n",
      "Epoch 130/500\n",
      "15/15 [==============================] - 0s 3ms/step - loss: 0.1573 - accuracy: 0.9810 - val_loss: 0.1294 - val_accuracy: 0.9778\n",
      "Epoch 131/500\n",
      "15/15 [==============================] - 0s 3ms/step - loss: 0.1640 - accuracy: 0.9714 - val_loss: 0.1299 - val_accuracy: 0.9778\n",
      "Epoch 132/500\n",
      "15/15 [==============================] - 0s 4ms/step - loss: 0.1584 - accuracy: 0.9714 - val_loss: 0.1262 - val_accuracy: 1.0000\n",
      "Epoch 133/500\n",
      "15/15 [==============================] - 0s 3ms/step - loss: 0.1571 - accuracy: 0.9714 - val_loss: 0.1302 - val_accuracy: 0.9778\n",
      "Epoch 134/500\n",
      "15/15 [==============================] - 0s 4ms/step - loss: 0.1563 - accuracy: 0.9714 - val_loss: 0.1243 - val_accuracy: 0.9778\n",
      "Epoch 135/500\n",
      "15/15 [==============================] - 0s 4ms/step - loss: 0.1562 - accuracy: 0.9810 - val_loss: 0.1267 - val_accuracy: 0.9778\n",
      "Epoch 136/500\n",
      "15/15 [==============================] - 0s 3ms/step - loss: 0.1462 - accuracy: 0.9810 - val_loss: 0.1214 - val_accuracy: 1.0000\n",
      "Epoch 137/500\n",
      "15/15 [==============================] - 0s 3ms/step - loss: 0.1583 - accuracy: 0.9714 - val_loss: 0.1237 - val_accuracy: 0.9778\n",
      "Epoch 138/500\n",
      "15/15 [==============================] - 0s 3ms/step - loss: 0.1536 - accuracy: 0.9714 - val_loss: 0.1221 - val_accuracy: 0.9778\n",
      "Epoch 139/500\n",
      "15/15 [==============================] - 0s 4ms/step - loss: 0.1446 - accuracy: 0.9810 - val_loss: 0.1253 - val_accuracy: 0.9778\n",
      "Epoch 140/500\n",
      "15/15 [==============================] - 0s 3ms/step - loss: 0.1474 - accuracy: 0.9810 - val_loss: 0.1192 - val_accuracy: 0.9778\n",
      "Epoch 141/500\n",
      "15/15 [==============================] - 0s 3ms/step - loss: 0.1480 - accuracy: 0.9714 - val_loss: 0.1164 - val_accuracy: 0.9778\n",
      "Epoch 142/500\n",
      "15/15 [==============================] - 0s 4ms/step - loss: 0.1440 - accuracy: 0.9810 - val_loss: 0.1218 - val_accuracy: 0.9778\n",
      "Epoch 143/500\n",
      "15/15 [==============================] - 0s 3ms/step - loss: 0.1466 - accuracy: 0.9810 - val_loss: 0.1159 - val_accuracy: 0.9778\n",
      "Epoch 144/500\n",
      "15/15 [==============================] - 0s 4ms/step - loss: 0.1489 - accuracy: 0.9810 - val_loss: 0.1151 - val_accuracy: 0.9778\n",
      "Epoch 145/500\n",
      "15/15 [==============================] - 0s 3ms/step - loss: 0.1404 - accuracy: 0.9810 - val_loss: 0.1137 - val_accuracy: 0.9778\n",
      "Epoch 146/500\n",
      "15/15 [==============================] - 0s 3ms/step - loss: 0.1393 - accuracy: 0.9810 - val_loss: 0.1125 - val_accuracy: 0.9778\n",
      "Epoch 147/500\n",
      "15/15 [==============================] - 0s 3ms/step - loss: 0.1384 - accuracy: 0.9810 - val_loss: 0.1143 - val_accuracy: 0.9778\n",
      "Epoch 148/500\n",
      "15/15 [==============================] - 0s 3ms/step - loss: 0.1516 - accuracy: 0.9714 - val_loss: 0.1086 - val_accuracy: 1.0000\n",
      "Epoch 149/500\n",
      "15/15 [==============================] - 0s 5ms/step - loss: 0.1391 - accuracy: 0.9810 - val_loss: 0.1142 - val_accuracy: 0.9778\n",
      "Epoch 150/500\n",
      "15/15 [==============================] - 0s 4ms/step - loss: 0.1384 - accuracy: 0.9714 - val_loss: 0.1080 - val_accuracy: 0.9778\n",
      "Epoch 151/500\n",
      "15/15 [==============================] - 0s 3ms/step - loss: 0.1384 - accuracy: 0.9810 - val_loss: 0.1110 - val_accuracy: 0.9778\n",
      "Epoch 152/500\n",
      "15/15 [==============================] - 0s 3ms/step - loss: 0.1338 - accuracy: 0.9810 - val_loss: 0.1081 - val_accuracy: 0.9778\n",
      "Epoch 153/500\n",
      "15/15 [==============================] - 0s 3ms/step - loss: 0.1365 - accuracy: 0.9714 - val_loss: 0.1060 - val_accuracy: 0.9778\n",
      "Epoch 154/500\n",
      "15/15 [==============================] - 0s 3ms/step - loss: 0.1352 - accuracy: 0.9714 - val_loss: 0.1051 - val_accuracy: 0.9778\n",
      "Epoch 155/500\n",
      "15/15 [==============================] - 0s 3ms/step - loss: 0.1391 - accuracy: 0.9714 - val_loss: 0.1057 - val_accuracy: 0.9778\n",
      "Epoch 156/500\n",
      "15/15 [==============================] - 0s 3ms/step - loss: 0.1348 - accuracy: 0.9810 - val_loss: 0.1044 - val_accuracy: 0.9778\n",
      "Epoch 157/500\n",
      "15/15 [==============================] - 0s 4ms/step - loss: 0.1336 - accuracy: 0.9714 - val_loss: 0.1044 - val_accuracy: 0.9778\n",
      "Epoch 158/500\n",
      "15/15 [==============================] - 0s 3ms/step - loss: 0.1325 - accuracy: 0.9810 - val_loss: 0.1025 - val_accuracy: 0.9778\n",
      "Epoch 159/500\n",
      "15/15 [==============================] - 0s 3ms/step - loss: 0.1299 - accuracy: 0.9714 - val_loss: 0.1012 - val_accuracy: 0.9778\n",
      "Epoch 160/500\n",
      "15/15 [==============================] - 0s 3ms/step - loss: 0.1297 - accuracy: 0.9714 - val_loss: 0.1078 - val_accuracy: 0.9778\n",
      "Epoch 161/500\n",
      "15/15 [==============================] - 0s 4ms/step - loss: 0.1274 - accuracy: 0.9810 - val_loss: 0.0984 - val_accuracy: 0.9778\n",
      "Epoch 162/500\n",
      "15/15 [==============================] - 0s 3ms/step - loss: 0.1278 - accuracy: 0.9714 - val_loss: 0.1010 - val_accuracy: 0.9778\n",
      "Epoch 163/500\n",
      "15/15 [==============================] - 0s 4ms/step - loss: 0.1288 - accuracy: 0.9905 - val_loss: 0.1014 - val_accuracy: 0.9778\n",
      "Epoch 164/500\n",
      "15/15 [==============================] - 0s 3ms/step - loss: 0.1254 - accuracy: 0.9810 - val_loss: 0.0975 - val_accuracy: 0.9778\n",
      "Epoch 165/500\n",
      "15/15 [==============================] - 0s 4ms/step - loss: 0.1356 - accuracy: 0.9714 - val_loss: 0.0955 - val_accuracy: 0.9778\n",
      "Epoch 166/500\n",
      "15/15 [==============================] - 0s 4ms/step - loss: 0.1230 - accuracy: 0.9714 - val_loss: 0.1100 - val_accuracy: 0.9778\n",
      "Epoch 167/500\n",
      "15/15 [==============================] - 0s 3ms/step - loss: 0.1241 - accuracy: 0.9810 - val_loss: 0.0943 - val_accuracy: 0.9778\n",
      "Epoch 168/500\n",
      "15/15 [==============================] - 0s 3ms/step - loss: 0.1248 - accuracy: 0.9714 - val_loss: 0.0934 - val_accuracy: 0.9778\n",
      "Epoch 169/500\n",
      "15/15 [==============================] - 0s 3ms/step - loss: 0.1221 - accuracy: 0.9714 - val_loss: 0.0956 - val_accuracy: 0.9778\n",
      "Epoch 170/500\n",
      "15/15 [==============================] - 0s 3ms/step - loss: 0.1225 - accuracy: 0.9810 - val_loss: 0.0936 - val_accuracy: 0.9778\n",
      "Epoch 171/500\n",
      "15/15 [==============================] - 0s 4ms/step - loss: 0.1197 - accuracy: 0.9810 - val_loss: 0.0959 - val_accuracy: 0.9778\n",
      "Epoch 172/500\n",
      "15/15 [==============================] - 0s 3ms/step - loss: 0.1256 - accuracy: 0.9714 - val_loss: 0.0911 - val_accuracy: 0.9778\n",
      "Epoch 173/500\n",
      "15/15 [==============================] - 0s 3ms/step - loss: 0.1247 - accuracy: 0.9714 - val_loss: 0.0905 - val_accuracy: 0.9778\n",
      "Epoch 174/500\n",
      "15/15 [==============================] - 0s 4ms/step - loss: 0.1200 - accuracy: 0.9810 - val_loss: 0.0978 - val_accuracy: 0.9778\n",
      "Epoch 175/500\n",
      "15/15 [==============================] - 0s 4ms/step - loss: 0.1207 - accuracy: 0.9714 - val_loss: 0.0894 - val_accuracy: 0.9778\n",
      "Epoch 176/500\n",
      "15/15 [==============================] - 0s 3ms/step - loss: 0.1225 - accuracy: 0.9810 - val_loss: 0.0894 - val_accuracy: 0.9778\n",
      "Epoch 177/500\n",
      "15/15 [==============================] - 0s 3ms/step - loss: 0.1206 - accuracy: 0.9810 - val_loss: 0.0944 - val_accuracy: 0.9778\n",
      "Epoch 178/500\n",
      "15/15 [==============================] - 0s 3ms/step - loss: 0.1180 - accuracy: 0.9810 - val_loss: 0.0864 - val_accuracy: 0.9778\n",
      "Epoch 179/500\n",
      "15/15 [==============================] - 0s 3ms/step - loss: 0.1218 - accuracy: 0.9619 - val_loss: 0.0956 - val_accuracy: 0.9778\n",
      "Epoch 180/500\n",
      "15/15 [==============================] - 0s 3ms/step - loss: 0.1166 - accuracy: 0.9810 - val_loss: 0.0904 - val_accuracy: 0.9778\n",
      "Epoch 181/500\n",
      "15/15 [==============================] - 0s 4ms/step - loss: 0.1149 - accuracy: 0.9810 - val_loss: 0.0864 - val_accuracy: 0.9778\n",
      "Epoch 182/500\n",
      "15/15 [==============================] - 0s 3ms/step - loss: 0.1178 - accuracy: 0.9810 - val_loss: 0.0877 - val_accuracy: 0.9778\n",
      "Epoch 183/500\n",
      "15/15 [==============================] - 0s 3ms/step - loss: 0.1143 - accuracy: 0.9810 - val_loss: 0.0880 - val_accuracy: 0.9778\n",
      "Epoch 184/500\n",
      "15/15 [==============================] - 0s 3ms/step - loss: 0.1140 - accuracy: 0.9810 - val_loss: 0.0874 - val_accuracy: 0.9778\n",
      "Epoch 185/500\n",
      "15/15 [==============================] - 0s 3ms/step - loss: 0.1156 - accuracy: 0.9810 - val_loss: 0.0849 - val_accuracy: 0.9778\n",
      "Epoch 186/500\n",
      "15/15 [==============================] - 0s 4ms/step - loss: 0.1261 - accuracy: 0.9619 - val_loss: 0.0892 - val_accuracy: 0.9778\n",
      "Epoch 187/500\n",
      "15/15 [==============================] - 0s 4ms/step - loss: 0.1128 - accuracy: 0.9714 - val_loss: 0.0801 - val_accuracy: 1.0000\n",
      "Epoch 188/500\n",
      "15/15 [==============================] - 0s 3ms/step - loss: 0.1115 - accuracy: 0.9714 - val_loss: 0.0830 - val_accuracy: 0.9778\n",
      "Epoch 189/500\n",
      "15/15 [==============================] - 0s 3ms/step - loss: 0.1160 - accuracy: 0.9810 - val_loss: 0.0951 - val_accuracy: 0.9778\n",
      "Epoch 190/500\n",
      "15/15 [==============================] - 0s 3ms/step - loss: 0.1137 - accuracy: 0.9714 - val_loss: 0.0794 - val_accuracy: 0.9778\n",
      "Epoch 191/500\n",
      "15/15 [==============================] - 0s 3ms/step - loss: 0.1102 - accuracy: 0.9810 - val_loss: 0.0838 - val_accuracy: 0.9778\n",
      "Epoch 192/500\n",
      "15/15 [==============================] - 0s 3ms/step - loss: 0.1140 - accuracy: 0.9714 - val_loss: 0.0849 - val_accuracy: 0.9778\n",
      "Epoch 193/500\n",
      "15/15 [==============================] - 0s 4ms/step - loss: 0.1107 - accuracy: 0.9810 - val_loss: 0.0773 - val_accuracy: 1.0000\n",
      "Epoch 194/500\n",
      "15/15 [==============================] - 0s 3ms/step - loss: 0.1229 - accuracy: 0.9714 - val_loss: 0.0810 - val_accuracy: 0.9778\n",
      "Epoch 195/500\n",
      "15/15 [==============================] - 0s 3ms/step - loss: 0.1116 - accuracy: 0.9714 - val_loss: 0.0789 - val_accuracy: 0.9778\n",
      "Epoch 196/500\n",
      "15/15 [==============================] - 0s 4ms/step - loss: 0.1100 - accuracy: 0.9714 - val_loss: 0.0816 - val_accuracy: 0.9778\n",
      "Epoch 197/500\n",
      "15/15 [==============================] - 0s 4ms/step - loss: 0.1063 - accuracy: 0.9810 - val_loss: 0.0806 - val_accuracy: 0.9778\n",
      "Epoch 198/500\n",
      "15/15 [==============================] - 0s 4ms/step - loss: 0.1085 - accuracy: 0.9810 - val_loss: 0.0810 - val_accuracy: 0.9778\n",
      "Epoch 199/500\n",
      "15/15 [==============================] - 0s 3ms/step - loss: 0.1090 - accuracy: 0.9810 - val_loss: 0.0761 - val_accuracy: 0.9778\n",
      "Epoch 200/500\n",
      "15/15 [==============================] - 0s 3ms/step - loss: 0.1171 - accuracy: 0.9714 - val_loss: 0.0773 - val_accuracy: 0.9778\n",
      "Epoch 201/500\n",
      "15/15 [==============================] - 0s 3ms/step - loss: 0.1042 - accuracy: 0.9810 - val_loss: 0.0848 - val_accuracy: 0.9778\n",
      "Epoch 202/500\n",
      "15/15 [==============================] - 0s 3ms/step - loss: 0.1071 - accuracy: 0.9905 - val_loss: 0.0757 - val_accuracy: 0.9778\n",
      "Epoch 203/500\n",
      "15/15 [==============================] - 0s 3ms/step - loss: 0.1068 - accuracy: 0.9810 - val_loss: 0.0770 - val_accuracy: 0.9778\n",
      "Epoch 204/500\n",
      "15/15 [==============================] - 0s 4ms/step - loss: 0.1055 - accuracy: 0.9905 - val_loss: 0.0835 - val_accuracy: 0.9778\n",
      "Epoch 205/500\n",
      "15/15 [==============================] - 0s 4ms/step - loss: 0.1033 - accuracy: 0.9810 - val_loss: 0.0748 - val_accuracy: 0.9778\n",
      "Epoch 206/500\n",
      "15/15 [==============================] - 0s 4ms/step - loss: 0.1045 - accuracy: 0.9810 - val_loss: 0.0729 - val_accuracy: 0.9778\n",
      "Epoch 207/500\n",
      "15/15 [==============================] - 0s 4ms/step - loss: 0.1074 - accuracy: 0.9714 - val_loss: 0.0774 - val_accuracy: 0.9778\n",
      "Epoch 208/500\n",
      "15/15 [==============================] - 0s 3ms/step - loss: 0.1088 - accuracy: 0.9714 - val_loss: 0.0734 - val_accuracy: 0.9778\n",
      "Epoch 209/500\n",
      "15/15 [==============================] - 0s 3ms/step - loss: 0.1044 - accuracy: 0.9810 - val_loss: 0.0774 - val_accuracy: 0.9778\n",
      "Epoch 210/500\n",
      "15/15 [==============================] - 0s 3ms/step - loss: 0.1153 - accuracy: 0.9714 - val_loss: 0.0699 - val_accuracy: 0.9778\n",
      "Epoch 211/500\n",
      "15/15 [==============================] - 0s 3ms/step - loss: 0.1038 - accuracy: 0.9810 - val_loss: 0.0785 - val_accuracy: 0.9778\n",
      "Epoch 212/500\n",
      "15/15 [==============================] - 0s 3ms/step - loss: 0.1090 - accuracy: 0.9714 - val_loss: 0.0758 - val_accuracy: 0.9778\n",
      "Epoch 213/500\n",
      "15/15 [==============================] - 0s 4ms/step - loss: 0.1134 - accuracy: 0.9714 - val_loss: 0.0688 - val_accuracy: 0.9778\n",
      "Epoch 214/500\n",
      "15/15 [==============================] - 0s 3ms/step - loss: 0.1044 - accuracy: 0.9714 - val_loss: 0.0834 - val_accuracy: 0.9778\n",
      "Epoch 215/500\n",
      "15/15 [==============================] - 0s 3ms/step - loss: 0.1125 - accuracy: 0.9714 - val_loss: 0.0709 - val_accuracy: 0.9778\n",
      "Epoch 216/500\n",
      "15/15 [==============================] - 0s 3ms/step - loss: 0.1007 - accuracy: 0.9810 - val_loss: 0.0787 - val_accuracy: 0.9778\n",
      "Epoch 217/500\n",
      "15/15 [==============================] - 0s 4ms/step - loss: 0.0997 - accuracy: 0.9810 - val_loss: 0.0710 - val_accuracy: 0.9778\n",
      "Epoch 218/500\n",
      "15/15 [==============================] - 0s 4ms/step - loss: 0.1003 - accuracy: 0.9810 - val_loss: 0.0688 - val_accuracy: 0.9778\n",
      "Epoch 219/500\n",
      "15/15 [==============================] - 0s 5ms/step - loss: 0.1059 - accuracy: 0.9810 - val_loss: 0.0726 - val_accuracy: 0.9778\n",
      "Epoch 220/500\n",
      "15/15 [==============================] - 0s 3ms/step - loss: 0.1143 - accuracy: 0.9714 - val_loss: 0.0654 - val_accuracy: 1.0000\n",
      "Epoch 221/500\n",
      "15/15 [==============================] - 0s 3ms/step - loss: 0.0945 - accuracy: 0.9810 - val_loss: 0.0740 - val_accuracy: 0.9778\n",
      "Epoch 222/500\n",
      "15/15 [==============================] - 0s 5ms/step - loss: 0.1142 - accuracy: 0.9619 - val_loss: 0.0668 - val_accuracy: 0.9778\n",
      "Epoch 223/500\n",
      "15/15 [==============================] - 0s 4ms/step - loss: 0.0975 - accuracy: 0.9810 - val_loss: 0.0719 - val_accuracy: 0.9778\n",
      "Epoch 224/500\n",
      "15/15 [==============================] - 0s 3ms/step - loss: 0.0971 - accuracy: 0.9810 - val_loss: 0.0670 - val_accuracy: 0.9778\n",
      "Epoch 225/500\n",
      "15/15 [==============================] - 0s 3ms/step - loss: 0.0980 - accuracy: 0.9810 - val_loss: 0.0702 - val_accuracy: 0.9778\n",
      "Epoch 226/500\n",
      "15/15 [==============================] - 0s 3ms/step - loss: 0.1004 - accuracy: 0.9714 - val_loss: 0.0711 - val_accuracy: 0.9778\n",
      "Epoch 227/500\n",
      "15/15 [==============================] - 0s 3ms/step - loss: 0.0974 - accuracy: 0.9810 - val_loss: 0.0664 - val_accuracy: 0.9778\n",
      "Epoch 228/500\n",
      "15/15 [==============================] - 0s 3ms/step - loss: 0.0983 - accuracy: 0.9714 - val_loss: 0.0678 - val_accuracy: 0.9778\n",
      "Epoch 229/500\n",
      "15/15 [==============================] - 0s 3ms/step - loss: 0.0994 - accuracy: 0.9714 - val_loss: 0.0648 - val_accuracy: 0.9778\n",
      "Epoch 230/500\n",
      "15/15 [==============================] - 0s 3ms/step - loss: 0.1000 - accuracy: 0.9714 - val_loss: 0.0738 - val_accuracy: 0.9778\n",
      "Epoch 231/500\n",
      "15/15 [==============================] - 0s 3ms/step - loss: 0.0971 - accuracy: 0.9714 - val_loss: 0.0661 - val_accuracy: 0.9778\n",
      "Epoch 232/500\n",
      "15/15 [==============================] - 0s 3ms/step - loss: 0.0979 - accuracy: 0.9810 - val_loss: 0.0650 - val_accuracy: 0.9778\n",
      "Epoch 233/500\n",
      "15/15 [==============================] - 0s 4ms/step - loss: 0.0949 - accuracy: 0.9810 - val_loss: 0.0679 - val_accuracy: 0.9778\n",
      "Epoch 234/500\n",
      "15/15 [==============================] - 0s 3ms/step - loss: 0.0974 - accuracy: 0.9714 - val_loss: 0.0682 - val_accuracy: 0.9778\n",
      "Epoch 235/500\n",
      "15/15 [==============================] - 0s 3ms/step - loss: 0.0992 - accuracy: 0.9714 - val_loss: 0.0603 - val_accuracy: 1.0000\n",
      "Epoch 236/500\n",
      "15/15 [==============================] - 0s 3ms/step - loss: 0.0916 - accuracy: 0.9810 - val_loss: 0.0672 - val_accuracy: 0.9778\n",
      "Epoch 237/500\n",
      "15/15 [==============================] - 0s 3ms/step - loss: 0.0965 - accuracy: 0.9714 - val_loss: 0.0668 - val_accuracy: 0.9778\n",
      "Epoch 238/500\n",
      "15/15 [==============================] - 0s 3ms/step - loss: 0.0936 - accuracy: 0.9810 - val_loss: 0.0684 - val_accuracy: 0.9778\n",
      "Epoch 239/500\n",
      "15/15 [==============================] - 0s 5ms/step - loss: 0.0923 - accuracy: 0.9714 - val_loss: 0.0639 - val_accuracy: 0.9778\n",
      "Epoch 240/500\n",
      "15/15 [==============================] - 0s 4ms/step - loss: 0.0927 - accuracy: 0.9810 - val_loss: 0.0628 - val_accuracy: 0.9778\n",
      "Epoch 241/500\n",
      "15/15 [==============================] - 0s 4ms/step - loss: 0.0981 - accuracy: 0.9714 - val_loss: 0.0666 - val_accuracy: 0.9778\n",
      "Epoch 242/500\n",
      "15/15 [==============================] - 0s 3ms/step - loss: 0.0979 - accuracy: 0.9714 - val_loss: 0.0669 - val_accuracy: 0.9778\n",
      "Epoch 243/500\n",
      "15/15 [==============================] - 0s 3ms/step - loss: 0.1162 - accuracy: 0.9619 - val_loss: 0.0574 - val_accuracy: 1.0000\n",
      "Epoch 244/500\n",
      "15/15 [==============================] - 0s 4ms/step - loss: 0.0934 - accuracy: 0.9714 - val_loss: 0.0743 - val_accuracy: 0.9778\n",
      "Epoch 245/500\n",
      "15/15 [==============================] - 0s 3ms/step - loss: 0.0924 - accuracy: 0.9905 - val_loss: 0.0620 - val_accuracy: 0.9778\n",
      "Epoch 246/500\n",
      "15/15 [==============================] - 0s 4ms/step - loss: 0.0936 - accuracy: 0.9714 - val_loss: 0.0616 - val_accuracy: 0.9778\n",
      "Epoch 247/500\n",
      "15/15 [==============================] - 0s 4ms/step - loss: 0.0957 - accuracy: 0.9714 - val_loss: 0.0582 - val_accuracy: 0.9778\n",
      "Epoch 248/500\n",
      "15/15 [==============================] - 0s 3ms/step - loss: 0.0906 - accuracy: 0.9810 - val_loss: 0.0726 - val_accuracy: 0.9778\n",
      "Epoch 249/500\n",
      "15/15 [==============================] - 0s 3ms/step - loss: 0.0921 - accuracy: 0.9810 - val_loss: 0.0613 - val_accuracy: 0.9778\n",
      "Epoch 250/500\n",
      "15/15 [==============================] - 0s 3ms/step - loss: 0.0910 - accuracy: 0.9810 - val_loss: 0.0586 - val_accuracy: 0.9778\n",
      "Epoch 251/500\n",
      "15/15 [==============================] - 0s 4ms/step - loss: 0.0906 - accuracy: 0.9714 - val_loss: 0.0639 - val_accuracy: 0.9778\n",
      "Epoch 252/500\n",
      "15/15 [==============================] - 0s 3ms/step - loss: 0.0885 - accuracy: 0.9810 - val_loss: 0.0604 - val_accuracy: 0.9778\n",
      "Epoch 253/500\n",
      "15/15 [==============================] - 0s 4ms/step - loss: 0.1014 - accuracy: 0.9714 - val_loss: 0.0659 - val_accuracy: 0.9778\n",
      "Epoch 254/500\n",
      "15/15 [==============================] - 0s 3ms/step - loss: 0.1087 - accuracy: 0.9714 - val_loss: 0.0564 - val_accuracy: 0.9778\n",
      "Epoch 255/500\n",
      "15/15 [==============================] - 0s 3ms/step - loss: 0.0964 - accuracy: 0.9619 - val_loss: 0.0703 - val_accuracy: 0.9778\n",
      "Epoch 256/500\n",
      "15/15 [==============================] - 0s 4ms/step - loss: 0.1064 - accuracy: 0.9619 - val_loss: 0.0540 - val_accuracy: 1.0000\n",
      "Epoch 257/500\n",
      "15/15 [==============================] - 0s 3ms/step - loss: 0.1104 - accuracy: 0.9524 - val_loss: 0.0699 - val_accuracy: 0.9778\n",
      "Epoch 258/500\n",
      "15/15 [==============================] - 0s 3ms/step - loss: 0.0969 - accuracy: 0.9714 - val_loss: 0.0544 - val_accuracy: 0.9778\n",
      "Epoch 259/500\n",
      "15/15 [==============================] - 0s 4ms/step - loss: 0.0986 - accuracy: 0.9714 - val_loss: 0.0602 - val_accuracy: 0.9778\n",
      "Epoch 260/500\n",
      "15/15 [==============================] - 0s 3ms/step - loss: 0.0923 - accuracy: 0.9810 - val_loss: 0.0609 - val_accuracy: 0.9778\n",
      "Epoch 261/500\n",
      "15/15 [==============================] - 0s 4ms/step - loss: 0.0882 - accuracy: 0.9714 - val_loss: 0.0635 - val_accuracy: 0.9778\n",
      "Epoch 262/500\n",
      "15/15 [==============================] - 0s 3ms/step - loss: 0.0917 - accuracy: 0.9810 - val_loss: 0.0562 - val_accuracy: 0.9778\n",
      "Epoch 263/500\n",
      "15/15 [==============================] - 0s 4ms/step - loss: 0.0964 - accuracy: 0.9810 - val_loss: 0.0584 - val_accuracy: 0.9778\n",
      "Epoch 264/500\n",
      "15/15 [==============================] - 0s 3ms/step - loss: 0.0898 - accuracy: 0.9810 - val_loss: 0.0551 - val_accuracy: 0.9778\n",
      "Epoch 265/500\n",
      "15/15 [==============================] - 0s 5ms/step - loss: 0.0885 - accuracy: 0.9810 - val_loss: 0.0639 - val_accuracy: 0.9778\n",
      "Epoch 266/500\n",
      "15/15 [==============================] - 0s 3ms/step - loss: 0.0895 - accuracy: 0.9714 - val_loss: 0.0529 - val_accuracy: 0.9778\n",
      "Epoch 267/500\n",
      "15/15 [==============================] - 0s 3ms/step - loss: 0.0973 - accuracy: 0.9714 - val_loss: 0.0559 - val_accuracy: 0.9778\n",
      "Epoch 268/500\n",
      "15/15 [==============================] - 0s 3ms/step - loss: 0.1206 - accuracy: 0.9333 - val_loss: 0.0567 - val_accuracy: 0.9778\n",
      "Epoch 269/500\n",
      "15/15 [==============================] - 0s 3ms/step - loss: 0.0927 - accuracy: 0.9810 - val_loss: 0.0517 - val_accuracy: 0.9778\n",
      "Epoch 270/500\n",
      "15/15 [==============================] - 0s 4ms/step - loss: 0.0881 - accuracy: 0.9714 - val_loss: 0.0572 - val_accuracy: 0.9778\n",
      "Epoch 271/500\n",
      "15/15 [==============================] - 0s 4ms/step - loss: 0.0875 - accuracy: 0.9714 - val_loss: 0.0588 - val_accuracy: 0.9778\n",
      "Epoch 272/500\n",
      "15/15 [==============================] - 0s 3ms/step - loss: 0.0894 - accuracy: 0.9714 - val_loss: 0.0540 - val_accuracy: 0.9778\n",
      "Epoch 273/500\n",
      "15/15 [==============================] - 0s 4ms/step - loss: 0.1063 - accuracy: 0.9619 - val_loss: 0.0648 - val_accuracy: 0.9778\n",
      "Epoch 274/500\n",
      "15/15 [==============================] - 0s 4ms/step - loss: 0.0972 - accuracy: 0.9810 - val_loss: 0.0493 - val_accuracy: 1.0000\n",
      "Epoch 275/500\n",
      "15/15 [==============================] - 0s 3ms/step - loss: 0.0858 - accuracy: 0.9714 - val_loss: 0.0637 - val_accuracy: 0.9778\n",
      "Epoch 276/500\n",
      "15/15 [==============================] - 0s 3ms/step - loss: 0.0854 - accuracy: 0.9810 - val_loss: 0.0558 - val_accuracy: 0.9778\n",
      "Epoch 277/500\n",
      "15/15 [==============================] - 0s 3ms/step - loss: 0.0835 - accuracy: 0.9810 - val_loss: 0.0533 - val_accuracy: 0.9778\n",
      "Epoch 278/500\n",
      "15/15 [==============================] - 0s 3ms/step - loss: 0.0875 - accuracy: 0.9810 - val_loss: 0.0617 - val_accuracy: 0.9778\n",
      "Epoch 279/500\n",
      "15/15 [==============================] - 0s 4ms/step - loss: 0.0823 - accuracy: 0.9810 - val_loss: 0.0523 - val_accuracy: 0.9778\n",
      "Epoch 280/500\n",
      "15/15 [==============================] - 0s 4ms/step - loss: 0.0850 - accuracy: 0.9810 - val_loss: 0.0569 - val_accuracy: 0.9778\n",
      "Epoch 281/500\n",
      "15/15 [==============================] - 0s 3ms/step - loss: 0.0862 - accuracy: 0.9810 - val_loss: 0.0586 - val_accuracy: 0.9778\n",
      "Epoch 282/500\n",
      "15/15 [==============================] - 0s 3ms/step - loss: 0.0828 - accuracy: 0.9810 - val_loss: 0.0572 - val_accuracy: 0.9778\n",
      "Epoch 283/500\n",
      "15/15 [==============================] - 0s 3ms/step - loss: 0.0851 - accuracy: 0.9810 - val_loss: 0.0539 - val_accuracy: 0.9778\n",
      "Epoch 284/500\n",
      "15/15 [==============================] - 0s 4ms/step - loss: 0.0829 - accuracy: 0.9810 - val_loss: 0.0582 - val_accuracy: 0.9778\n",
      "Epoch 285/500\n",
      "15/15 [==============================] - 0s 5ms/step - loss: 0.0832 - accuracy: 0.9810 - val_loss: 0.0595 - val_accuracy: 0.9778\n",
      "Epoch 286/500\n",
      "15/15 [==============================] - 0s 3ms/step - loss: 0.0838 - accuracy: 0.9810 - val_loss: 0.0529 - val_accuracy: 0.9778\n",
      "Epoch 287/500\n",
      "15/15 [==============================] - 0s 3ms/step - loss: 0.0879 - accuracy: 0.9810 - val_loss: 0.0547 - val_accuracy: 0.9778\n",
      "Epoch 288/500\n",
      "15/15 [==============================] - 0s 4ms/step - loss: 0.0848 - accuracy: 0.9810 - val_loss: 0.0504 - val_accuracy: 0.9778\n",
      "Epoch 289/500\n",
      "15/15 [==============================] - 0s 3ms/step - loss: 0.0817 - accuracy: 0.9810 - val_loss: 0.0560 - val_accuracy: 0.9778\n",
      "Epoch 290/500\n",
      "15/15 [==============================] - 0s 3ms/step - loss: 0.0860 - accuracy: 0.9714 - val_loss: 0.0612 - val_accuracy: 0.9778\n",
      "Epoch 291/500\n",
      "15/15 [==============================] - 0s 3ms/step - loss: 0.0804 - accuracy: 0.9810 - val_loss: 0.0522 - val_accuracy: 0.9778\n",
      "Epoch 292/500\n",
      "15/15 [==============================] - 0s 4ms/step - loss: 0.0828 - accuracy: 0.9714 - val_loss: 0.0561 - val_accuracy: 0.9778\n",
      "Epoch 293/500\n",
      "15/15 [==============================] - 0s 3ms/step - loss: 0.0799 - accuracy: 0.9810 - val_loss: 0.0507 - val_accuracy: 0.9778\n",
      "Epoch 294/500\n",
      "15/15 [==============================] - 0s 3ms/step - loss: 0.0815 - accuracy: 0.9810 - val_loss: 0.0529 - val_accuracy: 0.9778\n",
      "Epoch 295/500\n",
      "15/15 [==============================] - 0s 5ms/step - loss: 0.0811 - accuracy: 0.9810 - val_loss: 0.0514 - val_accuracy: 0.9778\n",
      "Epoch 296/500\n",
      "15/15 [==============================] - 0s 3ms/step - loss: 0.0866 - accuracy: 0.9810 - val_loss: 0.0579 - val_accuracy: 0.9778\n",
      "Epoch 297/500\n",
      "15/15 [==============================] - 0s 3ms/step - loss: 0.0826 - accuracy: 0.9810 - val_loss: 0.0513 - val_accuracy: 0.9778\n",
      "Epoch 298/500\n",
      "15/15 [==============================] - 0s 4ms/step - loss: 0.0893 - accuracy: 0.9714 - val_loss: 0.0461 - val_accuracy: 0.9778\n",
      "Epoch 299/500\n",
      "15/15 [==============================] - 0s 4ms/step - loss: 0.0836 - accuracy: 0.9810 - val_loss: 0.0631 - val_accuracy: 0.9778\n",
      "Epoch 300/500\n",
      "15/15 [==============================] - 0s 5ms/step - loss: 0.0847 - accuracy: 0.9810 - val_loss: 0.0468 - val_accuracy: 0.9778\n",
      "Epoch 301/500\n",
      "15/15 [==============================] - 0s 3ms/step - loss: 0.0821 - accuracy: 0.9810 - val_loss: 0.0566 - val_accuracy: 0.9778\n",
      "Epoch 302/500\n",
      "15/15 [==============================] - 0s 4ms/step - loss: 0.0803 - accuracy: 0.9714 - val_loss: 0.0539 - val_accuracy: 0.9778\n",
      "Epoch 303/500\n",
      "15/15 [==============================] - 0s 3ms/step - loss: 0.0793 - accuracy: 0.9810 - val_loss: 0.0517 - val_accuracy: 0.9778\n",
      "Epoch 304/500\n",
      "15/15 [==============================] - 0s 3ms/step - loss: 0.0922 - accuracy: 0.9714 - val_loss: 0.0552 - val_accuracy: 0.9778\n",
      "Epoch 305/500\n",
      "15/15 [==============================] - 0s 4ms/step - loss: 0.0903 - accuracy: 0.9524 - val_loss: 0.0600 - val_accuracy: 0.9778\n",
      "Epoch 306/500\n",
      "15/15 [==============================] - 0s 5ms/step - loss: 0.0872 - accuracy: 0.9714 - val_loss: 0.0437 - val_accuracy: 1.0000\n",
      "Epoch 307/500\n",
      "15/15 [==============================] - 0s 3ms/step - loss: 0.0839 - accuracy: 0.9810 - val_loss: 0.0644 - val_accuracy: 0.9778\n",
      "Epoch 308/500\n",
      "15/15 [==============================] - 0s 4ms/step - loss: 0.0800 - accuracy: 0.9714 - val_loss: 0.0489 - val_accuracy: 0.9778\n",
      "Epoch 309/500\n",
      "15/15 [==============================] - 0s 4ms/step - loss: 0.0851 - accuracy: 0.9810 - val_loss: 0.0455 - val_accuracy: 0.9778\n",
      "Epoch 310/500\n",
      "15/15 [==============================] - 0s 4ms/step - loss: 0.0776 - accuracy: 0.9810 - val_loss: 0.0585 - val_accuracy: 0.9778\n",
      "Epoch 311/500\n",
      "15/15 [==============================] - 0s 3ms/step - loss: 0.0809 - accuracy: 0.9810 - val_loss: 0.0481 - val_accuracy: 0.9778\n",
      "Epoch 312/500\n",
      "15/15 [==============================] - 0s 3ms/step - loss: 0.0780 - accuracy: 0.9810 - val_loss: 0.0568 - val_accuracy: 0.9778\n",
      "Epoch 313/500\n",
      "15/15 [==============================] - 0s 3ms/step - loss: 0.0808 - accuracy: 0.9905 - val_loss: 0.0503 - val_accuracy: 0.9778\n",
      "Epoch 314/500\n",
      "15/15 [==============================] - 0s 3ms/step - loss: 0.0818 - accuracy: 0.9714 - val_loss: 0.0465 - val_accuracy: 0.9778\n",
      "Epoch 315/500\n",
      "15/15 [==============================] - 0s 4ms/step - loss: 0.0794 - accuracy: 0.9714 - val_loss: 0.0535 - val_accuracy: 0.9778\n",
      "Epoch 316/500\n",
      "15/15 [==============================] - 0s 4ms/step - loss: 0.0814 - accuracy: 0.9810 - val_loss: 0.0535 - val_accuracy: 0.9778\n",
      "Epoch 317/500\n",
      "15/15 [==============================] - 0s 3ms/step - loss: 0.0832 - accuracy: 0.9714 - val_loss: 0.0464 - val_accuracy: 0.9778\n",
      "Epoch 318/500\n",
      "15/15 [==============================] - 0s 4ms/step - loss: 0.0883 - accuracy: 0.9619 - val_loss: 0.0593 - val_accuracy: 0.9778\n",
      "Epoch 319/500\n",
      "15/15 [==============================] - 0s 5ms/step - loss: 0.0975 - accuracy: 0.9714 - val_loss: 0.0421 - val_accuracy: 1.0000\n",
      "Epoch 320/500\n",
      "15/15 [==============================] - 0s 5ms/step - loss: 0.0772 - accuracy: 0.9714 - val_loss: 0.0604 - val_accuracy: 0.9778\n",
      "Epoch 321/500\n",
      "15/15 [==============================] - 0s 4ms/step - loss: 0.0790 - accuracy: 0.9905 - val_loss: 0.0478 - val_accuracy: 0.9778\n",
      "Epoch 322/500\n",
      "15/15 [==============================] - 0s 3ms/step - loss: 0.0759 - accuracy: 0.9810 - val_loss: 0.0475 - val_accuracy: 0.9778\n",
      "Epoch 323/500\n",
      "15/15 [==============================] - 0s 3ms/step - loss: 0.0782 - accuracy: 0.9810 - val_loss: 0.0461 - val_accuracy: 0.9778\n",
      "Epoch 324/500\n",
      "15/15 [==============================] - 0s 3ms/step - loss: 0.0772 - accuracy: 0.9810 - val_loss: 0.0473 - val_accuracy: 0.9778\n",
      "Epoch 325/500\n",
      "15/15 [==============================] - 0s 4ms/step - loss: 0.0874 - accuracy: 0.9714 - val_loss: 0.0487 - val_accuracy: 0.9778\n",
      "Epoch 326/500\n",
      "15/15 [==============================] - 0s 5ms/step - loss: 0.0789 - accuracy: 0.9810 - val_loss: 0.0440 - val_accuracy: 0.9778\n",
      "Epoch 327/500\n",
      "15/15 [==============================] - 0s 3ms/step - loss: 0.0772 - accuracy: 0.9810 - val_loss: 0.0565 - val_accuracy: 0.9778\n",
      "Epoch 328/500\n",
      "15/15 [==============================] - 0s 3ms/step - loss: 0.0806 - accuracy: 0.9810 - val_loss: 0.0492 - val_accuracy: 0.9778\n",
      "Epoch 329/500\n",
      "15/15 [==============================] - 0s 4ms/step - loss: 0.0758 - accuracy: 0.9810 - val_loss: 0.0514 - val_accuracy: 0.9778\n",
      "Epoch 330/500\n",
      "15/15 [==============================] - 0s 4ms/step - loss: 0.0784 - accuracy: 0.9714 - val_loss: 0.0490 - val_accuracy: 0.9778\n",
      "Epoch 331/500\n",
      "15/15 [==============================] - 0s 5ms/step - loss: 0.0801 - accuracy: 0.9714 - val_loss: 0.0428 - val_accuracy: 0.9778\n",
      "Epoch 332/500\n",
      "15/15 [==============================] - 0s 3ms/step - loss: 0.0836 - accuracy: 0.9714 - val_loss: 0.0575 - val_accuracy: 0.9778\n",
      "Epoch 333/500\n",
      "15/15 [==============================] - 0s 4ms/step - loss: 0.0723 - accuracy: 0.9810 - val_loss: 0.0441 - val_accuracy: 0.9778\n",
      "Epoch 334/500\n",
      "15/15 [==============================] - 0s 3ms/step - loss: 0.0770 - accuracy: 0.9810 - val_loss: 0.0494 - val_accuracy: 0.9778\n",
      "Epoch 335/500\n",
      "15/15 [==============================] - 0s 4ms/step - loss: 0.0804 - accuracy: 0.9810 - val_loss: 0.0449 - val_accuracy: 0.9778\n",
      "Epoch 336/500\n",
      "15/15 [==============================] - 0s 4ms/step - loss: 0.0754 - accuracy: 0.9810 - val_loss: 0.0457 - val_accuracy: 0.9778\n",
      "Epoch 337/500\n",
      "15/15 [==============================] - 0s 4ms/step - loss: 0.0770 - accuracy: 0.9810 - val_loss: 0.0491 - val_accuracy: 0.9778\n",
      "Epoch 338/500\n",
      "15/15 [==============================] - 0s 5ms/step - loss: 0.0782 - accuracy: 0.9810 - val_loss: 0.0450 - val_accuracy: 0.9778\n",
      "Epoch 339/500\n",
      "15/15 [==============================] - 0s 4ms/step - loss: 0.0755 - accuracy: 0.9810 - val_loss: 0.0496 - val_accuracy: 0.9778\n",
      "Epoch 340/500\n",
      "15/15 [==============================] - 0s 4ms/step - loss: 0.0733 - accuracy: 0.9810 - val_loss: 0.0495 - val_accuracy: 0.9778\n",
      "Epoch 341/500\n",
      "15/15 [==============================] - 0s 5ms/step - loss: 0.0749 - accuracy: 0.9810 - val_loss: 0.0435 - val_accuracy: 0.9778\n",
      "Epoch 342/500\n",
      "15/15 [==============================] - 0s 5ms/step - loss: 0.0740 - accuracy: 0.9810 - val_loss: 0.0511 - val_accuracy: 0.9778\n",
      "Epoch 343/500\n",
      "15/15 [==============================] - 0s 3ms/step - loss: 0.0777 - accuracy: 0.9714 - val_loss: 0.0479 - val_accuracy: 0.9778\n",
      "Epoch 344/500\n",
      "15/15 [==============================] - 0s 4ms/step - loss: 0.0749 - accuracy: 0.9810 - val_loss: 0.0447 - val_accuracy: 0.9778\n",
      "Epoch 345/500\n",
      "15/15 [==============================] - 0s 4ms/step - loss: 0.0781 - accuracy: 0.9810 - val_loss: 0.0416 - val_accuracy: 0.9778\n",
      "Epoch 346/500\n",
      "15/15 [==============================] - 0s 3ms/step - loss: 0.0746 - accuracy: 0.9810 - val_loss: 0.0544 - val_accuracy: 0.9778\n",
      "Epoch 347/500\n",
      "15/15 [==============================] - 0s 3ms/step - loss: 0.0766 - accuracy: 0.9810 - val_loss: 0.0456 - val_accuracy: 0.9778\n",
      "Epoch 348/500\n",
      "15/15 [==============================] - 0s 3ms/step - loss: 0.0747 - accuracy: 0.9810 - val_loss: 0.0480 - val_accuracy: 0.9778\n",
      "Epoch 349/500\n",
      "15/15 [==============================] - 0s 4ms/step - loss: 0.0763 - accuracy: 0.9810 - val_loss: 0.0488 - val_accuracy: 0.9778\n",
      "Epoch 350/500\n",
      "15/15 [==============================] - 0s 4ms/step - loss: 0.0803 - accuracy: 0.9810 - val_loss: 0.0467 - val_accuracy: 0.9778\n",
      "Epoch 351/500\n",
      "15/15 [==============================] - 0s 3ms/step - loss: 0.0746 - accuracy: 0.9810 - val_loss: 0.0453 - val_accuracy: 0.9778\n",
      "Epoch 352/500\n",
      "15/15 [==============================] - 0s 4ms/step - loss: 0.0825 - accuracy: 0.9619 - val_loss: 0.0548 - val_accuracy: 0.9778\n",
      "Epoch 353/500\n",
      "15/15 [==============================] - 0s 4ms/step - loss: 0.0799 - accuracy: 0.9810 - val_loss: 0.0436 - val_accuracy: 0.9778\n",
      "Epoch 354/500\n",
      "15/15 [==============================] - 0s 4ms/step - loss: 0.0729 - accuracy: 0.9810 - val_loss: 0.0480 - val_accuracy: 0.9778\n",
      "Epoch 355/500\n",
      "15/15 [==============================] - 0s 3ms/step - loss: 0.0749 - accuracy: 0.9810 - val_loss: 0.0494 - val_accuracy: 0.9778\n",
      "Epoch 356/500\n",
      "15/15 [==============================] - 0s 3ms/step - loss: 0.0758 - accuracy: 0.9714 - val_loss: 0.0496 - val_accuracy: 0.9778\n",
      "Epoch 357/500\n",
      "15/15 [==============================] - 0s 3ms/step - loss: 0.0787 - accuracy: 0.9714 - val_loss: 0.0487 - val_accuracy: 0.9778\n",
      "Epoch 358/500\n",
      "15/15 [==============================] - 0s 3ms/step - loss: 0.0712 - accuracy: 0.9810 - val_loss: 0.0394 - val_accuracy: 0.9778\n",
      "Epoch 359/500\n",
      "15/15 [==============================] - 0s 4ms/step - loss: 0.0762 - accuracy: 0.9810 - val_loss: 0.0482 - val_accuracy: 0.9778\n",
      "Epoch 360/500\n",
      "15/15 [==============================] - 0s 4ms/step - loss: 0.0843 - accuracy: 0.9524 - val_loss: 0.0406 - val_accuracy: 0.9778\n",
      "Epoch 361/500\n",
      "15/15 [==============================] - 0s 4ms/step - loss: 0.0809 - accuracy: 0.9714 - val_loss: 0.0401 - val_accuracy: 0.9778\n",
      "Epoch 362/500\n",
      "15/15 [==============================] - 0s 4ms/step - loss: 0.0775 - accuracy: 0.9810 - val_loss: 0.0556 - val_accuracy: 0.9778\n",
      "Epoch 363/500\n",
      "15/15 [==============================] - 0s 5ms/step - loss: 0.0735 - accuracy: 0.9714 - val_loss: 0.0466 - val_accuracy: 0.9778\n",
      "Epoch 364/500\n",
      "15/15 [==============================] - 0s 4ms/step - loss: 0.0727 - accuracy: 0.9810 - val_loss: 0.0412 - val_accuracy: 0.9778\n",
      "Epoch 365/500\n",
      "15/15 [==============================] - 0s 4ms/step - loss: 0.0726 - accuracy: 0.9810 - val_loss: 0.0513 - val_accuracy: 0.9778\n",
      "Epoch 366/500\n",
      "15/15 [==============================] - 0s 3ms/step - loss: 0.0714 - accuracy: 0.9810 - val_loss: 0.0474 - val_accuracy: 0.9778\n",
      "Epoch 367/500\n",
      "15/15 [==============================] - 0s 4ms/step - loss: 0.0715 - accuracy: 0.9810 - val_loss: 0.0456 - val_accuracy: 0.9778\n",
      "Epoch 368/500\n",
      "15/15 [==============================] - 0s 3ms/step - loss: 0.0718 - accuracy: 0.9714 - val_loss: 0.0447 - val_accuracy: 0.9778\n",
      "Epoch 369/500\n",
      "15/15 [==============================] - 0s 4ms/step - loss: 0.0731 - accuracy: 0.9810 - val_loss: 0.0434 - val_accuracy: 0.9778\n",
      "Epoch 370/500\n",
      "15/15 [==============================] - 0s 4ms/step - loss: 0.0700 - accuracy: 0.9810 - val_loss: 0.0488 - val_accuracy: 0.9778\n",
      "Epoch 371/500\n",
      "15/15 [==============================] - 0s 4ms/step - loss: 0.0711 - accuracy: 0.9810 - val_loss: 0.0475 - val_accuracy: 0.9778\n",
      "Epoch 372/500\n",
      "15/15 [==============================] - 0s 3ms/step - loss: 0.0712 - accuracy: 0.9810 - val_loss: 0.0438 - val_accuracy: 0.9778\n",
      "Epoch 373/500\n",
      "15/15 [==============================] - 0s 4ms/step - loss: 0.0738 - accuracy: 0.9714 - val_loss: 0.0466 - val_accuracy: 0.9778\n",
      "Epoch 374/500\n",
      "15/15 [==============================] - 0s 4ms/step - loss: 0.0702 - accuracy: 0.9810 - val_loss: 0.0453 - val_accuracy: 0.9778\n",
      "Epoch 375/500\n",
      "15/15 [==============================] - 0s 5ms/step - loss: 0.0705 - accuracy: 0.9810 - val_loss: 0.0415 - val_accuracy: 0.9778\n",
      "Epoch 376/500\n",
      "15/15 [==============================] - 0s 3ms/step - loss: 0.0767 - accuracy: 0.9810 - val_loss: 0.0456 - val_accuracy: 0.9778\n",
      "Epoch 377/500\n",
      "15/15 [==============================] - 0s 3ms/step - loss: 0.0757 - accuracy: 0.9905 - val_loss: 0.0557 - val_accuracy: 0.9778\n",
      "Epoch 378/500\n",
      "15/15 [==============================] - 0s 4ms/step - loss: 0.0678 - accuracy: 0.9810 - val_loss: 0.0410 - val_accuracy: 0.9778\n",
      "Epoch 379/500\n",
      "15/15 [==============================] - 0s 3ms/step - loss: 0.0758 - accuracy: 0.9714 - val_loss: 0.0471 - val_accuracy: 0.9778\n",
      "Epoch 380/500\n",
      "15/15 [==============================] - 0s 3ms/step - loss: 0.0702 - accuracy: 0.9810 - val_loss: 0.0412 - val_accuracy: 0.9778\n",
      "Epoch 381/500\n",
      "15/15 [==============================] - 0s 3ms/step - loss: 0.0721 - accuracy: 0.9810 - val_loss: 0.0393 - val_accuracy: 0.9778\n",
      "Epoch 382/500\n",
      "15/15 [==============================] - 0s 3ms/step - loss: 0.0739 - accuracy: 0.9810 - val_loss: 0.0481 - val_accuracy: 0.9778\n",
      "Epoch 383/500\n",
      "15/15 [==============================] - 0s 3ms/step - loss: 0.0692 - accuracy: 0.9810 - val_loss: 0.0416 - val_accuracy: 0.9778\n",
      "Epoch 384/500\n",
      "15/15 [==============================] - 0s 5ms/step - loss: 0.0731 - accuracy: 0.9810 - val_loss: 0.0496 - val_accuracy: 0.9778\n",
      "Epoch 385/500\n",
      "15/15 [==============================] - 0s 4ms/step - loss: 0.0740 - accuracy: 0.9810 - val_loss: 0.0355 - val_accuracy: 0.9778\n",
      "Epoch 386/500\n",
      "15/15 [==============================] - 0s 4ms/step - loss: 0.0738 - accuracy: 0.9714 - val_loss: 0.0522 - val_accuracy: 0.9778\n",
      "Epoch 387/500\n",
      "15/15 [==============================] - 0s 3ms/step - loss: 0.0746 - accuracy: 0.9810 - val_loss: 0.0420 - val_accuracy: 0.9778\n",
      "Epoch 388/500\n",
      "15/15 [==============================] - 0s 4ms/step - loss: 0.0710 - accuracy: 0.9714 - val_loss: 0.0476 - val_accuracy: 0.9778\n",
      "Epoch 389/500\n",
      "15/15 [==============================] - 0s 4ms/step - loss: 0.0725 - accuracy: 0.9810 - val_loss: 0.0421 - val_accuracy: 0.9778\n",
      "Epoch 390/500\n",
      "15/15 [==============================] - 0s 3ms/step - loss: 0.0699 - accuracy: 0.9810 - val_loss: 0.0465 - val_accuracy: 0.9778\n",
      "Epoch 391/500\n",
      "15/15 [==============================] - 0s 4ms/step - loss: 0.0698 - accuracy: 0.9810 - val_loss: 0.0449 - val_accuracy: 0.9778\n",
      "Epoch 392/500\n",
      "15/15 [==============================] - 0s 4ms/step - loss: 0.0731 - accuracy: 0.9810 - val_loss: 0.0376 - val_accuracy: 0.9778\n",
      "Epoch 393/500\n",
      "15/15 [==============================] - 0s 3ms/step - loss: 0.0760 - accuracy: 0.9714 - val_loss: 0.0522 - val_accuracy: 0.9778\n",
      "Epoch 394/500\n",
      "15/15 [==============================] - 0s 4ms/step - loss: 0.0922 - accuracy: 0.9619 - val_loss: 0.0413 - val_accuracy: 0.9778\n",
      "Epoch 395/500\n",
      "15/15 [==============================] - 0s 3ms/step - loss: 0.0677 - accuracy: 0.9810 - val_loss: 0.0491 - val_accuracy: 0.9778\n",
      "Epoch 396/500\n",
      "15/15 [==============================] - 0s 5ms/step - loss: 0.0719 - accuracy: 0.9810 - val_loss: 0.0390 - val_accuracy: 0.9778\n",
      "Epoch 397/500\n",
      "15/15 [==============================] - 0s 3ms/step - loss: 0.0681 - accuracy: 0.9810 - val_loss: 0.0450 - val_accuracy: 0.9778\n",
      "Epoch 398/500\n",
      "15/15 [==============================] - 0s 3ms/step - loss: 0.0715 - accuracy: 0.9810 - val_loss: 0.0453 - val_accuracy: 0.9778\n",
      "Epoch 399/500\n",
      "15/15 [==============================] - 0s 3ms/step - loss: 0.0682 - accuracy: 0.9810 - val_loss: 0.0379 - val_accuracy: 0.9778\n",
      "Epoch 400/500\n",
      "15/15 [==============================] - 0s 3ms/step - loss: 0.0694 - accuracy: 0.9810 - val_loss: 0.0405 - val_accuracy: 0.9778\n",
      "Epoch 401/500\n",
      "15/15 [==============================] - 0s 4ms/step - loss: 0.0677 - accuracy: 0.9810 - val_loss: 0.0452 - val_accuracy: 0.9778\n",
      "Epoch 402/500\n",
      "15/15 [==============================] - 0s 3ms/step - loss: 0.0714 - accuracy: 0.9810 - val_loss: 0.0492 - val_accuracy: 0.9778\n",
      "Epoch 403/500\n",
      "15/15 [==============================] - 0s 5ms/step - loss: 0.0714 - accuracy: 0.9905 - val_loss: 0.0360 - val_accuracy: 0.9778\n",
      "Epoch 404/500\n",
      "15/15 [==============================] - 0s 3ms/step - loss: 0.0670 - accuracy: 0.9810 - val_loss: 0.0463 - val_accuracy: 0.9778\n",
      "Epoch 405/500\n",
      "15/15 [==============================] - 0s 4ms/step - loss: 0.0673 - accuracy: 0.9810 - val_loss: 0.0428 - val_accuracy: 0.9778\n",
      "Epoch 406/500\n",
      "15/15 [==============================] - 0s 3ms/step - loss: 0.0686 - accuracy: 0.9810 - val_loss: 0.0436 - val_accuracy: 0.9778\n",
      "Epoch 407/500\n",
      "15/15 [==============================] - 0s 3ms/step - loss: 0.0760 - accuracy: 0.9810 - val_loss: 0.0422 - val_accuracy: 0.9778\n",
      "Epoch 408/500\n",
      "15/15 [==============================] - 0s 5ms/step - loss: 0.0716 - accuracy: 0.9810 - val_loss: 0.0404 - val_accuracy: 0.9778\n",
      "Epoch 409/500\n",
      "15/15 [==============================] - 0s 4ms/step - loss: 0.0774 - accuracy: 0.9810 - val_loss: 0.0350 - val_accuracy: 0.9778\n",
      "Epoch 410/500\n",
      "15/15 [==============================] - 0s 3ms/step - loss: 0.0646 - accuracy: 0.9810 - val_loss: 0.0524 - val_accuracy: 0.9778\n",
      "Epoch 411/500\n",
      "15/15 [==============================] - 0s 3ms/step - loss: 0.0736 - accuracy: 0.9810 - val_loss: 0.0462 - val_accuracy: 0.9778\n",
      "Epoch 412/500\n",
      "15/15 [==============================] - 0s 4ms/step - loss: 0.1007 - accuracy: 0.9714 - val_loss: 0.0328 - val_accuracy: 0.9778\n",
      "Epoch 413/500\n",
      "15/15 [==============================] - 0s 3ms/step - loss: 0.0866 - accuracy: 0.9619 - val_loss: 0.0548 - val_accuracy: 0.9778\n",
      "Epoch 414/500\n",
      "15/15 [==============================] - 0s 4ms/step - loss: 0.0802 - accuracy: 0.9714 - val_loss: 0.0370 - val_accuracy: 0.9778\n",
      "Epoch 415/500\n",
      "15/15 [==============================] - 0s 4ms/step - loss: 0.0696 - accuracy: 0.9810 - val_loss: 0.0500 - val_accuracy: 0.9778\n",
      "Epoch 416/500\n",
      "15/15 [==============================] - 0s 3ms/step - loss: 0.0683 - accuracy: 0.9810 - val_loss: 0.0399 - val_accuracy: 0.9778\n",
      "Epoch 417/500\n",
      "15/15 [==============================] - 0s 4ms/step - loss: 0.0764 - accuracy: 0.9714 - val_loss: 0.0334 - val_accuracy: 0.9778\n",
      "Epoch 418/500\n",
      "15/15 [==============================] - 0s 4ms/step - loss: 0.0812 - accuracy: 0.9714 - val_loss: 0.0512 - val_accuracy: 0.9778\n",
      "Epoch 419/500\n",
      "15/15 [==============================] - 0s 4ms/step - loss: 0.0743 - accuracy: 0.9810 - val_loss: 0.0319 - val_accuracy: 0.9778\n",
      "Epoch 420/500\n",
      "15/15 [==============================] - 0s 3ms/step - loss: 0.0762 - accuracy: 0.9714 - val_loss: 0.0473 - val_accuracy: 0.9778\n",
      "Epoch 421/500\n",
      "15/15 [==============================] - 0s 3ms/step - loss: 0.0677 - accuracy: 0.9714 - val_loss: 0.0394 - val_accuracy: 0.9778\n",
      "Epoch 422/500\n",
      "15/15 [==============================] - 0s 4ms/step - loss: 0.0690 - accuracy: 0.9810 - val_loss: 0.0413 - val_accuracy: 0.9778\n",
      "Epoch 423/500\n",
      "15/15 [==============================] - 0s 3ms/step - loss: 0.0657 - accuracy: 0.9810 - val_loss: 0.0425 - val_accuracy: 0.9778\n",
      "Epoch 424/500\n",
      "15/15 [==============================] - 0s 3ms/step - loss: 0.0664 - accuracy: 0.9810 - val_loss: 0.0406 - val_accuracy: 0.9778\n",
      "Epoch 425/500\n",
      "15/15 [==============================] - 0s 5ms/step - loss: 0.0667 - accuracy: 0.9810 - val_loss: 0.0468 - val_accuracy: 0.9778\n",
      "Epoch 426/500\n",
      "15/15 [==============================] - 0s 4ms/step - loss: 0.0665 - accuracy: 0.9810 - val_loss: 0.0381 - val_accuracy: 0.9778\n",
      "Epoch 427/500\n",
      "15/15 [==============================] - 0s 4ms/step - loss: 0.0673 - accuracy: 0.9810 - val_loss: 0.0439 - val_accuracy: 0.9778\n",
      "Epoch 428/500\n",
      "15/15 [==============================] - 0s 4ms/step - loss: 0.0673 - accuracy: 0.9810 - val_loss: 0.0401 - val_accuracy: 0.9778\n",
      "Epoch 429/500\n",
      "15/15 [==============================] - 0s 4ms/step - loss: 0.0670 - accuracy: 0.9905 - val_loss: 0.0433 - val_accuracy: 0.9778\n",
      "Epoch 430/500\n",
      "15/15 [==============================] - 0s 3ms/step - loss: 0.0699 - accuracy: 0.9905 - val_loss: 0.0453 - val_accuracy: 0.9778\n",
      "Epoch 431/500\n",
      "15/15 [==============================] - 0s 3ms/step - loss: 0.0642 - accuracy: 0.9905 - val_loss: 0.0361 - val_accuracy: 0.9778\n",
      "Epoch 432/500\n",
      "15/15 [==============================] - 0s 4ms/step - loss: 0.0747 - accuracy: 0.9714 - val_loss: 0.0371 - val_accuracy: 0.9778\n",
      "Epoch 433/500\n",
      "15/15 [==============================] - 0s 4ms/step - loss: 0.0731 - accuracy: 0.9714 - val_loss: 0.0525 - val_accuracy: 0.9778\n",
      "Epoch 434/500\n",
      "15/15 [==============================] - 0s 3ms/step - loss: 0.0590 - accuracy: 0.9905 - val_loss: 0.0333 - val_accuracy: 0.9778\n",
      "Epoch 435/500\n",
      "15/15 [==============================] - 0s 3ms/step - loss: 0.0693 - accuracy: 0.9810 - val_loss: 0.0373 - val_accuracy: 0.9778\n",
      "Epoch 436/500\n",
      "15/15 [==============================] - 0s 4ms/step - loss: 0.0699 - accuracy: 0.9905 - val_loss: 0.0481 - val_accuracy: 0.9778\n",
      "Epoch 437/500\n",
      "15/15 [==============================] - 0s 3ms/step - loss: 0.0766 - accuracy: 0.9810 - val_loss: 0.0329 - val_accuracy: 0.9778\n",
      "Epoch 438/500\n",
      "15/15 [==============================] - 0s 5ms/step - loss: 0.0674 - accuracy: 0.9810 - val_loss: 0.0564 - val_accuracy: 0.9778\n",
      "Epoch 439/500\n",
      "15/15 [==============================] - 0s 5ms/step - loss: 0.0667 - accuracy: 0.9810 - val_loss: 0.0378 - val_accuracy: 0.9778\n",
      "Epoch 440/500\n",
      "15/15 [==============================] - 0s 4ms/step - loss: 0.0674 - accuracy: 0.9810 - val_loss: 0.0364 - val_accuracy: 0.9778\n",
      "Epoch 441/500\n",
      "15/15 [==============================] - 0s 4ms/step - loss: 0.0757 - accuracy: 0.9619 - val_loss: 0.0520 - val_accuracy: 0.9778\n",
      "Epoch 442/500\n",
      "15/15 [==============================] - 0s 5ms/step - loss: 0.0854 - accuracy: 0.9619 - val_loss: 0.0318 - val_accuracy: 0.9778\n",
      "Epoch 443/500\n",
      "15/15 [==============================] - 0s 4ms/step - loss: 0.0628 - accuracy: 0.9810 - val_loss: 0.0426 - val_accuracy: 0.9778\n",
      "Epoch 444/500\n",
      "15/15 [==============================] - 0s 4ms/step - loss: 0.0739 - accuracy: 0.9714 - val_loss: 0.0464 - val_accuracy: 0.9778\n",
      "Epoch 445/500\n",
      "15/15 [==============================] - 0s 3ms/step - loss: 0.0728 - accuracy: 0.9810 - val_loss: 0.0317 - val_accuracy: 0.9778\n",
      "Epoch 446/500\n",
      "15/15 [==============================] - 0s 4ms/step - loss: 0.0646 - accuracy: 0.9810 - val_loss: 0.0455 - val_accuracy: 0.9778\n",
      "Epoch 447/500\n",
      "15/15 [==============================] - 0s 3ms/step - loss: 0.0665 - accuracy: 0.9810 - val_loss: 0.0467 - val_accuracy: 0.9778\n",
      "Epoch 448/500\n",
      "15/15 [==============================] - 0s 4ms/step - loss: 0.0688 - accuracy: 0.9810 - val_loss: 0.0375 - val_accuracy: 0.9778\n",
      "Epoch 449/500\n",
      "15/15 [==============================] - 0s 4ms/step - loss: 0.0682 - accuracy: 0.9810 - val_loss: 0.0364 - val_accuracy: 0.9778\n",
      "Epoch 450/500\n",
      "15/15 [==============================] - 0s 4ms/step - loss: 0.0639 - accuracy: 0.9810 - val_loss: 0.0431 - val_accuracy: 0.9778\n",
      "Epoch 451/500\n",
      "15/15 [==============================] - 0s 3ms/step - loss: 0.0680 - accuracy: 0.9810 - val_loss: 0.0414 - val_accuracy: 0.9778\n",
      "Epoch 452/500\n",
      "15/15 [==============================] - 0s 3ms/step - loss: 0.0676 - accuracy: 0.9810 - val_loss: 0.0447 - val_accuracy: 0.9778\n",
      "Epoch 453/500\n",
      "15/15 [==============================] - 0s 4ms/step - loss: 0.0661 - accuracy: 0.9810 - val_loss: 0.0390 - val_accuracy: 0.9778\n",
      "Epoch 454/500\n",
      "15/15 [==============================] - 0s 4ms/step - loss: 0.0691 - accuracy: 0.9810 - val_loss: 0.0373 - val_accuracy: 0.9778\n",
      "Epoch 455/500\n",
      "15/15 [==============================] - 0s 4ms/step - loss: 0.0660 - accuracy: 0.9810 - val_loss: 0.0464 - val_accuracy: 0.9778\n",
      "Epoch 456/500\n",
      "15/15 [==============================] - 0s 3ms/step - loss: 0.0646 - accuracy: 0.9714 - val_loss: 0.0394 - val_accuracy: 0.9778\n",
      "Epoch 457/500\n",
      "15/15 [==============================] - 0s 4ms/step - loss: 0.0635 - accuracy: 0.9810 - val_loss: 0.0420 - val_accuracy: 0.9778\n",
      "Epoch 458/500\n",
      "15/15 [==============================] - 0s 4ms/step - loss: 0.0646 - accuracy: 0.9810 - val_loss: 0.0435 - val_accuracy: 0.9778\n",
      "Epoch 459/500\n",
      "15/15 [==============================] - 0s 4ms/step - loss: 0.0675 - accuracy: 0.9905 - val_loss: 0.0351 - val_accuracy: 0.9778\n",
      "Epoch 460/500\n",
      "15/15 [==============================] - 0s 4ms/step - loss: 0.0710 - accuracy: 0.9714 - val_loss: 0.0392 - val_accuracy: 0.9778\n",
      "Epoch 461/500\n",
      "15/15 [==============================] - 0s 4ms/step - loss: 0.0635 - accuracy: 0.9810 - val_loss: 0.0371 - val_accuracy: 0.9778\n",
      "Epoch 462/500\n",
      "15/15 [==============================] - 0s 3ms/step - loss: 0.0652 - accuracy: 0.9905 - val_loss: 0.0436 - val_accuracy: 0.9778\n",
      "Epoch 463/500\n",
      "15/15 [==============================] - 0s 4ms/step - loss: 0.0632 - accuracy: 0.9905 - val_loss: 0.0385 - val_accuracy: 0.9778\n",
      "Epoch 464/500\n",
      "15/15 [==============================] - 0s 4ms/step - loss: 0.0682 - accuracy: 0.9810 - val_loss: 0.0406 - val_accuracy: 0.9778\n",
      "Epoch 465/500\n",
      "15/15 [==============================] - 0s 4ms/step - loss: 0.0726 - accuracy: 0.9714 - val_loss: 0.0331 - val_accuracy: 0.9778\n",
      "Epoch 466/500\n",
      "15/15 [==============================] - 0s 4ms/step - loss: 0.0660 - accuracy: 0.9810 - val_loss: 0.0493 - val_accuracy: 0.9778\n",
      "Epoch 467/500\n",
      "15/15 [==============================] - 0s 3ms/step - loss: 0.0682 - accuracy: 0.9905 - val_loss: 0.0384 - val_accuracy: 0.9778\n",
      "Epoch 468/500\n",
      "15/15 [==============================] - 0s 3ms/step - loss: 0.0684 - accuracy: 0.9810 - val_loss: 0.0408 - val_accuracy: 0.9778\n",
      "Epoch 469/500\n",
      "15/15 [==============================] - 0s 4ms/step - loss: 0.0678 - accuracy: 0.9810 - val_loss: 0.0342 - val_accuracy: 0.9778\n",
      "Epoch 470/500\n",
      "15/15 [==============================] - 0s 5ms/step - loss: 0.0746 - accuracy: 0.9714 - val_loss: 0.0500 - val_accuracy: 0.9778\n",
      "Epoch 471/500\n",
      "15/15 [==============================] - 0s 3ms/step - loss: 0.0700 - accuracy: 0.9810 - val_loss: 0.0346 - val_accuracy: 0.9778\n",
      "Epoch 472/500\n",
      "15/15 [==============================] - 0s 4ms/step - loss: 0.0691 - accuracy: 0.9810 - val_loss: 0.0446 - val_accuracy: 0.9778\n",
      "Epoch 473/500\n",
      "15/15 [==============================] - 0s 3ms/step - loss: 0.0648 - accuracy: 0.9810 - val_loss: 0.0336 - val_accuracy: 0.9778\n",
      "Epoch 474/500\n",
      "15/15 [==============================] - 0s 4ms/step - loss: 0.0641 - accuracy: 0.9810 - val_loss: 0.0407 - val_accuracy: 0.9778\n",
      "Epoch 475/500\n",
      "15/15 [==============================] - 0s 4ms/step - loss: 0.0645 - accuracy: 0.9810 - val_loss: 0.0495 - val_accuracy: 0.9778\n",
      "Epoch 476/500\n",
      "15/15 [==============================] - 0s 4ms/step - loss: 0.0645 - accuracy: 0.9714 - val_loss: 0.0391 - val_accuracy: 0.9778\n",
      "Epoch 477/500\n",
      "15/15 [==============================] - 0s 4ms/step - loss: 0.0750 - accuracy: 0.9619 - val_loss: 0.0419 - val_accuracy: 0.9778\n",
      "Epoch 478/500\n",
      "15/15 [==============================] - 0s 3ms/step - loss: 0.0718 - accuracy: 0.9810 - val_loss: 0.0342 - val_accuracy: 0.9778\n",
      "Epoch 479/500\n",
      "15/15 [==============================] - 0s 4ms/step - loss: 0.0660 - accuracy: 0.9810 - val_loss: 0.0416 - val_accuracy: 0.9778\n",
      "Epoch 480/500\n",
      "15/15 [==============================] - 0s 5ms/step - loss: 0.0756 - accuracy: 0.9524 - val_loss: 0.0382 - val_accuracy: 0.9778\n",
      "Epoch 481/500\n",
      "15/15 [==============================] - 0s 4ms/step - loss: 0.0644 - accuracy: 0.9810 - val_loss: 0.0358 - val_accuracy: 0.9778\n",
      "Epoch 482/500\n",
      "15/15 [==============================] - 0s 3ms/step - loss: 0.0656 - accuracy: 0.9810 - val_loss: 0.0390 - val_accuracy: 0.9778\n",
      "Epoch 483/500\n",
      "15/15 [==============================] - 0s 5ms/step - loss: 0.0687 - accuracy: 0.9810 - val_loss: 0.0402 - val_accuracy: 0.9778\n",
      "Epoch 484/500\n",
      "15/15 [==============================] - 0s 3ms/step - loss: 0.0675 - accuracy: 0.9810 - val_loss: 0.0475 - val_accuracy: 0.9778\n",
      "Epoch 485/500\n",
      "15/15 [==============================] - 0s 4ms/step - loss: 0.0626 - accuracy: 0.9810 - val_loss: 0.0338 - val_accuracy: 0.9778\n",
      "Epoch 486/500\n",
      "15/15 [==============================] - 0s 3ms/step - loss: 0.0615 - accuracy: 0.9810 - val_loss: 0.0456 - val_accuracy: 0.9778\n",
      "Epoch 487/500\n",
      "15/15 [==============================] - 0s 3ms/step - loss: 0.0622 - accuracy: 0.9810 - val_loss: 0.0407 - val_accuracy: 0.9778\n",
      "Epoch 488/500\n",
      "15/15 [==============================] - 0s 4ms/step - loss: 0.0721 - accuracy: 0.9810 - val_loss: 0.0294 - val_accuracy: 0.9778\n",
      "Epoch 489/500\n",
      "15/15 [==============================] - 0s 3ms/step - loss: 0.0668 - accuracy: 0.9714 - val_loss: 0.0673 - val_accuracy: 0.9778\n",
      "Epoch 490/500\n",
      "15/15 [==============================] - 0s 4ms/step - loss: 0.0698 - accuracy: 0.9524 - val_loss: 0.0314 - val_accuracy: 0.9778\n",
      "Epoch 491/500\n",
      "15/15 [==============================] - 0s 3ms/step - loss: 0.0688 - accuracy: 0.9810 - val_loss: 0.0367 - val_accuracy: 0.9778\n",
      "Epoch 492/500\n",
      "15/15 [==============================] - 0s 4ms/step - loss: 0.0642 - accuracy: 0.9810 - val_loss: 0.0462 - val_accuracy: 0.9778\n",
      "Epoch 493/500\n",
      "15/15 [==============================] - 0s 3ms/step - loss: 0.0716 - accuracy: 0.9714 - val_loss: 0.0371 - val_accuracy: 0.9778\n",
      "Epoch 494/500\n",
      "15/15 [==============================] - 0s 4ms/step - loss: 0.0618 - accuracy: 0.9810 - val_loss: 0.0459 - val_accuracy: 0.9778\n",
      "Epoch 495/500\n",
      "15/15 [==============================] - 0s 4ms/step - loss: 0.0674 - accuracy: 0.9810 - val_loss: 0.0377 - val_accuracy: 0.9778\n",
      "Epoch 496/500\n",
      "15/15 [==============================] - 0s 4ms/step - loss: 0.0606 - accuracy: 0.9810 - val_loss: 0.0325 - val_accuracy: 0.9778\n",
      "Epoch 497/500\n",
      "15/15 [==============================] - 0s 4ms/step - loss: 0.0630 - accuracy: 0.9810 - val_loss: 0.0381 - val_accuracy: 0.9778\n",
      "Epoch 498/500\n",
      "15/15 [==============================] - 0s 5ms/step - loss: 0.0680 - accuracy: 0.9810 - val_loss: 0.0432 - val_accuracy: 0.9778\n",
      "Epoch 499/500\n",
      "15/15 [==============================] - 0s 3ms/step - loss: 0.0633 - accuracy: 0.9714 - val_loss: 0.0464 - val_accuracy: 0.9778\n",
      "Epoch 500/500\n",
      "15/15 [==============================] - 0s 5ms/step - loss: 0.0641 - accuracy: 0.9810 - val_loss: 0.0366 - val_accuracy: 0.9778\n"
     ]
    }
   ],
   "source": [
    "History_iris = Model_iris.fit(X_train, y_train,\n",
    "                              epochs = 500,\n",
    "                              batch_size = 7,\n",
    "                              validation_data = (X_test, y_test))"
   ]
  },
  {
   "cell_type": "markdown",
   "metadata": {
    "id": "KWR3hsEE_ZGS"
   },
   "source": [
    "> ## 5) 학습 결과 시각화"
   ]
  },
  {
   "cell_type": "code",
   "execution_count": null,
   "metadata": {
    "colab": {
     "base_uri": "https://localhost:8080/",
     "height": 378
    },
    "executionInfo": {
     "elapsed": 752,
     "status": "ok",
     "timestamp": 1630370666959,
     "user": {
      "displayName": "이정구",
      "photoUrl": "https://lh3.googleusercontent.com/a-/AOh14Gg2atzeYT6QYFW3pcTDyi6aX0d6dqm_hj4W8fMg=s64",
      "userId": "17400242557229223804"
     },
     "user_tz": -540
    },
    "id": "OMpwabfNq2_v",
    "outputId": "84a602a6-222f-4df4-9b78-e01671b815dd"
   },
   "outputs": [
    {
     "data": {
      "image/png": "[encoded data removed]",
      "text/plain": [
       "<Figure size 648x432 with 1 Axes>"
      ]
     },
     "metadata": {
      "needs_background": "light"
     },
     "output_type": "display_data"
    }
   ],
   "source": [
    "import matplotlib.pyplot as plt\n",
    "\n",
    "plt.figure(figsize = (9, 6))\n",
    "plt.ylim(0, 1.2)\n",
    "plt.plot(History_iris.history['loss'])\n",
    "plt.plot(History_iris.history['val_loss'])\n",
    "plt.plot(History_iris.history['accuracy'])\n",
    "plt.plot(History_iris.history['val_accuracy'])\n",
    "plt.legend(['loss', 'val_loss', 'accuracy', 'val_accuracy'])\n",
    "plt.grid()\n",
    "plt.show()"
   ]
  },
  {
   "cell_type": "markdown",
   "metadata": {
    "id": "FNq1blJf_eIW"
   },
   "source": [
    "> ## 6) Model Evaluate"
   ]
  },
  {
   "cell_type": "markdown",
   "metadata": {
    "id": "Dok6iL5RKeTP"
   },
   "source": [
    "* Loss & Accuracy"
   ]
  },
  {
   "cell_type": "code",
   "execution_count": null,
   "metadata": {
    "colab": {
     "base_uri": "https://localhost:8080/"
    },
    "executionInfo": {
     "elapsed": 51,
     "status": "ok",
     "timestamp": 1630370666966,
     "user": {
      "displayName": "이정구",
      "photoUrl": "https://lh3.googleusercontent.com/a-/AOh14Gg2atzeYT6QYFW3pcTDyi6aX0d6dqm_hj4W8fMg=s64",
      "userId": "17400242557229223804"
     },
     "user_tz": -540
    },
    "id": "fJ2HtnYYsPIE",
    "outputId": "20ebf897-ff1e-438f-b217-1894b794af76"
   },
   "outputs": [
    {
     "name": "stdout",
     "output_type": "stream",
     "text": [
      "2/2 [==============================] - 0s 5ms/step - loss: 0.0366 - accuracy: 0.9778\n",
      "Loss = 0.04\n",
      "Accuracy = 0.98\n"
     ]
    }
   ],
   "source": [
    "loss, accuracy = Model_iris.evaluate(X_test, y_test)\n",
    "\n",
    "print('Loss = {:.2f}'.format(loss))\n",
    "print('Accuracy = {:.2f}'.format(accuracy))"
   ]
  },
  {
   "cell_type": "markdown",
   "metadata": {
    "id": "jFjd3_I7_mqn"
   },
   "source": [
    "> ## 7) Model Predict"
   ]
  },
  {
   "cell_type": "markdown",
   "metadata": {
    "id": "CGP07vr3_rAK"
   },
   "source": [
    "* Probability"
   ]
  },
  {
   "cell_type": "code",
   "execution_count": null,
   "metadata": {
    "colab": {
     "base_uri": "https://localhost:8080/"
    },
    "executionInfo": {
     "elapsed": 46,
     "status": "ok",
     "timestamp": 1630370666968,
     "user": {
      "displayName": "이정구",
      "photoUrl": "https://lh3.googleusercontent.com/a-/AOh14Gg2atzeYT6QYFW3pcTDyi6aX0d6dqm_hj4W8fMg=s64",
      "userId": "17400242557229223804"
     },
     "user_tz": -540
    },
    "id": "St1qcFxQuKqB",
    "outputId": "551fcef8-e811-4e47-9e53-fac701155950"
   },
   "outputs": [
    {
     "data": {
      "text/plain": [
       "array([[0.9859 , 0.00831, 0.00579],\n",
       "       [0.98078, 0.01248, 0.00673],\n",
       "       [0.00104, 0.99756, 0.0014 ],\n",
       "       [0.     , 0.00002, 0.99998],\n",
       "       [0.9859 , 0.00831, 0.00579],\n",
       "       [0.00008, 0.99935, 0.00057],\n",
       "       [0.     , 0.00373, 0.99626],\n",
       "       [0.9859 , 0.00831, 0.00579],\n",
       "       [0.     , 0.00022, 0.99978],\n",
       "       [0.9859 , 0.00831, 0.00579],\n",
       "       [0.00025, 0.90987, 0.08989],\n",
       "       [0.     , 0.00146, 0.99854],\n",
       "       [0.00002, 0.99854, 0.00143],\n",
       "       [0.9859 , 0.00831, 0.00579],\n",
       "       [0.9859 , 0.00831, 0.00579],\n",
       "       [0.00007, 0.99806, 0.00187],\n",
       "       [0.00004, 0.99033, 0.00962],\n",
       "       [0.9859 , 0.00831, 0.00579],\n",
       "       [0.00001, 0.99962, 0.00037],\n",
       "       [0.9859 , 0.00831, 0.00579],\n",
       "       [0.9859 , 0.00831, 0.00579],\n",
       "       [0.9859 , 0.00831, 0.00579],\n",
       "       [0.     , 0.00042, 0.99958],\n",
       "       [0.9859 , 0.00831, 0.00579],\n",
       "       [0.     , 0.03303, 0.96697],\n",
       "       [0.00004, 0.0071 , 0.99285],\n",
       "       [0.9859 , 0.00831, 0.00579],\n",
       "       [0.00001, 0.99853, 0.00146],\n",
       "       [0.00001, 0.99845, 0.00154],\n",
       "       [0.00002, 0.0281 , 0.97188],\n",
       "       [0.9859 , 0.00831, 0.00579],\n",
       "       [0.00001, 0.99918, 0.00081],\n",
       "       [0.9859 , 0.00831, 0.00579],\n",
       "       [0.00006, 0.69712, 0.30281],\n",
       "       [0.00003, 0.99722, 0.00275],\n",
       "       [0.00003, 0.99961, 0.00035],\n",
       "       [0.     , 0.00003, 0.99997],\n",
       "       [0.00005, 0.99936, 0.00058],\n",
       "       [0.9859 , 0.00831, 0.00579],\n",
       "       [0.00004, 0.99875, 0.00121],\n",
       "       [0.     , 0.00003, 0.99997],\n",
       "       [0.9859 , 0.00831, 0.00579],\n",
       "       [0.     , 0.00103, 0.99896],\n",
       "       [0.     , 0.00021, 0.99979],\n",
       "       [0.     , 0.01145, 0.98855]], dtype=float32)"
      ]
     },
     "execution_count": 21,
     "metadata": {},
     "output_type": "execute_result"
    }
   ],
   "source": [
    "import numpy as np\n",
    "np.set_printoptions(suppress = True, precision = 5)\n",
    "\n",
    "Model_iris.predict(X_test)"
   ]
  },
  {
   "cell_type": "markdown",
   "metadata": {
    "id": "JbO8z-fFbrAT"
   },
   "source": [
    "* Probability to Class"
   ]
  },
  {
   "cell_type": "code",
   "execution_count": null,
   "metadata": {
    "colab": {
     "base_uri": "https://localhost:8080/"
    },
    "executionInfo": {
     "elapsed": 44,
     "status": "ok",
     "timestamp": 1630370666969,
     "user": {
      "displayName": "이정구",
      "photoUrl": "https://lh3.googleusercontent.com/a-/AOh14Gg2atzeYT6QYFW3pcTDyi6aX0d6dqm_hj4W8fMg=s64",
      "userId": "17400242557229223804"
     },
     "user_tz": -540
    },
    "id": "X9X3NSI1bc9z",
    "outputId": "8c4f8581-95e9-4cdb-c72a-8fa8bab4ea0b"
   },
   "outputs": [
    {
     "data": {
      "text/plain": [
       "array([0, 0, 1, 2, 0, 1, 2, 0, 2, 0, 1, 2, 1, 0, 0, 1, 1, 0, 1, 0, 0, 0,\n",
       "       2, 0, 2, 2, 0, 1, 1, 2, 0, 1, 0, 1, 1, 1, 2, 1, 0, 1, 2, 0, 2, 2,\n",
       "       2])"
      ]
     },
     "execution_count": 22,
     "metadata": {},
     "output_type": "execute_result"
    }
   ],
   "source": [
    "y_hat = np.argmax(Model_iris.predict(X_test), axis = 1)\n",
    "\n",
    "y_hat"
   ]
  },
  {
   "cell_type": "markdown",
   "metadata": {
    "id": "spr7DJmE_62e"
   },
   "source": [
    "* One-Hot Encoding to Array\n",
    " * np.argmax( ) : 다차원 배열의 차원에 따라 가장 큰 값의 인덱스를 반환\n",
    " * axis = 1 : 열기준"
   ]
  },
  {
   "cell_type": "code",
   "execution_count": null,
   "metadata": {
    "colab": {
     "base_uri": "https://localhost:8080/"
    },
    "executionInfo": {
     "elapsed": 38,
     "status": "ok",
     "timestamp": 1630370666969,
     "user": {
      "displayName": "이정구",
      "photoUrl": "https://lh3.googleusercontent.com/a-/AOh14Gg2atzeYT6QYFW3pcTDyi6aX0d6dqm_hj4W8fMg=s64",
      "userId": "17400242557229223804"
     },
     "user_tz": -540
    },
    "id": "8xv4SLZm0nzn",
    "outputId": "d02de4e3-8c9b-4d55-aed4-65cf4cfc5ede"
   },
   "outputs": [
    {
     "data": {
      "text/plain": [
       "array([0, 0, 1, 2, 0, 1, 2, 0, 2, 0, 1, 2, 1, 0, 0, 1, 1, 0, 1, 0, 0, 0,\n",
       "       2, 0, 2, 2, 0, 1, 1, 2, 0, 1, 0, 2, 1, 1, 2, 1, 0, 1, 2, 0, 2, 2,\n",
       "       2])"
      ]
     },
     "execution_count": 23,
     "metadata": {},
     "output_type": "execute_result"
    }
   ],
   "source": [
    "y = np.argmax(y_test, axis = 1)\n",
    "\n",
    "y"
   ]
  },
  {
   "cell_type": "markdown",
   "metadata": {
    "id": "y-hzFPiDAEyo"
   },
   "source": [
    "* Confusion Matrix & Claasification Report"
   ]
  },
  {
   "cell_type": "code",
   "execution_count": null,
   "metadata": {
    "colab": {
     "base_uri": "https://localhost:8080/"
    },
    "executionInfo": {
     "elapsed": 35,
     "status": "ok",
     "timestamp": 1630370666970,
     "user": {
      "displayName": "이정구",
      "photoUrl": "https://lh3.googleusercontent.com/a-/AOh14Gg2atzeYT6QYFW3pcTDyi6aX0d6dqm_hj4W8fMg=s64",
      "userId": "17400242557229223804"
     },
     "user_tz": -540
    },
    "id": "ECnlNwrRzZve",
    "outputId": "22f7324a-6b56-401b-8aab-2a18634f822f"
   },
   "outputs": [
    {
     "data": {
      "text/plain": [
       "array([[17,  0,  0],\n",
       "       [ 0, 14,  0],\n",
       "       [ 0,  1, 13]])"
      ]
     },
     "execution_count": 24,
     "metadata": {},
     "output_type": "execute_result"
    }
   ],
   "source": [
    "from sklearn.metrics import confusion_matrix, classification_report\n",
    "\n",
    "confusion_matrix(y, y_hat)"
   ]
  },
  {
   "cell_type": "code",
   "execution_count": null,
   "metadata": {
    "colab": {
     "base_uri": "https://localhost:8080/"
    },
    "executionInfo": {
     "elapsed": 525,
     "status": "ok",
     "timestamp": 1630370667464,
     "user": {
      "displayName": "이정구",
      "photoUrl": "https://lh3.googleusercontent.com/a-/AOh14Gg2atzeYT6QYFW3pcTDyi6aX0d6dqm_hj4W8fMg=s64",
      "userId": "17400242557229223804"
     },
     "user_tz": -540
    },
    "id": "6xW7Tw8Luk8O",
    "outputId": "f5791102-4bb6-4d7e-8233-d863641499ee"
   },
   "outputs": [
    {
     "name": "stdout",
     "output_type": "stream",
     "text": [
      "              precision    recall  f1-score   support\n",
      "\n",
      "      setosa       1.00      1.00      1.00        17\n",
      "   virginica       0.93      1.00      0.97        14\n",
      "  versicolor       1.00      0.93      0.96        14\n",
      "\n",
      "    accuracy                           0.98        45\n",
      "   macro avg       0.98      0.98      0.98        45\n",
      "weighted avg       0.98      0.98      0.98        45\n",
      "\n"
     ]
    }
   ],
   "source": [
    "print(classification_report(y, y_hat, \n",
    "                            target_names = ['setosa',\n",
    "                                            'virginica',\n",
    "                                            'versicolor']))"
   ]
  },
  {
   "cell_type": "markdown",
   "metadata": {
    "id": "N6YjXuM2AeEA"
   },
   "source": [
    "# III. Model Save & Load"
   ]
  },
  {
   "cell_type": "markdown",
   "metadata": {
    "id": "QJHanSlYBMaD"
   },
   "source": [
    "> ## 1) File System"
   ]
  },
  {
   "cell_type": "markdown",
   "metadata": {
    "id": "9fukCVfZBreP"
   },
   "source": [
    "* Save to Colab File System"
   ]
  },
  {
   "cell_type": "code",
   "execution_count": null,
   "metadata": {
    "id": "90EpGKTo1B_2"
   },
   "outputs": [],
   "source": [
    "!ls -l"
   ]
  },
  {
   "cell_type": "code",
   "execution_count": null,
   "metadata": {
    "id": "FXz2D-PxAn0p"
   },
   "outputs": [],
   "source": [
    "Model_iris.save('Model_iris.h5')\n",
    "\n",
    "!ls -l"
   ]
  },
  {
   "cell_type": "markdown",
   "metadata": {
    "id": "mnABg40YB0Ex"
   },
   "source": [
    "* Download Colab File System to Local File System"
   ]
  },
  {
   "cell_type": "code",
   "execution_count": null,
   "metadata": {
    "id": "UROGkgi7B3J6"
   },
   "outputs": [],
   "source": [
    "from google.colab import files\n",
    "\n",
    "files.download('Model_iris.h5')"
   ]
  },
  {
   "cell_type": "markdown",
   "metadata": {
    "id": "50eGEKhzDbVg"
   },
   "source": [
    "* Load from Colab File System"
   ]
  },
  {
   "cell_type": "code",
   "execution_count": null,
   "metadata": {
    "id": "SlNcgVb9BZQz"
   },
   "outputs": [],
   "source": [
    "from tensorflow.keras.models import load_model\n",
    "\n",
    "Model_local = load_model('Model_iris.h5')"
   ]
  },
  {
   "cell_type": "code",
   "execution_count": null,
   "metadata": {
    "colab": {
     "base_uri": "https://localhost:8080/"
    },
    "executionInfo": {
     "elapsed": 26,
     "status": "ok",
     "timestamp": 1630370667479,
     "user": {
      "displayName": "이정구",
      "photoUrl": "https://lh3.googleusercontent.com/a-/AOh14Gg2atzeYT6QYFW3pcTDyi6aX0d6dqm_hj4W8fMg=s64",
      "userId": "17400242557229223804"
     },
     "user_tz": -540
    },
    "id": "OoOS6Eet1-jY",
    "outputId": "1f278cd5-6b4a-4943-f61f-201617fa6232"
   },
   "outputs": [
    {
     "data": {
      "text/plain": [
       "array([0, 0, 1, 2, 0, 1, 2, 0, 2, 0, 1, 2, 1, 0, 0, 1, 1, 0, 1, 0, 0, 0,\n",
       "       2, 0, 2, 2, 0, 1, 1, 2, 0, 1, 0, 1, 1, 1, 2, 1, 0, 1, 2, 0, 2, 2,\n",
       "       2])"
      ]
     },
     "execution_count": 30,
     "metadata": {},
     "output_type": "execute_result"
    }
   ],
   "source": [
    "np.argmax(Model_local.predict(X_test), axis = 1)"
   ]
  },
  {
   "cell_type": "markdown",
   "metadata": {
    "id": "q24HQDn3Bbmv"
   },
   "source": [
    "> ## 2) Google Drive"
   ]
  },
  {
   "cell_type": "markdown",
   "metadata": {
    "id": "-DoXDaDQD_nR"
   },
   "source": [
    "* Mount Google Drive"
   ]
  },
  {
   "cell_type": "code",
   "execution_count": null,
   "metadata": {
    "colab": {
     "base_uri": "https://localhost:8080/"
    },
    "executionInfo": {
     "elapsed": 30691,
     "status": "ok",
     "timestamp": 1630370698148,
     "user": {
      "displayName": "이정구",
      "photoUrl": "https://lh3.googleusercontent.com/a-/AOh14Gg2atzeYT6QYFW3pcTDyi6aX0d6dqm_hj4W8fMg=s64",
      "userId": "17400242557229223804"
     },
     "user_tz": -540
    },
    "id": "XUcAHm-oEThi",
    "outputId": "8e3aaaa6-4f58-4cd4-d283-4c4a53626dce"
   },
   "outputs": [
    {
     "name": "stdout",
     "output_type": "stream",
     "text": [
      "Mounted at /content/drive\n"
     ]
    }
   ],
   "source": [
    "from google.colab import drive\n",
    "\n",
    "drive.mount('/content/drive')"
   ]
  },
  {
   "cell_type": "markdown",
   "metadata": {
    "id": "R3yaKi3GEftH"
   },
   "source": [
    "* Check Mounted_Drive"
   ]
  },
  {
   "cell_type": "code",
   "execution_count": null,
   "metadata": {
    "id": "Y96H0gSfEl0-"
   },
   "outputs": [],
   "source": [
    "!ls -l '/content/drive/My Drive/Colab Notebooks/models'"
   ]
  },
  {
   "cell_type": "markdown",
   "metadata": {
    "id": "izCHadxzFuj-"
   },
   "source": [
    "* Save to Mounted Google Drive Directory"
   ]
  },
  {
   "cell_type": "code",
   "execution_count": null,
   "metadata": {
    "id": "VYxWBnRXF1sm"
   },
   "outputs": [],
   "source": [
    "Model_iris.save('/content/drive/My Drive/Colab Notebooks/models/001_Model_iris.h5')"
   ]
  },
  {
   "cell_type": "code",
   "execution_count": null,
   "metadata": {
    "colab": {
     "base_uri": "https://localhost:8080/"
    },
    "executionInfo": {
     "elapsed": 301,
     "status": "ok",
     "timestamp": 1630370698855,
     "user": {
      "displayName": "이정구",
      "photoUrl": "https://lh3.googleusercontent.com/a-/AOh14Gg2atzeYT6QYFW3pcTDyi6aX0d6dqm_hj4W8fMg=s64",
      "userId": "17400242557229223804"
     },
     "user_tz": -540
    },
    "id": "62Ks4RIcGM5e",
    "outputId": "ae105641-7458-4451-e20c-6958e1fbfde0"
   },
   "outputs": [
    {
     "name": "stdout",
     "output_type": "stream",
     "text": [
      "total 34\n",
      "-rw------- 1 root root 34600 Aug 31 00:44 001_Model_iris.h5\n"
     ]
    }
   ],
   "source": [
    "!ls -l '/content/drive/My Drive/Colab Notebooks/models'"
   ]
  },
  {
   "cell_type": "markdown",
   "metadata": {
    "id": "9qHYg5fPGnaB"
   },
   "source": [
    "* Load from Mounted Google Drive Directory"
   ]
  },
  {
   "cell_type": "code",
   "execution_count": null,
   "metadata": {
    "id": "-c2nlwDbGcVZ"
   },
   "outputs": [],
   "source": [
    "from tensorflow.keras.models import load_model\n",
    "\n",
    "Model_google = load_model('/content/drive/My Drive/Colab Notebooks/models/001_Model_iris.h5')"
   ]
  },
  {
   "cell_type": "code",
   "execution_count": null,
   "metadata": {
    "colab": {
     "base_uri": "https://localhost:8080/"
    },
    "executionInfo": {
     "elapsed": 25,
     "status": "ok",
     "timestamp": 1630370698858,
     "user": {
      "displayName": "이정구",
      "photoUrl": "https://lh3.googleusercontent.com/a-/AOh14Gg2atzeYT6QYFW3pcTDyi6aX0d6dqm_hj4W8fMg=s64",
      "userId": "17400242557229223804"
     },
     "user_tz": -540
    },
    "id": "nsYObO3z4m3_",
    "outputId": "3e7e02cc-b280-4b49-d7b5-a2ce6d266531"
   },
   "outputs": [
    {
     "data": {
      "text/plain": [
       "array([0, 0, 1, 2, 0, 1, 2, 0, 2, 0, 1, 2, 1, 0, 0, 1, 1, 0, 1, 0, 0, 0,\n",
       "       2, 0, 2, 2, 0, 1, 1, 2, 0, 1, 0, 1, 1, 1, 2, 1, 0, 1, 2, 0, 2, 2,\n",
       "       2])"
      ]
     },
     "execution_count": 36,
     "metadata": {},
     "output_type": "execute_result"
    }
   ],
   "source": [
    "np.argmax(Model_google.predict(X_test), axis = 1)"
   ]
  },
  {
   "cell_type": "markdown",
   "metadata": {
    "id": "prgTZL2h1A2Z"
   },
   "source": [
    "# \n",
    "# \n",
    "# \n",
    "# The End\n",
    "# \n",
    "# \n",
    "# "
   ]
  }
 ],
 "metadata": {
  "colab": {
   "collapsed_sections": [],
   "name": "001_Keras_iris_Modeling_CPU.ipynb",
   "provenance": []
  },
  "kernelspec": {
   "display_name": "Python 3",
   "language": "python",
   "name": "python3"
  },
  "language_info": {
   "codemirror_mode": {
    "name": "ipython",
    "version": 3
   },
   "file_extension": ".py",
   "mimetype": "text/x-python",
   "name": "python",
   "nbconvert_exporter": "python",
   "pygments_lexer": "ipython3",
   "version": "3.8.8"
  },
  "toc": {
   "base_numbering": 1,
   "nav_menu": {},
   "number_sections": true,
   "sideBar": true,
   "skip_h1_title": false,
   "title_cell": "Table of Contents",
   "title_sidebar": "Contents",
   "toc_cell": false,
   "toc_position": {},
   "toc_section_display": true,
   "toc_window_display": false
  }
 },
 "nbformat": 4,
 "nbformat_minor": 1
}
