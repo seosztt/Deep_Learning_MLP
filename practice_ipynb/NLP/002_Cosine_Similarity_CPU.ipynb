{
  "nbformat": 4,
  "nbformat_minor": 0,
  "metadata": {
    "colab": {
      "name": "002_Cosine_Similarity_CPU.ipynb",
      "provenance": [],
      "collapsed_sections": [],
      "include_colab_link": true
    },
    "kernelspec": {
      "display_name": "Python 3",
      "language": "python",
      "name": "python3"
    },
    "language_info": {
      "codemirror_mode": {
        "name": "ipython",
        "version": 3
      },
      "file_extension": ".py",
      "mimetype": "text/x-python",
      "name": "python",
      "nbconvert_exporter": "python",
      "pygments_lexer": "ipython3",
      "version": "3.8.8"
    },
    "toc": {
      "base_numbering": 1,
      "nav_menu": {},
      "number_sections": true,
      "sideBar": true,
      "skip_h1_title": false,
      "title_cell": "Table of Contents",
      "title_sidebar": "Contents",
      "toc_cell": false,
      "toc_position": {},
      "toc_section_display": true,
      "toc_window_display": false
    },
    "accelerator": "GPU"
  },
  "cells": [
    {
      "cell_type": "markdown",
      "metadata": {
        "id": "view-in-github",
        "colab_type": "text"
      },
      "source": [
        "<a href=\"https://colab.research.google.com/github/seosztt/Deep_Learning_MLP/blob/master/practice_ipynb/NLP/002_Cosine_Similarity_CPU.ipynb\" target=\"_parent\"><img src=\"https://colab.research.google.com/assets/colab-badge.svg\" alt=\"Open In Colab\"/></a>"
      ]
    },
    {
      "cell_type": "markdown",
      "metadata": {
        "id": "7qzuApd6uIZU"
      },
      "source": [
        "# Consine Similarity\n",
        "\n",
        "* 두 벡터의 크기와 상관없이, 상호 방향성이 얼마나 유사한지에 기반\n",
        " - 두 벡터의 사잇각을 계산하여 유사도 측정\n",
        "* 문서(문장)의 크기를 고려하지 않는 빈도수 기반의 단점 보완"
      ]
    },
    {
      "cell_type": "code",
      "metadata": {
        "id": "RbPgODpVzdHI"
      },
      "source": [
        "import warnings\n",
        "warnings.filterwarnings('ignore')"
      ],
      "execution_count": 1,
      "outputs": []
    },
    {
      "cell_type": "markdown",
      "metadata": {
        "id": "cCNvmAc4v3Kb"
      },
      "source": [
        "# I. TF-IDF Vectorization"
      ]
    },
    {
      "cell_type": "markdown",
      "metadata": {
        "id": "e3qDHJkXxTRw"
      },
      "source": [
        "> ## 1) 문장 3개 지정"
      ]
    },
    {
      "cell_type": "code",
      "metadata": {
        "id": "d31NK9LXwLpw"
      },
      "source": [
        "doc_list = ['if you take the blue pill, the story ends' ,\n",
        "            'if you take the red pill, you stay in Wonderland',\n",
        "            'if you take the red pill, I show you how deep the rabbit hole goes']"
      ],
      "execution_count": 2,
      "outputs": []
    },
    {
      "cell_type": "markdown",
      "metadata": {
        "id": "X71_TeIZxbx5"
      },
      "source": [
        "> ## 2) Coordinate(좌표) 양식\n",
        "\n",
        "* '0'이 아닌 데이터포이트의 좌표만 저장"
      ]
    },
    {
      "cell_type": "code",
      "metadata": {
        "colab": {
          "base_uri": "https://localhost:8080/"
        },
        "id": "ufueSXWzs1RI",
        "outputId": "1f92399a-c005-49ce-9c1f-2c2425a8d0a6"
      },
      "source": [
        "from sklearn.feature_extraction.text import TfidfVectorizer\n",
        "\n",
        "tfidf_vec_simple = TfidfVectorizer()\n",
        "feature_vec_simple = tfidf_vec_simple.fit_transform(doc_list)\n",
        "\n",
        "print(feature_vec_simple)"
      ],
      "execution_count": 3,
      "outputs": [
        {
          "output_type": "stream",
          "name": "stdout",
          "text": [
            "  (0, 2)\t0.41556360057939173\n",
            "  (0, 13)\t0.41556360057939173\n",
            "  (0, 8)\t0.24543855687841593\n",
            "  (0, 0)\t0.41556360057939173\n",
            "  (0, 15)\t0.49087711375683185\n",
            "  (0, 14)\t0.24543855687841593\n",
            "  (0, 17)\t0.24543855687841593\n",
            "  (0, 6)\t0.24543855687841593\n",
            "  (1, 16)\t0.39624495215024286\n",
            "  (1, 7)\t0.39624495215024286\n",
            "  (1, 12)\t0.39624495215024286\n",
            "  (1, 10)\t0.3013544995034864\n",
            "  (1, 8)\t0.2340286519091622\n",
            "  (1, 15)\t0.2340286519091622\n",
            "  (1, 14)\t0.2340286519091622\n",
            "  (1, 17)\t0.4680573038183244\n",
            "  (1, 6)\t0.2340286519091622\n",
            "  (2, 3)\t0.3098560092999078\n",
            "  (2, 4)\t0.3098560092999078\n",
            "  (2, 9)\t0.3098560092999078\n",
            "  (2, 1)\t0.3098560092999078\n",
            "  (2, 5)\t0.3098560092999078\n",
            "  (2, 11)\t0.3098560092999078\n",
            "  (2, 10)\t0.23565348175165166\n",
            "  (2, 8)\t0.1830059506093466\n",
            "  (2, 15)\t0.3660119012186932\n",
            "  (2, 14)\t0.1830059506093466\n",
            "  (2, 17)\t0.3660119012186932\n",
            "  (2, 6)\t0.1830059506093466\n"
          ]
        }
      ]
    },
    {
      "cell_type": "markdown",
      "metadata": {
        "id": "u6dMcssGxnGK"
      },
      "source": [
        "> ## 3) (밀집)행렬 변환"
      ]
    },
    {
      "cell_type": "code",
      "metadata": {
        "colab": {
          "base_uri": "https://localhost:8080/"
        },
        "id": "hwdWIp1us5T4",
        "outputId": "a3a1fad2-54b5-4f28-86cd-8e7d40b21203"
      },
      "source": [
        "feature_vec_dense = feature_vec_simple.todense()\n",
        "\n",
        "print(feature_vec_dense)"
      ],
      "execution_count": 4,
      "outputs": [
        {
          "output_type": "stream",
          "name": "stdout",
          "text": [
            "[[0.4155636  0.         0.4155636  0.         0.         0.\n",
            "  0.24543856 0.         0.24543856 0.         0.         0.\n",
            "  0.         0.4155636  0.24543856 0.49087711 0.         0.24543856]\n",
            " [0.         0.         0.         0.         0.         0.\n",
            "  0.23402865 0.39624495 0.23402865 0.         0.3013545  0.\n",
            "  0.39624495 0.         0.23402865 0.23402865 0.39624495 0.4680573 ]\n",
            " [0.         0.30985601 0.         0.30985601 0.30985601 0.30985601\n",
            "  0.18300595 0.         0.18300595 0.30985601 0.23565348 0.30985601\n",
            "  0.         0.         0.18300595 0.3660119  0.         0.3660119 ]]\n"
          ]
        }
      ]
    },
    {
      "cell_type": "markdown",
      "metadata": {
        "id": "1e-jPiWa2bzw"
      },
      "source": [
        "> ## 4) 개별 Feature Vector 추출"
      ]
    },
    {
      "cell_type": "code",
      "metadata": {
        "colab": {
          "base_uri": "https://localhost:8080/"
        },
        "id": "ky1MX2q8xwwc",
        "outputId": "b4bf6d08-09c8-41b3-b23a-37730d652cd3"
      },
      "source": [
        "import numpy as np\n",
        "\n",
        "vec1 = np.array(feature_vec_dense[0]).reshape(-1,)\n",
        "vec2 = np.array(feature_vec_dense[1]).reshape(-1,)\n",
        "vec3 = np.array(feature_vec_dense[2]).reshape(-1,)\n",
        "\n",
        "vec1, vec2, vec3"
      ],
      "execution_count": 5,
      "outputs": [
        {
          "output_type": "execute_result",
          "data": {
            "text/plain": [
              "(array([0.4155636 , 0.        , 0.4155636 , 0.        , 0.        ,\n",
              "        0.        , 0.24543856, 0.        , 0.24543856, 0.        ,\n",
              "        0.        , 0.        , 0.        , 0.4155636 , 0.24543856,\n",
              "        0.49087711, 0.        , 0.24543856]),\n",
              " array([0.        , 0.        , 0.        , 0.        , 0.        ,\n",
              "        0.        , 0.23402865, 0.39624495, 0.23402865, 0.        ,\n",
              "        0.3013545 , 0.        , 0.39624495, 0.        , 0.23402865,\n",
              "        0.23402865, 0.39624495, 0.4680573 ]),\n",
              " array([0.        , 0.30985601, 0.        , 0.30985601, 0.30985601,\n",
              "        0.30985601, 0.18300595, 0.        , 0.18300595, 0.30985601,\n",
              "        0.23565348, 0.30985601, 0.        , 0.        , 0.18300595,\n",
              "        0.3660119 , 0.        , 0.3660119 ]))"
            ]
          },
          "metadata": {},
          "execution_count": 5
        }
      ]
    },
    {
      "cell_type": "markdown",
      "metadata": {
        "id": "CduDLn6Vutzn"
      },
      "source": [
        "# II. cos_similarity( )\n",
        "\n",
        "* 두 벡터의 내적을 총 벡터 크기로 정규화(L2 Norm)\n",
        " - dot_product : 두 벡터의 내적\n",
        " - l2_norm : 총 벡터 크기의 합"
      ]
    },
    {
      "cell_type": "code",
      "metadata": {
        "id": "6HUmgq_EsWVA"
      },
      "source": [
        "import numpy as np\n",
        "\n",
        "def cos_similarity(v1, v2):\n",
        "    dot_product = np.dot(v1, v2)\n",
        "    l2_norm = (np.sqrt(sum(np.square(v1))) * np.sqrt(sum(np.square(v2))))\n",
        "    similarity = dot_product / l2_norm     \n",
        "    \n",
        "    return similarity"
      ],
      "execution_count": 6,
      "outputs": []
    },
    {
      "cell_type": "markdown",
      "metadata": {
        "id": "1XzXPZgZ2nco"
      },
      "source": [
        "> ## 1) 'vec1', 'vec2' 코사인 유사도"
      ]
    },
    {
      "cell_type": "code",
      "metadata": {
        "colab": {
          "base_uri": "https://localhost:8080/"
        },
        "id": "PwiMuI1qyGHZ",
        "outputId": "6ce9e4c9-181f-4c95-88c4-8ee3eafffe6e"
      },
      "source": [
        "similarity_simple = cos_similarity(vec1, vec2)\n",
        "\n",
        "print('vec1, vec2 코사인 유사도: {0:.5f}'.format(similarity_simple))"
      ],
      "execution_count": 7,
      "outputs": [
        {
          "output_type": "stream",
          "name": "stdout",
          "text": [
            "vec1, vec2 코사인 유사도: 0.40208\n"
          ]
        }
      ]
    },
    {
      "cell_type": "markdown",
      "metadata": {
        "id": "jAxYkj602_Kz"
      },
      "source": [
        "> ## 2) 'vec1', 'vec3' 코사인 유사도"
      ]
    },
    {
      "cell_type": "code",
      "metadata": {
        "colab": {
          "base_uri": "https://localhost:8080/"
        },
        "id": "0rqBOgjks9NW",
        "outputId": "8ff0671e-a438-4a55-fe83-80a3ef15160f"
      },
      "source": [
        "similarity_simple = cos_similarity(vec1, vec3)\n",
        "\n",
        "print('vec1, vec3 코사인 유사도: {0:.5f}'.format(similarity_simple))"
      ],
      "execution_count": 8,
      "outputs": [
        {
          "output_type": "stream",
          "name": "stdout",
          "text": [
            "vec1, vec3 코사인 유사도: 0.40425\n"
          ]
        }
      ]
    },
    {
      "cell_type": "markdown",
      "metadata": {
        "id": "gkI27xhi3Huy"
      },
      "source": [
        "> ## 3) 'vec2', 'vec3' 코사인 유사도"
      ]
    },
    {
      "cell_type": "code",
      "metadata": {
        "colab": {
          "base_uri": "https://localhost:8080/"
        },
        "id": "uW5SdNwvyYA5",
        "outputId": "a0ff37c4-bbca-4842-a79f-aca2aec18890"
      },
      "source": [
        "similarity_simple = cos_similarity(vec2, vec3)\n",
        "\n",
        "print('vec2, vec3 코사인 유사도: {0:.5f}'.format(similarity_simple))"
      ],
      "execution_count": 9,
      "outputs": [
        {
          "output_type": "stream",
          "name": "stdout",
          "text": [
            "vec2, vec3 코사인 유사도: 0.45647\n"
          ]
        }
      ]
    },
    {
      "cell_type": "markdown",
      "metadata": {
        "id": "zG1AV1SsybQb"
      },
      "source": [
        "# III. sklearn - cosine_similarity( )"
      ]
    },
    {
      "cell_type": "code",
      "metadata": {
        "colab": {
          "base_uri": "https://localhost:8080/"
        },
        "id": "flGyQnAqtAjr",
        "outputId": "37347b88-682b-4c26-faa2-7f913a72a046"
      },
      "source": [
        "from sklearn.metrics.pairwise import cosine_similarity\n",
        "\n",
        "cosine_similarity(feature_vec_simple[0], feature_vec_simple)"
      ],
      "execution_count": 10,
      "outputs": [
        {
          "output_type": "execute_result",
          "data": {
            "text/plain": [
              "array([[1.        , 0.40207758, 0.40425045]])"
            ]
          },
          "metadata": {},
          "execution_count": 10
        }
      ]
    },
    {
      "cell_type": "code",
      "metadata": {
        "colab": {
          "base_uri": "https://localhost:8080/"
        },
        "id": "t4iirerbtJkZ",
        "outputId": "c0dec9d2-e411-4b62-d067-7867ad3d16f8"
      },
      "source": [
        "cosine_similarity(feature_vec_simple[0], feature_vec_simple[1:])"
      ],
      "execution_count": 11,
      "outputs": [
        {
          "output_type": "execute_result",
          "data": {
            "text/plain": [
              "array([[0.40207758, 0.40425045]])"
            ]
          },
          "metadata": {},
          "execution_count": 11
        }
      ]
    },
    {
      "cell_type": "code",
      "metadata": {
        "colab": {
          "base_uri": "https://localhost:8080/"
        },
        "id": "B2ibm6FctQjP",
        "outputId": "d234300d-7a9f-4b1d-850a-d380c4963546"
      },
      "source": [
        "cosine_similarity(feature_vec_simple, feature_vec_simple)"
      ],
      "execution_count": 12,
      "outputs": [
        {
          "output_type": "execute_result",
          "data": {
            "text/plain": [
              "array([[1.        , 0.40207758, 0.40425045],\n",
              "       [0.40207758, 1.        , 0.45647296],\n",
              "       [0.40425045, 0.45647296, 1.        ]])"
            ]
          },
          "metadata": {},
          "execution_count": 12
        }
      ]
    },
    {
      "cell_type": "markdown",
      "metadata": {
        "id": "mm4g161G5Etb"
      },
      "source": [
        "# IV. Topic Problem"
      ]
    },
    {
      "cell_type": "markdown",
      "metadata": {
        "id": "V41KUxAh6I4R"
      },
      "source": [
        "> ## 1) 문장 지정"
      ]
    },
    {
      "cell_type": "code",
      "metadata": {
        "id": "A0GZhIAK3ifr"
      },
      "source": [
        "sent_list = ['I eat an apple' ,\n",
        "             'Koo have fruit',\n",
        "             'I sell an apple']"
      ],
      "execution_count": 13,
      "outputs": []
    },
    {
      "cell_type": "markdown",
      "metadata": {
        "id": "yPhRZ1rE6Myp"
      },
      "source": [
        "> ## 2) 벡터 변환"
      ]
    },
    {
      "cell_type": "code",
      "metadata": {
        "id": "2NFv-gTz4oLn"
      },
      "source": [
        "tfidf_vec = TfidfVectorizer()\n",
        "feature_vec = tfidf_vec.fit_transform(sent_list)"
      ],
      "execution_count": 14,
      "outputs": []
    },
    {
      "cell_type": "markdown",
      "metadata": {
        "id": "MViUKQQ56PJh"
      },
      "source": [
        "> ## 3) 문장1 vs. 문장2"
      ]
    },
    {
      "cell_type": "code",
      "metadata": {
        "colab": {
          "base_uri": "https://localhost:8080/"
        },
        "id": "FFl_ax7L4zFA",
        "outputId": "95b07359-20f7-4b89-f2bd-6aa5cc48d199"
      },
      "source": [
        "cosine_similarity(feature_vec[0], feature_vec[1])"
      ],
      "execution_count": 15,
      "outputs": [
        {
          "output_type": "execute_result",
          "data": {
            "text/plain": [
              "array([[0.]])"
            ]
          },
          "metadata": {},
          "execution_count": 15
        }
      ]
    },
    {
      "cell_type": "markdown",
      "metadata": {
        "id": "UOpga8UL6TZ3"
      },
      "source": [
        "> ## 4) 문자1 vs. 문장3"
      ]
    },
    {
      "cell_type": "code",
      "metadata": {
        "colab": {
          "base_uri": "https://localhost:8080/"
        },
        "id": "wXpiAyML5-GH",
        "scrolled": true,
        "outputId": "64855f73-f1bb-44ec-86d5-296e0110c46e"
      },
      "source": [
        "cosine_similarity(feature_vec[0], feature_vec[2])"
      ],
      "execution_count": 16,
      "outputs": [
        {
          "output_type": "execute_result",
          "data": {
            "text/plain": [
              "array([[0.53634991]])"
            ]
          },
          "metadata": {},
          "execution_count": 16
        }
      ]
    },
    {
      "cell_type": "markdown",
      "metadata": {
        "id": "AAsRHykEOlRz"
      },
      "source": [
        "# V. Word2Vec"
      ]
    },
    {
      "cell_type": "code",
      "metadata": {
        "id": "ahN3GdiWE3wM"
      },
      "source": [
        "# Load Pretrained Word2Vec\n",
        "import tensorflow_hub as hub\n",
        "\n",
        "embed = hub.load('https://tfhub.dev/google/Wiki-words-250/2')"
      ],
      "execution_count": 17,
      "outputs": []
    },
    {
      "cell_type": "code",
      "metadata": {
        "id": "f9NyFKoAO5JF"
      },
      "source": [
        "words = ['apple', 'eat', 'fruit', 'have', 'sell']"
      ],
      "execution_count": 18,
      "outputs": []
    },
    {
      "cell_type": "code",
      "metadata": {
        "id": "q2EfyvJiPOYq"
      },
      "source": [
        "embeddings = embed(words)"
      ],
      "execution_count": 19,
      "outputs": []
    },
    {
      "cell_type": "code",
      "metadata": {
        "colab": {
          "base_uri": "https://localhost:8080/"
        },
        "id": "YShLv0NOg6zT",
        "outputId": "374d6c21-4faa-4636-d1d3-4faec40ad824"
      },
      "source": [
        "embeddings"
      ],
      "execution_count": 20,
      "outputs": [
        {
          "output_type": "execute_result",
          "data": {
            "text/plain": [
              "<tf.Tensor: shape=(5, 250), dtype=float32, numpy=\n",
              "array([[-0.07813196, -0.07977183,  0.01656363, ...,  0.055002  ,\n",
              "        -0.0124344 ,  0.01293823],\n",
              "       [-0.06328908, -0.04579341,  0.07585176, ..., -0.01529627,\n",
              "        -0.08320591, -0.00810399],\n",
              "       [ 0.00701244, -0.12340286, -0.0102156 , ...,  0.02766428,\n",
              "        -0.07908864,  0.04926572],\n",
              "       [-0.08787754, -0.0396932 ,  0.08691822, ..., -0.01083538,\n",
              "         0.06166544, -0.04754991],\n",
              "       [-0.14679529,  0.06386735,  0.04345234, ..., -0.05401121,\n",
              "         0.05078259, -0.02089129]], dtype=float32)>"
            ]
          },
          "metadata": {},
          "execution_count": 20
        }
      ]
    },
    {
      "cell_type": "code",
      "metadata": {
        "colab": {
          "base_uri": "https://localhost:8080/"
        },
        "id": "Iw2cfJo1PTSI",
        "scrolled": true,
        "outputId": "aeb190d0-5dd8-4ea8-cb74-a2a1014aa7b0"
      },
      "source": [
        "import numpy as np\n",
        "\n",
        "for i in range(len(words)):\n",
        "    for j in range(i,len(words)):\n",
        "        print(\"(\",words[i], \",\", words[j],\")\",np.inner(embeddings[i], embeddings[j]))"
      ],
      "execution_count": null,
      "outputs": [
        {
          "name": "stdout",
          "output_type": "stream",
          "text": [
            "( apple , apple ) 1.0\n",
            "( apple , eat ) 0.48909307\n",
            "( apple , fruit ) 0.78753763\n",
            "( apple , have ) 0.1334833\n",
            "( apple , sell ) 0.106232405\n",
            "( eat , eat ) 1.0\n",
            "( eat , fruit ) 0.53294003\n",
            "( eat , have ) 0.32322416\n",
            "( eat , sell ) 0.2691978\n",
            "( fruit , fruit ) 1.0\n",
            "( fruit , have ) 0.13598028\n",
            "( fruit , sell ) 0.11212408\n",
            "( have , have ) 0.99999994\n",
            "( have , sell ) 0.21071\n",
            "( sell , sell ) 0.99999994\n"
          ]
        }
      ]
    },
    {
      "cell_type": "markdown",
      "metadata": {
        "id": "S2ntkdNEtVD0"
      },
      "source": [
        "# \n",
        "# \n",
        "# \n",
        "# The End\n",
        "# \n",
        "# \n",
        "# "
      ]
    }
  ]
}