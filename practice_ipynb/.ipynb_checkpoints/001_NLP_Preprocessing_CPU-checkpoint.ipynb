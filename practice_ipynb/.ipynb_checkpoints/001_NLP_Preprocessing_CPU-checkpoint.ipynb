{
 "cells": [
  {
   "cell_type": "markdown",
   "metadata": {
    "id": "639BJgw2C9qL"
   },
   "source": [
    "# NLP Preprocessing"
   ]
  },
  {
   "cell_type": "code",
   "execution_count": 63,
   "metadata": {
    "executionInfo": {
     "elapsed": 448,
     "status": "ok",
     "timestamp": 1628311339276,
     "user": {
      "displayName": "이정구",
      "photoUrl": "https://lh3.googleusercontent.com/a-/AOh14Ggor3yxeAY0Qx9DjT3OgE5Kvg17x7ah3qRpGUHVgQ=s64",
      "userId": "06746815733591865358"
     },
     "user_tz": -540
    },
    "id": "RbPgODpVzdHI"
   },
   "outputs": [],
   "source": [
    "import warnings\n",
    "warnings.filterwarnings('ignore')"
   ]
  },
  {
   "cell_type": "markdown",
   "metadata": {
    "id": "Kh_HVEagpB_D"
   },
   "source": [
    "# I. Tokenization"
   ]
  },
  {
   "cell_type": "markdown",
   "metadata": {
    "id": "8kAGmHLXDJAp"
   },
   "source": [
    "> ## 1) 영어 : NLTK(Natural Language ToolKit)"
   ]
  },
  {
   "cell_type": "code",
   "execution_count": 64,
   "metadata": {
    "colab": {
     "base_uri": "https://localhost:8080/"
    },
    "executionInfo": {
     "elapsed": 66,
     "status": "ok",
     "timestamp": 1628311339892,
     "user": {
      "displayName": "이정구",
      "photoUrl": "https://lh3.googleusercontent.com/a-/AOh14Ggor3yxeAY0Qx9DjT3OgE5Kvg17x7ah3qRpGUHVgQ=s64",
      "userId": "06746815733591865358"
     },
     "user_tz": -540
    },
    "id": "cDoUfry3Bemz",
    "outputId": "d6a61373-1a7c-444c-8feb-6b336fe0245a"
   },
   "outputs": [
    {
     "name": "stdout",
     "output_type": "stream",
     "text": [
      "[nltk_data] Downloading package punkt to /root/nltk_data...\n",
      "[nltk_data]   Package punkt is already up-to-date!\n"
     ]
    },
    {
     "data": {
      "text/plain": [
       "True"
      ]
     },
     "execution_count": 64,
     "metadata": {
      "tags": []
     },
     "output_type": "execute_result"
    }
   ],
   "source": [
    "import nltk\n",
    "\n",
    "nltk.download('punkt')"
   ]
  },
  {
   "cell_type": "markdown",
   "metadata": {
    "id": "AdVBO3ypqYAF"
   },
   "source": [
    "> ### (1) 문장 토큰화 : sent_tokenize( )"
   ]
  },
  {
   "cell_type": "code",
   "execution_count": 65,
   "metadata": {
    "colab": {
     "base_uri": "https://localhost:8080/"
    },
    "executionInfo": {
     "elapsed": 60,
     "status": "ok",
     "timestamp": 1628311339893,
     "user": {
      "displayName": "이정구",
      "photoUrl": "https://lh3.googleusercontent.com/a-/AOh14Ggor3yxeAY0Qx9DjT3OgE5Kvg17x7ah3qRpGUHVgQ=s64",
      "userId": "06746815733591865358"
     },
     "user_tz": -540
    },
    "id": "k7vJH0SjqcaI",
    "outputId": "7b1f9404-4240-4e2b-f888-4a950145bc0c"
   },
   "outputs": [
    {
     "data": {
      "text/plain": [
       "['The X-Files is an American science fiction drama television series created by Chris Carter.',\n",
       " 'The original television series aired from September 10, 1993 to May 19, 2002 on Fox.',\n",
       " 'The program spanned nine seasons, with 202 episodes.']"
      ]
     },
     "execution_count": 65,
     "metadata": {
      "tags": []
     },
     "output_type": "execute_result"
    }
   ],
   "source": [
    "from nltk import sent_tokenize\n",
    "\n",
    "sentences = 'The X-Files is an American science fiction drama television series \\\n",
    "created by Chris Carter. \\\n",
    "             The original television series aired from September 10, 1993 \\\n",
    "to May 19, 2002 on Fox. \\\n",
    "             The program spanned nine seasons, with 202 episodes.'\n",
    "\n",
    "sent_tokenize(sentences)"
   ]
  },
  {
   "cell_type": "markdown",
   "metadata": {
    "id": "Jjrg-06NDbbQ"
   },
   "source": [
    "> ### (2) 단어 토큰화 : word_tokenize( )"
   ]
  },
  {
   "cell_type": "code",
   "execution_count": 66,
   "metadata": {
    "executionInfo": {
     "elapsed": 52,
     "status": "ok",
     "timestamp": 1628311339893,
     "user": {
      "displayName": "이정구",
      "photoUrl": "https://lh3.googleusercontent.com/a-/AOh14Ggor3yxeAY0Qx9DjT3OgE5Kvg17x7ah3qRpGUHVgQ=s64",
      "userId": "06746815733591865358"
     },
     "user_tz": -540
    },
    "id": "9yvJOSQX-0Sf"
   },
   "outputs": [],
   "source": [
    "from nltk.tokenize import word_tokenize"
   ]
  },
  {
   "cell_type": "code",
   "execution_count": 67,
   "metadata": {
    "colab": {
     "base_uri": "https://localhost:8080/"
    },
    "executionInfo": {
     "elapsed": 51,
     "status": "ok",
     "timestamp": 1628311339893,
     "user": {
      "displayName": "이정구",
      "photoUrl": "https://lh3.googleusercontent.com/a-/AOh14Ggor3yxeAY0Qx9DjT3OgE5Kvg17x7ah3qRpGUHVgQ=s64",
      "userId": "06746815733591865358"
     },
     "user_tz": -540
    },
    "id": "N-icwNGL_kzm",
    "outputId": "d7c1d3e2-bdeb-4e1a-89ea-b65ae055769b"
   },
   "outputs": [
    {
     "data": {
      "text/plain": [
       "['The', 'truth', 'is', 'out', 'there', '.']"
      ]
     },
     "execution_count": 67,
     "metadata": {
      "tags": []
     },
     "output_type": "execute_result"
    }
   ],
   "source": [
    "text = 'The truth is out there.'\n",
    "\n",
    "word_tokenize(text)"
   ]
  },
  {
   "cell_type": "markdown",
   "metadata": {
    "id": "crB1Uea0D4sN"
   },
   "source": [
    "> ### (3) 단어 품사(Part Of Speech) 태깅 : pos_tag( )"
   ]
  },
  {
   "cell_type": "code",
   "execution_count": 68,
   "metadata": {
    "executionInfo": {
     "elapsed": 48,
     "status": "ok",
     "timestamp": 1628311339894,
     "user": {
      "displayName": "이정구",
      "photoUrl": "https://lh3.googleusercontent.com/a-/AOh14Ggor3yxeAY0Qx9DjT3OgE5Kvg17x7ah3qRpGUHVgQ=s64",
      "userId": "06746815733591865358"
     },
     "user_tz": -540
    },
    "id": "JU5LqsjBCBC6"
   },
   "outputs": [],
   "source": [
    "from nltk.tag import pos_tag"
   ]
  },
  {
   "cell_type": "code",
   "execution_count": 69,
   "metadata": {
    "colab": {
     "base_uri": "https://localhost:8080/"
    },
    "executionInfo": {
     "elapsed": 47,
     "status": "ok",
     "timestamp": 1628311339894,
     "user": {
      "displayName": "이정구",
      "photoUrl": "https://lh3.googleusercontent.com/a-/AOh14Ggor3yxeAY0Qx9DjT3OgE5Kvg17x7ah3qRpGUHVgQ=s64",
      "userId": "06746815733591865358"
     },
     "user_tz": -540
    },
    "id": "RLBKvue0CJwe",
    "outputId": "46898146-1fec-48a8-a894-d5f334db1f3e"
   },
   "outputs": [
    {
     "name": "stdout",
     "output_type": "stream",
     "text": [
      "[nltk_data] Downloading package averaged_perceptron_tagger to\n",
      "[nltk_data]     /root/nltk_data...\n",
      "[nltk_data]   Package averaged_perceptron_tagger is already up-to-\n",
      "[nltk_data]       date!\n"
     ]
    },
    {
     "data": {
      "text/plain": [
       "True"
      ]
     },
     "execution_count": 69,
     "metadata": {
      "tags": []
     },
     "output_type": "execute_result"
    }
   ],
   "source": [
    "nltk.download('averaged_perceptron_tagger')"
   ]
  },
  {
   "cell_type": "code",
   "execution_count": 70,
   "metadata": {
    "colab": {
     "base_uri": "https://localhost:8080/"
    },
    "executionInfo": {
     "elapsed": 44,
     "status": "ok",
     "timestamp": 1628311339895,
     "user": {
      "displayName": "이정구",
      "photoUrl": "https://lh3.googleusercontent.com/a-/AOh14Ggor3yxeAY0Qx9DjT3OgE5Kvg17x7ah3qRpGUHVgQ=s64",
      "userId": "06746815733591865358"
     },
     "user_tz": -540
    },
    "id": "v0XzmeyzCDFy",
    "outputId": "0ec908ee-4d1a-4d80-a9d0-73a1da2d9e98"
   },
   "outputs": [
    {
     "data": {
      "text/plain": [
       "[('The', 'DT'),\n",
       " ('truth', 'NN'),\n",
       " ('is', 'VBZ'),\n",
       " ('out', 'RP'),\n",
       " ('there', 'RB'),\n",
       " ('.', '.')]"
      ]
     },
     "execution_count": 70,
     "metadata": {
      "tags": []
     },
     "output_type": "execute_result"
    }
   ],
   "source": [
    "x = word_tokenize(text)\n",
    "\n",
    "pos_tag(x)"
   ]
  },
  {
   "cell_type": "markdown",
   "metadata": {
    "id": "p8VBMU1GwTZz"
   },
   "source": [
    "> ### (4) Stop Words\n",
    "\n",
    "* Import Package and Download 'stopwords'"
   ]
  },
  {
   "cell_type": "code",
   "execution_count": 71,
   "metadata": {
    "colab": {
     "base_uri": "https://localhost:8080/"
    },
    "executionInfo": {
     "elapsed": 40,
     "status": "ok",
     "timestamp": 1628311339895,
     "user": {
      "displayName": "이정구",
      "photoUrl": "https://lh3.googleusercontent.com/a-/AOh14Ggor3yxeAY0Qx9DjT3OgE5Kvg17x7ah3qRpGUHVgQ=s64",
      "userId": "06746815733591865358"
     },
     "user_tz": -540
    },
    "id": "VbNN_2cLwZJB",
    "outputId": "a1fa5490-f184-4e37-8dfe-54e4f24bef45"
   },
   "outputs": [
    {
     "name": "stdout",
     "output_type": "stream",
     "text": [
      "[nltk_data] Downloading package stopwords to /root/nltk_data...\n",
      "[nltk_data]   Package stopwords is already up-to-date!\n"
     ]
    },
    {
     "data": {
      "text/plain": [
       "True"
      ]
     },
     "execution_count": 71,
     "metadata": {
      "tags": []
     },
     "output_type": "execute_result"
    }
   ],
   "source": [
    "nltk.download('stopwords')"
   ]
  },
  {
   "cell_type": "markdown",
   "metadata": {
    "id": "FfnVbP93zyd2"
   },
   "source": [
    "* 'English' Stop Words"
   ]
  },
  {
   "cell_type": "code",
   "execution_count": 72,
   "metadata": {
    "colab": {
     "base_uri": "https://localhost:8080/"
    },
    "executionInfo": {
     "elapsed": 37,
     "status": "ok",
     "timestamp": 1628311339896,
     "user": {
      "displayName": "이정구",
      "photoUrl": "https://lh3.googleusercontent.com/a-/AOh14Ggor3yxeAY0Qx9DjT3OgE5Kvg17x7ah3qRpGUHVgQ=s64",
      "userId": "06746815733591865358"
     },
     "user_tz": -540
    },
    "id": "orHJ8CWKwcXm",
    "outputId": "fbe7eb95-b05c-45e5-d231-b9bfa6921063"
   },
   "outputs": [
    {
     "name": "stdout",
     "output_type": "stream",
     "text": [
      "English stop words : 179\n",
      "['i', 'me', 'my', 'myself', 'we', 'our', 'ours', 'ourselves', 'you', \"you're\", \"you've\", \"you'll\", \"you'd\", 'your', 'yours', 'yourself', 'yourselves', 'he', 'him', 'his']\n"
     ]
    }
   ],
   "source": [
    "print('English stop words :',len(nltk.corpus.stopwords.words('english')))\n",
    "print(nltk.corpus.stopwords.words('english')[:20])"
   ]
  },
  {
   "cell_type": "markdown",
   "metadata": {
    "id": "pQIfsKIPz57j"
   },
   "source": [
    "* tokenize_text( ) 정의\n",
    " - 여러개의 문장별로 단어 토큰 생성 함수 정의"
   ]
  },
  {
   "cell_type": "code",
   "execution_count": 73,
   "metadata": {
    "executionInfo": {
     "elapsed": 33,
     "status": "ok",
     "timestamp": 1628311339896,
     "user": {
      "displayName": "이정구",
      "photoUrl": "https://lh3.googleusercontent.com/a-/AOh14Ggor3yxeAY0Qx9DjT3OgE5Kvg17x7ah3qRpGUHVgQ=s64",
      "userId": "06746815733591865358"
     },
     "user_tz": -540
    },
    "id": "EYA4mJx_xFHf"
   },
   "outputs": [],
   "source": [
    "from nltk import word_tokenize, sent_tokenize\n",
    "\n",
    "def tokenize_text(doc):\n",
    "    sentences = sent_tokenize(doc)\n",
    "    word_tokens = [word_tokenize(sentence) for sentence in sentences]\n",
    "    return word_tokens"
   ]
  },
  {
   "cell_type": "markdown",
   "metadata": {
    "id": "4UKRicCO0U63"
   },
   "source": [
    "* 문장별 단어 토큰화 수행"
   ]
  },
  {
   "cell_type": "code",
   "execution_count": 74,
   "metadata": {
    "colab": {
     "base_uri": "https://localhost:8080/"
    },
    "executionInfo": {
     "elapsed": 33,
     "status": "ok",
     "timestamp": 1628311339897,
     "user": {
      "displayName": "이정구",
      "photoUrl": "https://lh3.googleusercontent.com/a-/AOh14Ggor3yxeAY0Qx9DjT3OgE5Kvg17x7ah3qRpGUHVgQ=s64",
      "userId": "06746815733591865358"
     },
     "user_tz": -540
    },
    "id": "964fOeOa0Rzx",
    "outputId": "3efc0047-4245-4e34-cdb7-3a6a99c80c7b"
   },
   "outputs": [
    {
     "name": "stdout",
     "output_type": "stream",
     "text": [
      "<class 'list'> 3\n"
     ]
    }
   ],
   "source": [
    "word_tokens = tokenize_text(sentences)\n",
    "\n",
    "print(type(word_tokens),len(word_tokens))"
   ]
  },
  {
   "cell_type": "markdown",
   "metadata": {
    "id": "YbYBIBf20fBe"
   },
   "source": [
    "* 문장별 단어 토큰화 결과 확인"
   ]
  },
  {
   "cell_type": "code",
   "execution_count": 75,
   "metadata": {
    "colab": {
     "base_uri": "https://localhost:8080/"
    },
    "executionInfo": {
     "elapsed": 29,
     "status": "ok",
     "timestamp": 1628311339897,
     "user": {
      "displayName": "이정구",
      "photoUrl": "https://lh3.googleusercontent.com/a-/AOh14Ggor3yxeAY0Qx9DjT3OgE5Kvg17x7ah3qRpGUHVgQ=s64",
      "userId": "06746815733591865358"
     },
     "user_tz": -540
    },
    "id": "w7vfFzOKzWZd",
    "outputId": "e5fa97dd-3a7b-49f0-f757-7f9aad926d43"
   },
   "outputs": [
    {
     "name": "stdout",
     "output_type": "stream",
     "text": [
      "[['The', 'X-Files', 'is', 'an', 'American', 'science', 'fiction', 'drama', 'television', 'series', 'created', 'by', 'Chris', 'Carter', '.'], ['The', 'original', 'television', 'series', 'aired', 'from', 'September', '10', ',', '1993', 'to', 'May', '19', ',', '2002', 'on', 'Fox', '.'], ['The', 'program', 'spanned', 'nine', 'seasons', ',', 'with', '202', 'episodes', '.']]\n"
     ]
    }
   ],
   "source": [
    "print(word_tokens)"
   ]
  },
  {
   "cell_type": "markdown",
   "metadata": {
    "id": "fwQKZmKn0xVx"
   },
   "source": [
    "* Stop Words 제거"
   ]
  },
  {
   "cell_type": "code",
   "execution_count": 76,
   "metadata": {
    "executionInfo": {
     "elapsed": 25,
     "status": "ok",
     "timestamp": 1628311339897,
     "user": {
      "displayName": "이정구",
      "photoUrl": "https://lh3.googleusercontent.com/a-/AOh14Ggor3yxeAY0Qx9DjT3OgE5Kvg17x7ah3qRpGUHVgQ=s64",
      "userId": "06746815733591865358"
     },
     "user_tz": -540
    },
    "id": "AnVIc_GhxvqE"
   },
   "outputs": [],
   "source": [
    "stopwords = nltk.corpus.stopwords.words('english')\n",
    "all_tokens = []\n",
    "\n",
    "for sentence in word_tokens:\n",
    "    filtered_words = []\n",
    "\n",
    "    for word in sentence:\n",
    "        word = word.lower()\n",
    "        if word not in stopwords:\n",
    "            filtered_words.append(word)\n",
    "    all_tokens.append(filtered_words)"
   ]
  },
  {
   "cell_type": "markdown",
   "metadata": {
    "id": "Uf9rcBws1Vjt"
   },
   "source": [
    "* Stop Words 처리 결과"
   ]
  },
  {
   "cell_type": "code",
   "execution_count": 77,
   "metadata": {
    "colab": {
     "base_uri": "https://localhost:8080/"
    },
    "executionInfo": {
     "elapsed": 26,
     "status": "ok",
     "timestamp": 1628311339898,
     "user": {
      "displayName": "이정구",
      "photoUrl": "https://lh3.googleusercontent.com/a-/AOh14Ggor3yxeAY0Qx9DjT3OgE5Kvg17x7ah3qRpGUHVgQ=s64",
      "userId": "06746815733591865358"
     },
     "user_tz": -540
    },
    "id": "SXa_ACOI09Hc",
    "outputId": "598796b9-b9f7-4505-a89a-fca698c1c3f3"
   },
   "outputs": [
    {
     "name": "stdout",
     "output_type": "stream",
     "text": [
      "[['x-files', 'american', 'science', 'fiction', 'drama', 'television', 'series', 'created', 'chris', 'carter', '.'], ['original', 'television', 'series', 'aired', 'september', '10', ',', '1993', 'may', '19', ',', '2002', 'fox', '.'], ['program', 'spanned', 'nine', 'seasons', ',', '202', 'episodes', '.']]\n"
     ]
    }
   ],
   "source": [
    "print(all_tokens)"
   ]
  },
  {
   "cell_type": "markdown",
   "metadata": {
    "id": "kpC_pY631aPG"
   },
   "source": [
    "> ### (5) Stemming(어간 추출)\n",
    "\n",
    "* 변화된 단어의 원형으로 처리\n",
    " - work\n",
    " - amuse\n",
    " - happy\n",
    " - fancy"
   ]
  },
  {
   "cell_type": "code",
   "execution_count": 78,
   "metadata": {
    "colab": {
     "base_uri": "https://localhost:8080/"
    },
    "executionInfo": {
     "elapsed": 23,
     "status": "ok",
     "timestamp": 1628311339898,
     "user": {
      "displayName": "이정구",
      "photoUrl": "https://lh3.googleusercontent.com/a-/AOh14Ggor3yxeAY0Qx9DjT3OgE5Kvg17x7ah3qRpGUHVgQ=s64",
      "userId": "06746815733591865358"
     },
     "user_tz": -540
    },
    "id": "hK1KB0y21lo5",
    "outputId": "04338896-67af-4782-fdc1-35f32c3fd177"
   },
   "outputs": [
    {
     "name": "stdout",
     "output_type": "stream",
     "text": [
      "work work work\n",
      "amus amus amus\n",
      "happy happiest\n",
      "fant fanciest\n"
     ]
    }
   ],
   "source": [
    "from nltk.stem import LancasterStemmer\n",
    "\n",
    "stemmer = LancasterStemmer()\n",
    "\n",
    "print(stemmer.stem('working'),stemmer.stem('works'),stemmer.stem('worked'))\n",
    "print(stemmer.stem('amusing'),stemmer.stem('amuses'),stemmer.stem('amused'))\n",
    "print(stemmer.stem('happier'),stemmer.stem('happiest'))\n",
    "print(stemmer.stem('fancier'),stemmer.stem('fanciest'))"
   ]
  },
  {
   "cell_type": "markdown",
   "metadata": {
    "id": "mTUPYMA21t5G"
   },
   "source": [
    "> ### (6) Lemmatization(표제어 추출)\n",
    "\n",
    "* 변화된 단어의 원형을 처리\n",
    " - Stemming 보다 정확한 처리 가능\n",
    " - '품사'를 지정하여 사용"
   ]
  },
  {
   "cell_type": "code",
   "execution_count": 79,
   "metadata": {
    "colab": {
     "base_uri": "https://localhost:8080/"
    },
    "executionInfo": {
     "elapsed": 21,
     "status": "ok",
     "timestamp": 1628311339899,
     "user": {
      "displayName": "이정구",
      "photoUrl": "https://lh3.googleusercontent.com/a-/AOh14Ggor3yxeAY0Qx9DjT3OgE5Kvg17x7ah3qRpGUHVgQ=s64",
      "userId": "06746815733591865358"
     },
     "user_tz": -540
    },
    "id": "j4emYOj_1yxT",
    "outputId": "84f3e14d-f816-4a41-97cb-6d5aa9f2683d"
   },
   "outputs": [
    {
     "name": "stdout",
     "output_type": "stream",
     "text": [
      "[nltk_data] Downloading package wordnet to /root/nltk_data...\n",
      "[nltk_data]   Package wordnet is already up-to-date!\n"
     ]
    },
    {
     "data": {
      "text/plain": [
       "True"
      ]
     },
     "execution_count": 79,
     "metadata": {
      "tags": []
     },
     "output_type": "execute_result"
    }
   ],
   "source": [
    "nltk.download('wordnet')"
   ]
  },
  {
   "cell_type": "markdown",
   "metadata": {
    "id": "6N1cStbG3jul"
   },
   "source": [
    "* 'v' 동사, 'a' 형용사"
   ]
  },
  {
   "cell_type": "code",
   "execution_count": 80,
   "metadata": {
    "colab": {
     "base_uri": "https://localhost:8080/"
    },
    "executionInfo": {
     "elapsed": 18,
     "status": "ok",
     "timestamp": 1628311339899,
     "user": {
      "displayName": "이정구",
      "photoUrl": "https://lh3.googleusercontent.com/a-/AOh14Ggor3yxeAY0Qx9DjT3OgE5Kvg17x7ah3qRpGUHVgQ=s64",
      "userId": "06746815733591865358"
     },
     "user_tz": -540
    },
    "id": "0CBmXLfC3Fh9",
    "outputId": "927fe72b-8e6d-4bad-bbc1-87453ae8859b"
   },
   "outputs": [
    {
     "name": "stdout",
     "output_type": "stream",
     "text": [
      "amuse amuse amuse\n",
      "happy happy\n",
      "fancy fancy\n"
     ]
    }
   ],
   "source": [
    "from nltk.stem import WordNetLemmatizer\n",
    "\n",
    "lemma = WordNetLemmatizer()\n",
    "\n",
    "print(lemma.lemmatize('amusing', 'v'), lemma.lemmatize('amuses', 'v'), \\\n",
    "      lemma.lemmatize('amused', 'v'))\n",
    "print(lemma.lemmatize('happier', 'a'), lemma.lemmatize('happiest', 'a'))\n",
    "print(lemma.lemmatize('fancier', 'a'), lemma.lemmatize('fanciest', 'a'))"
   ]
  },
  {
   "cell_type": "markdown",
   "metadata": {
    "id": "-ACEmS8vEMmA"
   },
   "source": [
    "> ## 2) 한국어 : KoNLPy"
   ]
  },
  {
   "cell_type": "markdown",
   "metadata": {
    "id": "uwY2Mf31ETrB"
   },
   "source": [
    "> ### (1) KoNLPy 패키지 설치"
   ]
  },
  {
   "cell_type": "code",
   "execution_count": 81,
   "metadata": {
    "colab": {
     "base_uri": "https://localhost:8080/"
    },
    "executionInfo": {
     "elapsed": 2938,
     "status": "ok",
     "timestamp": 1628311342823,
     "user": {
      "displayName": "이정구",
      "photoUrl": "https://lh3.googleusercontent.com/a-/AOh14Ggor3yxeAY0Qx9DjT3OgE5Kvg17x7ah3qRpGUHVgQ=s64",
      "userId": "06746815733591865358"
     },
     "user_tz": -540
    },
    "id": "LCTvfuOlCdze",
    "outputId": "b5af2444-70a5-4fa0-fb58-2499fadc0bef"
   },
   "outputs": [
    {
     "name": "stdout",
     "output_type": "stream",
     "text": [
      "Requirement already satisfied: konlpy in /usr/local/lib/python3.7/dist-packages (0.5.2)\n",
      "Requirement already satisfied: tweepy>=3.7.0 in /usr/local/lib/python3.7/dist-packages (from konlpy) (3.10.0)\n",
      "Requirement already satisfied: colorama in /usr/local/lib/python3.7/dist-packages (from konlpy) (0.4.4)\n",
      "Requirement already satisfied: beautifulsoup4==4.6.0 in /usr/local/lib/python3.7/dist-packages (from konlpy) (4.6.0)\n",
      "Requirement already satisfied: numpy>=1.6 in /usr/local/lib/python3.7/dist-packages (from konlpy) (1.19.5)\n",
      "Requirement already satisfied: JPype1>=0.7.0 in /usr/local/lib/python3.7/dist-packages (from konlpy) (1.3.0)\n",
      "Requirement already satisfied: lxml>=4.1.0 in /usr/local/lib/python3.7/dist-packages (from konlpy) (4.2.6)\n",
      "Requirement already satisfied: typing-extensions in /usr/local/lib/python3.7/dist-packages (from JPype1>=0.7.0->konlpy) (3.7.4.3)\n",
      "Requirement already satisfied: six>=1.10.0 in /usr/local/lib/python3.7/dist-packages (from tweepy>=3.7.0->konlpy) (1.15.0)\n",
      "Requirement already satisfied: requests-oauthlib>=0.7.0 in /usr/local/lib/python3.7/dist-packages (from tweepy>=3.7.0->konlpy) (1.3.0)\n",
      "Requirement already satisfied: requests[socks]>=2.11.1 in /usr/local/lib/python3.7/dist-packages (from tweepy>=3.7.0->konlpy) (2.23.0)\n",
      "Requirement already satisfied: oauthlib>=3.0.0 in /usr/local/lib/python3.7/dist-packages (from requests-oauthlib>=0.7.0->tweepy>=3.7.0->konlpy) (3.1.1)\n",
      "Requirement already satisfied: chardet<4,>=3.0.2 in /usr/local/lib/python3.7/dist-packages (from requests[socks]>=2.11.1->tweepy>=3.7.0->konlpy) (3.0.4)\n",
      "Requirement already satisfied: urllib3!=1.25.0,!=1.25.1,<1.26,>=1.21.1 in /usr/local/lib/python3.7/dist-packages (from requests[socks]>=2.11.1->tweepy>=3.7.0->konlpy) (1.24.3)\n",
      "Requirement already satisfied: idna<3,>=2.5 in /usr/local/lib/python3.7/dist-packages (from requests[socks]>=2.11.1->tweepy>=3.7.0->konlpy) (2.10)\n",
      "Requirement already satisfied: certifi>=2017.4.17 in /usr/local/lib/python3.7/dist-packages (from requests[socks]>=2.11.1->tweepy>=3.7.0->konlpy) (2021.5.30)\n",
      "Requirement already satisfied: PySocks!=1.5.7,>=1.5.6 in /usr/local/lib/python3.7/dist-packages (from requests[socks]>=2.11.1->tweepy>=3.7.0->konlpy) (1.7.1)\n"
     ]
    }
   ],
   "source": [
    "!pip install konlpy"
   ]
  },
  {
   "cell_type": "markdown",
   "metadata": {
    "id": "_BMkvJxjEYb5"
   },
   "source": [
    "> ### (2) Okt 형태소 분석기(Open Korea Text, Twitter)\n",
    "\n",
    "* 형태소(Morpheme)"
   ]
  },
  {
   "cell_type": "code",
   "execution_count": 20,
   "metadata": {
    "executionInfo": {
     "elapsed": 36,
     "status": "ok",
     "timestamp": 1628311342824,
     "user": {
      "displayName": "이정구",
      "photoUrl": "https://lh3.googleusercontent.com/a-/AOh14Ggor3yxeAY0Qx9DjT3OgE5Kvg17x7ah3qRpGUHVgQ=s64",
      "userId": "06746815733591865358"
     },
     "user_tz": -540
    },
    "id": "H33ddPMFCWjS"
   },
   "outputs": [
    {
     "ename": "AttributeError",
     "evalue": "module 'tweepy' has no attribute 'StreamListener'",
     "output_type": "error",
     "traceback": [
      "\u001b[1;31m---------------------------------------------------------------------------\u001b[0m",
      "\u001b[1;31mAttributeError\u001b[0m                            Traceback (most recent call last)",
      "\u001b[1;32m<ipython-input-20-17fbd13272d0>\u001b[0m in \u001b[0;36m<module>\u001b[1;34m\u001b[0m\n\u001b[1;32m----> 1\u001b[1;33m \u001b[1;32mfrom\u001b[0m \u001b[0mkonlpy\u001b[0m\u001b[1;33m.\u001b[0m\u001b[0mtag\u001b[0m \u001b[1;32mimport\u001b[0m \u001b[0mOkt\u001b[0m\u001b[1;33m\u001b[0m\u001b[1;33m\u001b[0m\u001b[0m\n\u001b[0m",
      "\u001b[1;32mC:\\ProgramData\\Anaconda3\\lib\\site-packages\\konlpy\\__init__.py\u001b[0m in \u001b[0;36m<module>\u001b[1;34m\u001b[0m\n\u001b[0;32m     10\u001b[0m \u001b[1;33m\u001b[0m\u001b[0m\n\u001b[0;32m     11\u001b[0m \u001b[1;32mfrom\u001b[0m \u001b[0mkonlpy\u001b[0m\u001b[1;33m.\u001b[0m\u001b[0mjvm\u001b[0m \u001b[1;32mimport\u001b[0m \u001b[0minit_jvm\u001b[0m\u001b[1;33m\u001b[0m\u001b[1;33m\u001b[0m\u001b[0m\n\u001b[1;32m---> 12\u001b[1;33m from konlpy import (\n\u001b[0m\u001b[0;32m     13\u001b[0m     \u001b[0mcorpus\u001b[0m\u001b[1;33m,\u001b[0m\u001b[1;33m\u001b[0m\u001b[1;33m\u001b[0m\u001b[0m\n\u001b[0;32m     14\u001b[0m     \u001b[0mdata\u001b[0m\u001b[1;33m,\u001b[0m\u001b[1;33m\u001b[0m\u001b[1;33m\u001b[0m\u001b[0m\n",
      "\u001b[1;32mC:\\ProgramData\\Anaconda3\\lib\\site-packages\\konlpy\\stream\\__init__.py\u001b[0m in \u001b[0;36m<module>\u001b[1;34m\u001b[0m\n\u001b[0;32m      6\u001b[0m \u001b[1;33m\u001b[0m\u001b[0m\n\u001b[0;32m      7\u001b[0m \u001b[1;32mfrom\u001b[0m \u001b[0mkonlpy\u001b[0m\u001b[1;33m.\u001b[0m\u001b[0mstream\u001b[0m\u001b[1;33m.\u001b[0m\u001b[0mbase\u001b[0m \u001b[1;32mimport\u001b[0m \u001b[0mBaseStreamer\u001b[0m\u001b[1;33m,\u001b[0m \u001b[0mKonlpyStreamerError\u001b[0m\u001b[1;33m\u001b[0m\u001b[1;33m\u001b[0m\u001b[0m\n\u001b[1;32m----> 8\u001b[1;33m \u001b[1;32mfrom\u001b[0m \u001b[0mkonlpy\u001b[0m\u001b[1;33m.\u001b[0m\u001b[0mstream\u001b[0m\u001b[1;33m.\u001b[0m\u001b[0mtwitter\u001b[0m \u001b[1;32mimport\u001b[0m \u001b[0mTwitterStreamer\u001b[0m\u001b[1;33m\u001b[0m\u001b[1;33m\u001b[0m\u001b[0m\n\u001b[0m\u001b[0;32m      9\u001b[0m \u001b[1;32mfrom\u001b[0m \u001b[0mkonlpy\u001b[0m\u001b[1;33m.\u001b[0m\u001b[0mstream\u001b[0m\u001b[1;33m.\u001b[0m\u001b[0mnaver\u001b[0m \u001b[1;32mimport\u001b[0m \u001b[0mNaverStreamer\u001b[0m\u001b[1;33m\u001b[0m\u001b[1;33m\u001b[0m\u001b[0m\n\u001b[0;32m     10\u001b[0m \u001b[1;32mfrom\u001b[0m \u001b[0mkonlpy\u001b[0m\u001b[1;33m.\u001b[0m\u001b[0mstream\u001b[0m\u001b[1;33m.\u001b[0m\u001b[0mdcinside\u001b[0m \u001b[1;32mimport\u001b[0m \u001b[0mDCInsideStreamer\u001b[0m\u001b[1;33m\u001b[0m\u001b[1;33m\u001b[0m\u001b[0m\n",
      "\u001b[1;32mC:\\ProgramData\\Anaconda3\\lib\\site-packages\\konlpy\\stream\\twitter.py\u001b[0m in \u001b[0;36m<module>\u001b[1;34m\u001b[0m\n\u001b[0;32m     15\u001b[0m \u001b[1;33m\u001b[0m\u001b[0m\n\u001b[0;32m     16\u001b[0m \u001b[1;33m\u001b[0m\u001b[0m\n\u001b[1;32m---> 17\u001b[1;33m \u001b[1;32mclass\u001b[0m \u001b[0mCorpusListener\u001b[0m\u001b[1;33m(\u001b[0m\u001b[0mtweepy\u001b[0m\u001b[1;33m.\u001b[0m\u001b[0mStreamListener\u001b[0m\u001b[1;33m)\u001b[0m\u001b[1;33m:\u001b[0m\u001b[1;33m\u001b[0m\u001b[1;33m\u001b[0m\u001b[0m\n\u001b[0m\u001b[0;32m     18\u001b[0m     \u001b[1;32mdef\u001b[0m \u001b[0m__init__\u001b[0m\u001b[1;33m(\u001b[0m\u001b[0mself\u001b[0m\u001b[1;33m,\u001b[0m \u001b[0moptions\u001b[0m\u001b[1;33m,\u001b[0m \u001b[0mdirname\u001b[0m\u001b[1;33m,\u001b[0m \u001b[0mword_list\u001b[0m\u001b[1;33m)\u001b[0m\u001b[1;33m:\u001b[0m\u001b[1;33m\u001b[0m\u001b[1;33m\u001b[0m\u001b[0m\n\u001b[0;32m     19\u001b[0m         \"\"\"CorpusListener is a tweepy listener to listen on filtered list of words.\n",
      "\u001b[1;31mAttributeError\u001b[0m: module 'tweepy' has no attribute 'StreamListener'"
     ]
    }
   ],
   "source": [
    "from konlpy.tag import Okt"
   ]
  },
  {
   "cell_type": "markdown",
   "metadata": {
    "id": "mx0j3jE0FKLX"
   },
   "source": [
    "* 토큰화 : okt.morphs( )"
   ]
  },
  {
   "cell_type": "code",
   "execution_count": 83,
   "metadata": {
    "colab": {
     "base_uri": "https://localhost:8080/"
    },
    "executionInfo": {
     "elapsed": 34,
     "status": "ok",
     "timestamp": 1628311342824,
     "user": {
      "displayName": "이정구",
      "photoUrl": "https://lh3.googleusercontent.com/a-/AOh14Ggor3yxeAY0Qx9DjT3OgE5Kvg17x7ah3qRpGUHVgQ=s64",
      "userId": "06746815733591865358"
     },
     "user_tz": -540
    },
    "id": "L5A_yZxTCcYC",
    "outputId": "7fd9334e-7d81-4148-9a1a-419c7fc4f34a"
   },
   "outputs": [
    {
     "name": "stdout",
     "output_type": "stream",
     "text": [
      "['지난', '몇', '달', '간', '전', '세계', '모든', '사람', '은', '코로나', '19', '로', '인해', '전례', '없는', '고통', '을', '겪으며', '다양한', '방식', '으로', '심각하게', '피해', '를', '겪었습니다', '.']\n"
     ]
    }
   ],
   "source": [
    "okt = Okt()\n",
    "\n",
    "print(okt.morphs('지난 몇 달간 전 세계 모든 사람은 코로나19로 인해 \\\n",
    "전례 없는 고통을 겪으며 다양한 방식으로 심각하게 피해를 겪었습니다.'))"
   ]
  },
  {
   "cell_type": "markdown",
   "metadata": {
    "id": "Cgwn4Pk5FN76"
   },
   "source": [
    "* 품사 태깅 : okt.pos( )"
   ]
  },
  {
   "cell_type": "code",
   "execution_count": 84,
   "metadata": {
    "colab": {
     "base_uri": "https://localhost:8080/"
    },
    "executionInfo": {
     "elapsed": 27,
     "status": "ok",
     "timestamp": 1628311342825,
     "user": {
      "displayName": "이정구",
      "photoUrl": "https://lh3.googleusercontent.com/a-/AOh14Ggor3yxeAY0Qx9DjT3OgE5Kvg17x7ah3qRpGUHVgQ=s64",
      "userId": "06746815733591865358"
     },
     "user_tz": -540
    },
    "id": "vpR6zpEMCp-c",
    "outputId": "af97ae10-9c60-4eb9-dfcc-e68b1e8273ba"
   },
   "outputs": [
    {
     "name": "stdout",
     "output_type": "stream",
     "text": [
      "[('지난', 'Noun'), ('몇', 'Noun'), ('달', 'Noun'), ('간', 'Suffix'), ('전', 'Noun'), ('세계', 'Noun'), ('모든', 'Noun'), ('사람', 'Noun'), ('은', 'Josa'), ('코로나', 'Noun'), ('19', 'Number'), ('로', 'Noun'), ('인해', 'Adjective'), ('전례', 'Noun'), ('없는', 'Adjective'), ('고통', 'Noun'), ('을', 'Josa'), ('겪으며', 'Verb'), ('다양한', 'Adjective'), ('방식', 'Noun'), ('으로', 'Josa'), ('심각하게', 'Adjective'), ('피해', 'Noun'), ('를', 'Josa'), ('겪었습니다', 'Verb'), ('.', 'Punctuation')]\n"
     ]
    }
   ],
   "source": [
    "print(okt.pos('지난 몇 달간 전 세계 모든 사람은 코로나19로 인해 \\\n",
    "전례 없는 고통을 겪으며 다양한 방식으로 심각하게 피해를 겪었습니다.'))"
   ]
  },
  {
   "cell_type": "markdown",
   "metadata": {
    "id": "d4Y4CYCYFjL5"
   },
   "source": [
    "* 명사 추출 : okt.nouns( )"
   ]
  },
  {
   "cell_type": "code",
   "execution_count": 85,
   "metadata": {
    "colab": {
     "base_uri": "https://localhost:8080/"
    },
    "executionInfo": {
     "elapsed": 23,
     "status": "ok",
     "timestamp": 1628311342825,
     "user": {
      "displayName": "이정구",
      "photoUrl": "https://lh3.googleusercontent.com/a-/AOh14Ggor3yxeAY0Qx9DjT3OgE5Kvg17x7ah3qRpGUHVgQ=s64",
      "userId": "06746815733591865358"
     },
     "user_tz": -540
    },
    "id": "rqd_VBtbCri0",
    "outputId": "df9cae0c-6d5a-4320-a809-9edd75c6af94"
   },
   "outputs": [
    {
     "name": "stdout",
     "output_type": "stream",
     "text": [
      "['지난', '몇', '달', '전', '세계', '모든', '사람', '코로나', '로', '전례', '고통', '방식', '피해']\n"
     ]
    }
   ],
   "source": [
    "print(okt.nouns('지난 몇 달간 전 세계 모든 사람은 코로나19로 인해 \\\n",
    "전례 없는 고통을 겪으며 다양한 방식으로 심각하게 피해를 겪었습니다.'))"
   ]
  },
  {
   "cell_type": "markdown",
   "metadata": {
    "id": "RxJAG2fSE7ua"
   },
   "source": [
    "> ### (3) Kkma 형태소 분석기\n",
    "\n",
    "* 형태소(Morpheme)"
   ]
  },
  {
   "cell_type": "code",
   "execution_count": 86,
   "metadata": {
    "executionInfo": {
     "elapsed": 18,
     "status": "ok",
     "timestamp": 1628311342826,
     "user": {
      "displayName": "이정구",
      "photoUrl": "https://lh3.googleusercontent.com/a-/AOh14Ggor3yxeAY0Qx9DjT3OgE5Kvg17x7ah3qRpGUHVgQ=s64",
      "userId": "06746815733591865358"
     },
     "user_tz": -540
    },
    "id": "Pkj_276WCxDQ"
   },
   "outputs": [],
   "source": [
    "from konlpy.tag import Kkma"
   ]
  },
  {
   "cell_type": "markdown",
   "metadata": {
    "id": "nIVbvbClFtUD"
   },
   "source": [
    "* 토큰화 : kkma.morphs( )"
   ]
  },
  {
   "cell_type": "code",
   "execution_count": 87,
   "metadata": {
    "colab": {
     "base_uri": "https://localhost:8080/"
    },
    "executionInfo": {
     "elapsed": 18,
     "status": "ok",
     "timestamp": 1628311342826,
     "user": {
      "displayName": "이정구",
      "photoUrl": "https://lh3.googleusercontent.com/a-/AOh14Ggor3yxeAY0Qx9DjT3OgE5Kvg17x7ah3qRpGUHVgQ=s64",
      "userId": "06746815733591865358"
     },
     "user_tz": -540
    },
    "id": "slbdMEw_FvV1",
    "outputId": "a3658c5f-0fce-4be8-db82-8998e2ee474b"
   },
   "outputs": [
    {
     "name": "stdout",
     "output_type": "stream",
     "text": [
      "['지나', 'ㄴ', '몇', '달', '간', '전', '세계', '모든', '사람', '은', '코로나', '19', '로', '인하', '어', '전례', '없', '는', '고통', '을', '겪', '으며', '다양', '하', 'ㄴ', '방식', '으로', '심각', '하', '게', '피해', '를', '겪', '었', '습니다', '.']\n"
     ]
    }
   ],
   "source": [
    "kkma = Kkma()  \n",
    "\n",
    "print(kkma.morphs('지난 몇 달간 전 세계 모든 사람은 코로나19로 인해 \\\n",
    "전례 없는 고통을 겪으며 다양한 방식으로 심각하게 피해를 겪었습니다.'))"
   ]
  },
  {
   "cell_type": "markdown",
   "metadata": {
    "id": "4VuXMtjEGA6r"
   },
   "source": [
    "* 품사 태깅 : kkma.pos( )"
   ]
  },
  {
   "cell_type": "code",
   "execution_count": 88,
   "metadata": {
    "colab": {
     "base_uri": "https://localhost:8080/"
    },
    "executionInfo": {
     "elapsed": 14,
     "status": "ok",
     "timestamp": 1628311342826,
     "user": {
      "displayName": "이정구",
      "photoUrl": "https://lh3.googleusercontent.com/a-/AOh14Ggor3yxeAY0Qx9DjT3OgE5Kvg17x7ah3qRpGUHVgQ=s64",
      "userId": "06746815733591865358"
     },
     "user_tz": -540
    },
    "id": "o__YXyPTCzBb",
    "outputId": "8a647420-3ddb-43f5-88e6-f6c8d880fe3b"
   },
   "outputs": [
    {
     "name": "stdout",
     "output_type": "stream",
     "text": [
      "[('지나', 'VV'), ('ㄴ', 'ETD'), ('몇', 'MDT'), ('달', 'NNG'), ('간', 'NNB'), ('전', 'NNG'), ('세계', 'NNG'), ('모든', 'MDT'), ('사람', 'NNG'), ('은', 'JX'), ('코로나', 'NNG'), ('19', 'NR'), ('로', 'JKM'), ('인하', 'VV'), ('어', 'ECS'), ('전례', 'NNG'), ('없', 'VA'), ('는', 'ETD'), ('고통', 'NNG'), ('을', 'JKO'), ('겪', 'VV'), ('으며', 'ECE'), ('다양', 'NNG'), ('하', 'XSV'), ('ㄴ', 'ETD'), ('방식', 'NNG'), ('으로', 'JKM'), ('심각', 'XR'), ('하', 'XSA'), ('게', 'ECD'), ('피해', 'NNG'), ('를', 'JKO'), ('겪', 'VV'), ('었', 'EPT'), ('습니다', 'EFN'), ('.', 'SF')]\n"
     ]
    }
   ],
   "source": [
    "print(kkma.pos('지난 몇 달간 전 세계 모든 사람은 코로나19로 인해 \\\n",
    "전례 없는 고통을 겪으며 다양한 방식으로 심각하게 피해를 겪었습니다.'))"
   ]
  },
  {
   "cell_type": "markdown",
   "metadata": {
    "id": "TolIm0ZjGFXE"
   },
   "source": [
    "* 명사 추출 : kkma.nouns( )"
   ]
  },
  {
   "cell_type": "code",
   "execution_count": 89,
   "metadata": {
    "colab": {
     "base_uri": "https://localhost:8080/"
    },
    "executionInfo": {
     "elapsed": 12,
     "status": "ok",
     "timestamp": 1628311342827,
     "user": {
      "displayName": "이정구",
      "photoUrl": "https://lh3.googleusercontent.com/a-/AOh14Ggor3yxeAY0Qx9DjT3OgE5Kvg17x7ah3qRpGUHVgQ=s64",
      "userId": "06746815733591865358"
     },
     "user_tz": -540
    },
    "id": "sYTaUE7DC2bb",
    "outputId": "d5c072ab-83a1-4a8a-f121-86bf657e2f23"
   },
   "outputs": [
    {
     "name": "stdout",
     "output_type": "stream",
     "text": [
      "['달', '달간', '간', '전', '세계', '사람', '코로나', '코로나19', '19', '전례', '고통', '다양', '방식', '피해']\n"
     ]
    }
   ],
   "source": [
    "print(kkma.nouns('지난 몇 달간 전 세계 모든 사람은 코로나19로 인해 \\\n",
    "전례 없는 고통을 겪으며 다양한 방식으로 심각하게 피해를 겪었습니다.'))"
   ]
  },
  {
   "cell_type": "markdown",
   "metadata": {
    "id": "o4Br06_7LLIv"
   },
   "source": [
    "# II. Encoding"
   ]
  },
  {
   "cell_type": "markdown",
   "metadata": {
    "id": "EBO0Jsk1LPKl"
   },
   "source": [
    "> ## 1) Encoding with Keras"
   ]
  },
  {
   "cell_type": "markdown",
   "metadata": {
    "id": "10-0Yzx1LayX"
   },
   "source": [
    "> ### (1) Import Package"
   ]
  },
  {
   "cell_type": "code",
   "execution_count": 90,
   "metadata": {
    "executionInfo": {
     "elapsed": 485,
     "status": "ok",
     "timestamp": 1628311343303,
     "user": {
      "displayName": "이정구",
      "photoUrl": "https://lh3.googleusercontent.com/a-/AOh14Ggor3yxeAY0Qx9DjT3OgE5Kvg17x7ah3qRpGUHVgQ=s64",
      "userId": "06746815733591865358"
     },
     "user_tz": -540
    },
    "id": "bgw2BcXHKCjv"
   },
   "outputs": [],
   "source": [
    "from tensorflow.keras.preprocessing.text import Tokenizer\n",
    "from tensorflow.keras.utils import to_categorical"
   ]
  },
  {
   "cell_type": "markdown",
   "metadata": {
    "id": "Z9gFk2zqLlIp"
   },
   "source": [
    "> ### (2) 실습 문장"
   ]
  },
  {
   "cell_type": "code",
   "execution_count": 91,
   "metadata": {
    "executionInfo": {
     "elapsed": 26,
     "status": "ok",
     "timestamp": 1628311343303,
     "user": {
      "displayName": "이정구",
      "photoUrl": "https://lh3.googleusercontent.com/a-/AOh14Ggor3yxeAY0Qx9DjT3OgE5Kvg17x7ah3qRpGUHVgQ=s64",
      "userId": "06746815733591865358"
     },
     "user_tz": -540
    },
    "id": "Ml7ZtnR5Ke4_"
   },
   "outputs": [],
   "source": [
    "sentence = '가지마라 가지마라 그녀는 위험해 매력이 너무 넘치는 Girl \\\n",
    "하지마라 하지마라 사랑은 위험해 \\\n",
    "내가 내가 내가 먼저 네게 네게 네게 빠져 빠져 빠져 버려 baby'"
   ]
  },
  {
   "cell_type": "markdown",
   "metadata": {
    "id": "iPe_IJ4VLoin"
   },
   "source": [
    "> ## 2) 정수 인코딩(Integer Encoding)"
   ]
  },
  {
   "cell_type": "markdown",
   "metadata": {
    "id": "ck2RxCHdL9Xc"
   },
   "source": [
    "> ### (1) Tokenizer.fit_on_texts( )\n",
    "\n",
    "* Tokenization & Integer Indexing"
   ]
  },
  {
   "cell_type": "code",
   "execution_count": 92,
   "metadata": {
    "executionInfo": {
     "elapsed": 26,
     "status": "ok",
     "timestamp": 1628311343304,
     "user": {
      "displayName": "이정구",
      "photoUrl": "https://lh3.googleusercontent.com/a-/AOh14Ggor3yxeAY0Qx9DjT3OgE5Kvg17x7ah3qRpGUHVgQ=s64",
      "userId": "06746815733591865358"
     },
     "user_tz": -540
    },
    "id": "XdvsdKLzKj9_"
   },
   "outputs": [],
   "source": [
    "from keras.preprocessing.text import Tokenizer\n",
    "\n",
    "tknz = Tokenizer()\n",
    "tknz.fit_on_texts([sentence])"
   ]
  },
  {
   "cell_type": "code",
   "execution_count": 93,
   "metadata": {
    "colab": {
     "base_uri": "https://localhost:8080/"
    },
    "executionInfo": {
     "elapsed": 25,
     "status": "ok",
     "timestamp": 1628311343304,
     "user": {
      "displayName": "이정구",
      "photoUrl": "https://lh3.googleusercontent.com/a-/AOh14Ggor3yxeAY0Qx9DjT3OgE5Kvg17x7ah3qRpGUHVgQ=s64",
      "userId": "06746815733591865358"
     },
     "user_tz": -540
    },
    "id": "re3hcM1pva9D",
    "outputId": "e82ac825-86aa-4605-a25b-6d1a35e6d9d0"
   },
   "outputs": [
    {
     "name": "stdout",
     "output_type": "stream",
     "text": [
      "{'내가': 1, '네게': 2, '빠져': 3, '가지마라': 4, '위험해': 5, '하지마라': 6, '그녀는': 7, '매력이': 8, '너무': 9, '넘치는': 10, 'girl': 11, '사랑은': 12, '먼저': 13, '버려': 14, 'baby': 15}\n"
     ]
    }
   ],
   "source": [
    "print(tknz.word_index)"
   ]
  },
  {
   "cell_type": "markdown",
   "metadata": {
    "id": "_foET2ciMJbW"
   },
   "source": [
    "> ### (2) Tokenizer.texts_to_sequences( )\n",
    "\n",
    "* Integer Encoding"
   ]
  },
  {
   "cell_type": "code",
   "execution_count": 94,
   "metadata": {
    "executionInfo": {
     "elapsed": 24,
     "status": "ok",
     "timestamp": 1628311343305,
     "user": {
      "displayName": "이정구",
      "photoUrl": "https://lh3.googleusercontent.com/a-/AOh14Ggor3yxeAY0Qx9DjT3OgE5Kvg17x7ah3qRpGUHVgQ=s64",
      "userId": "06746815733591865358"
     },
     "user_tz": -540
    },
    "id": "_ZbWP8G9KovQ"
   },
   "outputs": [],
   "source": [
    "LBE = tknz.texts_to_sequences([sentence])"
   ]
  },
  {
   "cell_type": "code",
   "execution_count": 95,
   "metadata": {
    "colab": {
     "base_uri": "https://localhost:8080/"
    },
    "executionInfo": {
     "elapsed": 23,
     "status": "ok",
     "timestamp": 1628311343305,
     "user": {
      "displayName": "이정구",
      "photoUrl": "https://lh3.googleusercontent.com/a-/AOh14Ggor3yxeAY0Qx9DjT3OgE5Kvg17x7ah3qRpGUHVgQ=s64",
      "userId": "06746815733591865358"
     },
     "user_tz": -540
    },
    "id": "1AeATrVDvnga",
    "outputId": "f75b3ac6-6ff8-4415-ea36-ae30d84be75e"
   },
   "outputs": [
    {
     "name": "stdout",
     "output_type": "stream",
     "text": [
      "[[4, 4, 7, 5, 8, 9, 10, 11, 6, 6, 12, 5, 1, 1, 1, 13, 2, 2, 2, 3, 3, 3, 14, 15]]\n"
     ]
    }
   ],
   "source": [
    "print(LBE)"
   ]
  },
  {
   "cell_type": "markdown",
   "metadata": {
    "id": "gsdDOxqDLupv"
   },
   "source": [
    "> ## 3) 원-핫 인코딩(One-Hot Encoding)"
   ]
  },
  {
   "cell_type": "markdown",
   "metadata": {
    "id": "f-FQ-mZhL2wV"
   },
   "source": [
    "> ### (1) to_categorical( )\n",
    "\n",
    "* One-Hot Encoding"
   ]
  },
  {
   "cell_type": "code",
   "execution_count": 96,
   "metadata": {
    "executionInfo": {
     "elapsed": 19,
     "status": "ok",
     "timestamp": 1628311343306,
     "user": {
      "displayName": "이정구",
      "photoUrl": "https://lh3.googleusercontent.com/a-/AOh14Ggor3yxeAY0Qx9DjT3OgE5Kvg17x7ah3qRpGUHVgQ=s64",
      "userId": "06746815733591865358"
     },
     "user_tz": -540
    },
    "id": "tGQqaQxiLBQr"
   },
   "outputs": [],
   "source": [
    "from tensorflow.keras.utils import to_categorical\n",
    "\n",
    "OHE = to_categorical(LBE)"
   ]
  },
  {
   "cell_type": "code",
   "execution_count": 97,
   "metadata": {
    "colab": {
     "base_uri": "https://localhost:8080/"
    },
    "executionInfo": {
     "elapsed": 18,
     "status": "ok",
     "timestamp": 1628311343306,
     "user": {
      "displayName": "이정구",
      "photoUrl": "https://lh3.googleusercontent.com/a-/AOh14Ggor3yxeAY0Qx9DjT3OgE5Kvg17x7ah3qRpGUHVgQ=s64",
      "userId": "06746815733591865358"
     },
     "user_tz": -540
    },
    "id": "R3DzE25Rvufj",
    "outputId": "8fbd246a-de62-44c9-bbfc-89b4b6c7c1bf"
   },
   "outputs": [
    {
     "name": "stdout",
     "output_type": "stream",
     "text": [
      "[[[0. 0. 0. 0. 1. 0. 0. 0. 0. 0. 0. 0. 0. 0. 0. 0.]\n",
      "  [0. 0. 0. 0. 1. 0. 0. 0. 0. 0. 0. 0. 0. 0. 0. 0.]\n",
      "  [0. 0. 0. 0. 0. 0. 0. 1. 0. 0. 0. 0. 0. 0. 0. 0.]\n",
      "  [0. 0. 0. 0. 0. 1. 0. 0. 0. 0. 0. 0. 0. 0. 0. 0.]\n",
      "  [0. 0. 0. 0. 0. 0. 0. 0. 1. 0. 0. 0. 0. 0. 0. 0.]\n",
      "  [0. 0. 0. 0. 0. 0. 0. 0. 0. 1. 0. 0. 0. 0. 0. 0.]\n",
      "  [0. 0. 0. 0. 0. 0. 0. 0. 0. 0. 1. 0. 0. 0. 0. 0.]\n",
      "  [0. 0. 0. 0. 0. 0. 0. 0. 0. 0. 0. 1. 0. 0. 0. 0.]\n",
      "  [0. 0. 0. 0. 0. 0. 1. 0. 0. 0. 0. 0. 0. 0. 0. 0.]\n",
      "  [0. 0. 0. 0. 0. 0. 1. 0. 0. 0. 0. 0. 0. 0. 0. 0.]\n",
      "  [0. 0. 0. 0. 0. 0. 0. 0. 0. 0. 0. 0. 1. 0. 0. 0.]\n",
      "  [0. 0. 0. 0. 0. 1. 0. 0. 0. 0. 0. 0. 0. 0. 0. 0.]\n",
      "  [0. 1. 0. 0. 0. 0. 0. 0. 0. 0. 0. 0. 0. 0. 0. 0.]\n",
      "  [0. 1. 0. 0. 0. 0. 0. 0. 0. 0. 0. 0. 0. 0. 0. 0.]\n",
      "  [0. 1. 0. 0. 0. 0. 0. 0. 0. 0. 0. 0. 0. 0. 0. 0.]\n",
      "  [0. 0. 0. 0. 0. 0. 0. 0. 0. 0. 0. 0. 0. 1. 0. 0.]\n",
      "  [0. 0. 1. 0. 0. 0. 0. 0. 0. 0. 0. 0. 0. 0. 0. 0.]\n",
      "  [0. 0. 1. 0. 0. 0. 0. 0. 0. 0. 0. 0. 0. 0. 0. 0.]\n",
      "  [0. 0. 1. 0. 0. 0. 0. 0. 0. 0. 0. 0. 0. 0. 0. 0.]\n",
      "  [0. 0. 0. 1. 0. 0. 0. 0. 0. 0. 0. 0. 0. 0. 0. 0.]\n",
      "  [0. 0. 0. 1. 0. 0. 0. 0. 0. 0. 0. 0. 0. 0. 0. 0.]\n",
      "  [0. 0. 0. 1. 0. 0. 0. 0. 0. 0. 0. 0. 0. 0. 0. 0.]\n",
      "  [0. 0. 0. 0. 0. 0. 0. 0. 0. 0. 0. 0. 0. 0. 1. 0.]\n",
      "  [0. 0. 0. 0. 0. 0. 0. 0. 0. 0. 0. 0. 0. 0. 0. 1.]]]\n"
     ]
    }
   ],
   "source": [
    "print(OHE)"
   ]
  },
  {
   "cell_type": "markdown",
   "metadata": {
    "id": "mO4ANdxgGJ10"
   },
   "source": [
    "# \n",
    "# \n",
    "# \n",
    "# The End\n",
    "# \n",
    "# \n",
    "# "
   ]
  }
 ],
 "metadata": {
  "colab": {
   "collapsed_sections": [],
   "name": "001_NLP_Preprocessing_CPU.ipynb",
   "provenance": []
  },
  "kernelspec": {
   "display_name": "Python 3",
   "language": "python",
   "name": "python3"
  },
  "language_info": {
   "codemirror_mode": {
    "name": "ipython",
    "version": 3
   },
   "file_extension": ".py",
   "mimetype": "text/x-python",
   "name": "python",
   "nbconvert_exporter": "python",
   "pygments_lexer": "ipython3",
   "version": "3.8.8"
  },
  "toc": {
   "base_numbering": 1,
   "nav_menu": {},
   "number_sections": true,
   "sideBar": true,
   "skip_h1_title": false,
   "title_cell": "Table of Contents",
   "title_sidebar": "Contents",
   "toc_cell": false,
   "toc_position": {},
   "toc_section_display": true,
   "toc_window_display": false
  }
 },
 "nbformat": 4,
 "nbformat_minor": 1
}
