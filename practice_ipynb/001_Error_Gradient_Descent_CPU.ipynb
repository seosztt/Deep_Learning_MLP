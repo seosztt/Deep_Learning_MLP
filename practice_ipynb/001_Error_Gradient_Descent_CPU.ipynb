{
 "cells": [
  {
   "cell_type": "markdown",
   "metadata": {
    "id": "EYKV8qLZDY3d"
   },
   "source": [
    "# Gradient Descent with Error\n",
    "* Error = (y - y_hat)"
   ]
  },
  {
   "cell_type": "code",
   "execution_count": 1,
   "metadata": {
    "executionInfo": {
     "elapsed": 268,
     "status": "ok",
     "timestamp": 1628052949833,
     "user": {
      "displayName": "이정구",
      "photoUrl": "https://lh3.googleusercontent.com/a-/AOh14Gg2atzeYT6QYFW3pcTDyi6aX0d6dqm_hj4W8fMg=s64",
      "userId": "17400242557229223804"
     },
     "user_tz": -540
    },
    "id": "RbPgODpVzdHI"
   },
   "outputs": [],
   "source": [
    "import warnings\n",
    "warnings.filterwarnings('ignore')"
   ]
  },
  {
   "cell_type": "markdown",
   "metadata": {
    "id": "GiMIt1WjDklc"
   },
   "source": [
    "# I. 함수 정의"
   ]
  },
  {
   "cell_type": "markdown",
   "metadata": {
    "id": "3UugARcKaldr"
   },
   "source": [
    "> ## 1) Import numpy"
   ]
  },
  {
   "cell_type": "code",
   "execution_count": 2,
   "metadata": {
    "executionInfo": {
     "elapsed": 263,
     "status": "ok",
     "timestamp": 1628052963415,
     "user": {
      "displayName": "이정구",
      "photoUrl": "https://lh3.googleusercontent.com/a-/AOh14Gg2atzeYT6QYFW3pcTDyi6aX0d6dqm_hj4W8fMg=s64",
      "userId": "17400242557229223804"
     },
     "user_tz": -540
    },
    "id": "O3pPJzd9Vmgg"
   },
   "outputs": [],
   "source": [
    "import numpy as np "
   ]
  },
  {
   "cell_type": "markdown",
   "metadata": {
    "id": "1-nfRPT_bZLY"
   },
   "source": [
    "> ## 2) sigmoid( ) 함수 정의"
   ]
  },
  {
   "cell_type": "code",
   "execution_count": 3,
   "metadata": {
    "executionInfo": {
     "elapsed": 250,
     "status": "ok",
     "timestamp": 1628052976196,
     "user": {
      "displayName": "이정구",
      "photoUrl": "https://lh3.googleusercontent.com/a-/AOh14Gg2atzeYT6QYFW3pcTDyi6aX0d6dqm_hj4W8fMg=s64",
      "userId": "17400242557229223804"
     },
     "user_tz": -540
    },
    "id": "ot21w9QoX8Rv"
   },
   "outputs": [],
   "source": [
    "def sigmoid(x):\n",
    "    y_hat = 1 / (1 + np.exp(-x))\n",
    "    return y_hat"
   ]
  },
  {
   "cell_type": "markdown",
   "metadata": {
    "id": "RWi7oYzwavvl"
   },
   "source": [
    "> ## 2) 'x', 'y', 'w', 'b' 설정\n",
    "\n",
    "* 'input', 'output' 정의\n",
    "* 'w', 'b' 초기화"
   ]
  },
  {
   "cell_type": "code",
   "execution_count": 5,
   "metadata": {
    "executionInfo": {
     "elapsed": 255,
     "status": "ok",
     "timestamp": 1628053047886,
     "user": {
      "displayName": "이정구",
      "photoUrl": "https://lh3.googleusercontent.com/a-/AOh14Gg2atzeYT6QYFW3pcTDyi6aX0d6dqm_hj4W8fMg=s64",
      "userId": "17400242557229223804"
     },
     "user_tz": -540
    },
    "id": "O0NUWP2IRnZj"
   },
   "outputs": [],
   "source": [
    "x = 0\n",
    "y = 1\n",
    "\n",
    "w = 0.9\n",
    "b = 0.2"
   ]
  },
  {
   "cell_type": "code",
   "execution_count": 6,
   "metadata": {
    "colab": {
     "base_uri": "https://localhost:8080/"
    },
    "executionInfo": {
     "elapsed": 251,
     "status": "ok",
     "timestamp": 1628053049416,
     "user": {
      "displayName": "이정구",
      "photoUrl": "https://lh3.googleusercontent.com/a-/AOh14Gg2atzeYT6QYFW3pcTDyi6aX0d6dqm_hj4W8fMg=s64",
      "userId": "17400242557229223804"
     },
     "user_tz": -540
    },
    "id": "foc--YjfYAyi",
    "outputId": "ac571cf5-9711-4815-fe74-756cd93b6d6a"
   },
   "outputs": [
    {
     "name": "stdout",
     "output_type": "stream",
     "text": [
      "0 0.45016600268752205 0.549833997312478\n",
      "100 0.0973578803025189 0.9026421196974811\n",
      "200 0.051001767235720585 0.9489982327642794\n",
      "300 0.03423372766866506 0.9657662723313349\n",
      "400 0.025687580437452562 0.9743124195625474\n",
      "500 0.020529203797572282 0.9794707962024277\n",
      "600 0.017084353843593636 0.9829156461564064\n",
      "700 0.014623551944150437 0.9853764480558496\n",
      "800 0.012779080847607371 0.9872209191523926\n",
      "900 0.011345789149502794 0.9886542108504972\n",
      "1000 0.01020031753515338 0.9897996824648466\n",
      "1100 0.009264083478147445 0.9907359165218526\n",
      "1200 0.008484679807654327 0.9915153201923457\n",
      "1300 0.007825826433493055 0.992174173566507\n",
      "1400 0.007261616816515382 0.9927383831834846\n",
      "1500 0.006773061510450762 0.9932269384895492\n"
     ]
    }
   ],
   "source": [
    "for i in range(1501):\n",
    "    y_hat = sigmoid(x * w + b)\n",
    "    error = y - y_hat\n",
    "\n",
    "    w = w + 0.1 * error\n",
    "    b = b + 0.1 * error\n",
    "    \n",
    "    if i % 100 == 0:\n",
    "        print(i, error, y_hat)"
   ]
  },
  {
   "cell_type": "markdown",
   "metadata": {
    "id": "wIjxl3nzGCVc"
   },
   "source": [
    "# \n",
    "# \n",
    "# \n",
    "# The End\n",
    "# \n",
    "# \n",
    "# "
   ]
  }
 ],
 "metadata": {
  "colab": {
   "collapsed_sections": [],
   "name": "001_Error_Gradient_Descent_CPU.ipynb",
   "provenance": []
  },
  "kernelspec": {
   "display_name": "Python 3",
   "language": "python",
   "name": "python3"
  },
  "language_info": {
   "codemirror_mode": {
    "name": "ipython",
    "version": 3
   },
   "file_extension": ".py",
   "mimetype": "text/x-python",
   "name": "python",
   "nbconvert_exporter": "python",
   "pygments_lexer": "ipython3",
   "version": "3.8.8"
  },
  "toc": {
   "base_numbering": 1,
   "nav_menu": {},
   "number_sections": true,
   "sideBar": true,
   "skip_h1_title": false,
   "title_cell": "Table of Contents",
   "title_sidebar": "Contents",
   "toc_cell": false,
   "toc_position": {},
   "toc_section_display": true,
   "toc_window_display": false
  }
 },
 "nbformat": 4,
 "nbformat_minor": 1
}
