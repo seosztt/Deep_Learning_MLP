{
 "cells": [
  {
   "cell_type": "markdown",
   "id": "3f560812",
   "metadata": {},
   "source": [
    "# 수치미분"
   ]
  },
  {
   "cell_type": "code",
   "execution_count": 1,
   "id": "82f0da45",
   "metadata": {},
   "outputs": [],
   "source": [
    "import warnings\n",
    "warnings.filterwarnings('ignore')"
   ]
  },
  {
   "cell_type": "code",
   "execution_count": 2,
   "id": "92a580e3",
   "metadata": {},
   "outputs": [],
   "source": [
    "import numpy as np"
   ]
  },
  {
   "cell_type": "markdown",
   "id": "ef0a79f4",
   "metadata": {},
   "source": [
    "## gradient() 함수 정의"
   ]
  },
  {
   "cell_type": "code",
   "execution_count": 3,
   "id": "91774d30",
   "metadata": {},
   "outputs": [],
   "source": [
    "def gradient(machine, param):\n",
    "    \n",
    "    if param.ndim==1:\n",
    "        temp_param=param\n",
    "        delta=0.00005\n",
    "        learned_param=np.zeros(param.shape)\n",
    "        \n",
    "        for index in range(len(param)):\n",
    "            target_param=float(temp_param[index])\n",
    "            temp_param[index] = target_param+delta\n",
    "            param_plus_delta=machine(temp_param)\n",
    "            temp_param[index]=target_param - delta\n",
    "            param_minus_delta=machine(temp_param)\n",
    "            learned_param[index]=(param_plus_delta-param_minus_delta)/(2*delta)\n",
    "            temp_param[index]=target_param\n",
    "            \n",
    "        return learned_param\n",
    "    \n",
    "    elif param.ndim==2:\n",
    "        temp_param=param\n",
    "        delta=0.00005\n",
    "        learned_param=np.zeros(param.shape)\n",
    "        \n",
    "        rows=param.shape[0]\n",
    "        columns=param.shape[1]\n",
    "        \n",
    "        for row in range(rows):\n",
    "            for columns in range(columns):\n",
    "                target_param=float(temp_param[row,columns])\n",
    "                temp_param[row,columns]=target_param + delta\n",
    "                param_plus_delta=machine(temp_param)\n",
    "                temp_param[row,columns]=target_param - delta\n",
    "                param_minus_delta=machine(temp_param)\n",
    "                learned_param[row, columns]=(param_plus_delta-param_minus_delta)/(2*delta)\n",
    "                temp_param[row, columns]=target_param\n",
    "                \n",
    "        return learned_param"
   ]
  },
  {
   "cell_type": "markdown",
   "id": "e3a2fda4",
   "metadata": {},
   "source": [
    "# Logic Gate() - 'AND','OR','NAND'"
   ]
  },
  {
   "cell_type": "markdown",
   "id": "5b463ee8",
   "metadata": {},
   "source": [
    "## sigmoid() 함수 정의"
   ]
  },
  {
   "cell_type": "code",
   "execution_count": 4,
   "id": "de10cd52",
   "metadata": {},
   "outputs": [],
   "source": [
    "import numpy as np\n",
    "\n",
    "def sigmoid(x):\n",
    "    y_hat=1/(1+np.exp(-x))\n",
    "    return y_hat"
   ]
  },
  {
   "cell_type": "markdown",
   "id": "c21fc730",
   "metadata": {},
   "source": [
    "## LogicGate 클래스 선언"
   ]
  },
  {
   "cell_type": "code",
   "execution_count": 24,
   "id": "929e87e0",
   "metadata": {},
   "outputs": [],
   "source": [
    "class LogicGate:\n",
    "    \n",
    "    def __init__(self, gate_Type, X_input, y_output):\n",
    "        \n",
    "        self.Type=gate_Type\n",
    "        \n",
    "        self.X_input=X_input.reshape(4,2)\n",
    "        self.y_output=y_output.reshape(4,1)\n",
    "        \n",
    "        self.W=np.random.rand(2,1)\n",
    "        self.b=np.random.rand(1)\n",
    "        \n",
    "        self.learning_rate=0.01\n",
    "        \n",
    "    def cost_func(self):\n",
    "        z = np.dot(self.X_input, self.W) + self.b\n",
    "        y_hat = sigmoid(z)\n",
    "        delta=0.00001\n",
    "        return -np.sum(self.y_output * np.log(y_hat + delta)+(1-self.y_output)*np.log((1-y_hat)+delta))\n",
    "\n",
    "    def learn(self):\n",
    "        machine=lambda x : self.cost_func()\n",
    "        print('initial Cost = ',self.cost_func())\n",
    "        \n",
    "        for step in range(20001):\n",
    "            self.W = self.W - self.learning_rate * gradient(machine, self.W)\n",
    "            self.b = self.b - self.learning_rate * gradient(machine, self.b)\n",
    "            \n",
    "            if (step % 1000 == 0):\n",
    "                print('Step = ', step, 'Cost = ', self.cost_func())\n",
    "\n",
    "    def predict(self, input_data):\n",
    "        \n",
    "        z = np.dot(input_data, self.W) + self.b\n",
    "        y_prob = sigmoid(z)\n",
    "        \n",
    "        if y_prob> 0.5:\n",
    "            result = 1\n",
    "        else:\n",
    "            result = 0\n",
    "        \n",
    "        return y_prob, result"
   ]
  },
  {
   "cell_type": "markdown",
   "id": "14ad78b2",
   "metadata": {},
   "source": [
    "## AND_Gate"
   ]
  },
  {
   "cell_type": "code",
   "execution_count": 33,
   "id": "bcc37c52",
   "metadata": {},
   "outputs": [],
   "source": [
    "X_input = np.array([[0,0],[0,1],[1,0],[1,1]])\n",
    "y_output = np.array([0,0,0,1])"
   ]
  },
  {
   "cell_type": "code",
   "execution_count": 34,
   "id": "8c355710",
   "metadata": {},
   "outputs": [
    {
     "name": "stdout",
     "output_type": "stream",
     "text": [
      "initial Cost =  3.605476860352407\n",
      "Step =  0 Cost =  3.569776338801039\n",
      "Step =  1000 Cost =  1.4446334521644206\n",
      "Step =  2000 Cost =  1.3336853634982262\n",
      "Step =  3000 Cost =  1.294399677410728\n",
      "Step =  4000 Cost =  1.274824882075794\n",
      "Step =  5000 Cost =  1.2632147749640894\n",
      "Step =  6000 Cost =  1.25556511011906\n",
      "Step =  7000 Cost =  1.2501582823981345\n",
      "Step =  8000 Cost =  1.246140160528789\n",
      "Step =  9000 Cost =  1.243039701035661\n",
      "Step =  10000 Cost =  1.2405764440989155\n",
      "Step =  11000 Cost =  1.2385732418507107\n",
      "Step =  12000 Cost =  1.2369128213258618\n",
      "Step =  13000 Cost =  1.2355145203947164\n",
      "Step =  14000 Cost =  1.234321068417192\n",
      "Step =  15000 Cost =  1.2332906988358128\n",
      "Step =  16000 Cost =  1.2323922462251673\n",
      "Step =  17000 Cost =  1.2316019902458162\n",
      "Step =  18000 Cost =  1.2309015619905161\n",
      "Step =  19000 Cost =  1.2302765181762207\n",
      "Step =  20000 Cost =  1.22971534748558\n"
     ]
    }
   ],
   "source": [
    "AND_Gate=LogicGate('AND_GATE',X_input,y_output)\n",
    "\n",
    "AND_Gate.learn()"
   ]
  },
  {
   "cell_type": "code",
   "execution_count": 35,
   "id": "e325eaa1",
   "metadata": {},
   "outputs": [
    {
     "name": "stdout",
     "output_type": "stream",
     "text": [
      "AND_GATE \n",
      "\n",
      "[0 0] = 0\n",
      "[0 1] = 0\n",
      "[1 0] = 0\n",
      "[1 1] = 1\n"
     ]
    }
   ],
   "source": [
    "print(AND_Gate.Type, '\\n')\n",
    "\n",
    "test_data=np.array([[0,0],[0,1],[1,0],[1,1]])\n",
    "\n",
    "for input_data in test_data:\n",
    "    (sigmoid_val, logical_val)=AND_Gate.predict(input_data)\n",
    "    print(input_data, '=',logical_val)"
   ]
  },
  {
   "cell_type": "markdown",
   "id": "20c9b64f",
   "metadata": {},
   "source": [
    "## OR_Gate"
   ]
  },
  {
   "cell_type": "code",
   "execution_count": 36,
   "id": "6caf9e0d",
   "metadata": {},
   "outputs": [],
   "source": [
    "X_input = np.array([[0,0],[0,1],[1,0],[1,1]])\n",
    "y_output = np.array([0,1,1,1])"
   ]
  },
  {
   "cell_type": "code",
   "execution_count": 37,
   "id": "e2e6919e",
   "metadata": {},
   "outputs": [
    {
     "name": "stdout",
     "output_type": "stream",
     "text": [
      "initial Cost =  1.6620982138387665\n",
      "Step =  0 Cost =  1.6610512953878394\n",
      "Step =  1000 Cost =  1.2652672115712398\n",
      "Step =  2000 Cost =  1.1999843360632028\n",
      "Step =  3000 Cost =  1.1774110719266917\n",
      "Step =  4000 Cost =  1.166420109889984\n",
      "Step =  5000 Cost =  1.1600108872363624\n",
      "Step =  6000 Cost =  1.1558406858983312\n",
      "Step =  7000 Cost =  1.1529212887162994\n",
      "Step =  8000 Cost =  1.1507680173068644\n",
      "Step =  9000 Cost =  1.1491165889826798\n",
      "Step =  10000 Cost =  1.1478111201725902\n",
      "Step =  11000 Cost =  1.1467539228982802\n",
      "Step =  12000 Cost =  1.1458807594974265\n",
      "Step =  13000 Cost =  1.14514770075511\n",
      "Step =  14000 Cost =  1.1445237129567574\n",
      "Step =  15000 Cost =  1.1439862633508664\n",
      "Step =  16000 Cost =  1.1435186039763843\n",
      "Step =  17000 Cost =  1.1431080321218445\n",
      "Step =  18000 Cost =  1.142744741600406\n",
      "Step =  19000 Cost =  1.1424210436615416\n",
      "Step =  20000 Cost =  1.142130826057465\n"
     ]
    }
   ],
   "source": [
    "OR_Gate=LogicGate('OR_GATE',X_input,y_output)\n",
    "\n",
    "OR_Gate.learn()"
   ]
  },
  {
   "cell_type": "code",
   "execution_count": 38,
   "id": "9fc40e13",
   "metadata": {},
   "outputs": [
    {
     "name": "stdout",
     "output_type": "stream",
     "text": [
      "OR_GATE \n",
      "\n",
      "[0 0] = 0\n",
      "[0 1] = 1\n",
      "[1 0] = 1\n",
      "[1 1] = 1\n"
     ]
    }
   ],
   "source": [
    "print(OR_Gate.Type, '\\n')\n",
    "\n",
    "test_data=np.array([[0,0],[0,1],[1,0],[1,1]])\n",
    "\n",
    "for input_data in test_data:\n",
    "    (sigmoid_val, logical_val)=OR_Gate.predict(input_data)\n",
    "    print(input_data, '=',logical_val)"
   ]
  },
  {
   "cell_type": "markdown",
   "id": "68b28658",
   "metadata": {},
   "source": [
    "## NAND_Gate"
   ]
  },
  {
   "cell_type": "code",
   "execution_count": 42,
   "id": "0dd7fc43",
   "metadata": {},
   "outputs": [],
   "source": [
    "X_input = np.array([[0,0],[0,1],[1,0],[1,1]])\n",
    "y_output = np.array([1,1,1,0])"
   ]
  },
  {
   "cell_type": "code",
   "execution_count": 43,
   "id": "30bdad1a",
   "metadata": {},
   "outputs": [
    {
     "name": "stdout",
     "output_type": "stream",
     "text": [
      "initial Cost =  3.1232591159260523\n",
      "Step =  0 Cost =  3.1172506827408917\n",
      "Step =  1000 Cost =  1.8898851008091717\n",
      "Step =  2000 Cost =  1.7596721019395183\n",
      "Step =  3000 Cost =  1.7162594177412043\n",
      "Step =  4000 Cost =  1.6952196248879592\n",
      "Step =  5000 Cost =  1.6829356346027635\n",
      "Step =  6000 Cost =  1.6749235153711992\n",
      "Step =  7000 Cost =  1.6693002856780867\n",
      "Step =  8000 Cost =  1.6651429619589564\n",
      "Step =  9000 Cost =  1.6619478159616181\n",
      "Step =  10000 Cost =  1.6594172959720521\n",
      "Step =  11000 Cost =  1.6573646260565265\n",
      "Step =  12000 Cost =  1.655666779953647\n",
      "Step =  13000 Cost =  1.6542394886475897\n",
      "Step =  14000 Cost =  1.6530231284624022\n",
      "Step =  15000 Cost =  1.651974345429279\n",
      "Step =  16000 Cost =  1.651060872090332\n",
      "Step =  17000 Cost =  1.650258203854949\n",
      "Step =  18000 Cost =  1.649547401512911\n",
      "Step =  19000 Cost =  1.6489135990883712\n",
      "Step =  20000 Cost =  1.6483449666381262\n"
     ]
    }
   ],
   "source": [
    "NAND_Gate=LogicGate('NAND_GATE',X_input,y_output)\n",
    "\n",
    "NAND_Gate.learn()"
   ]
  },
  {
   "cell_type": "code",
   "execution_count": 44,
   "id": "1a0c0b79",
   "metadata": {},
   "outputs": [
    {
     "name": "stdout",
     "output_type": "stream",
     "text": [
      "NAND_GATE \n",
      "\n",
      "[0 0] = 1\n",
      "[0 1] = 1\n",
      "[1 0] = 0\n",
      "[1 1] = 1\n"
     ]
    }
   ],
   "source": [
    "print(NAND_Gate.Type, '\\n')\n",
    "\n",
    "test_data=np.array([[0,0],[0,1],[1,0],[1,1]])\n",
    "\n",
    "for input_data in test_data:\n",
    "    (sigmoid_val, logical_val)=NAND_Gate.predict(input_data)\n",
    "    print(input_data, '=',logical_val)"
   ]
  },
  {
   "cell_type": "code",
   "execution_count": null,
   "id": "1e9ea4be",
   "metadata": {},
   "outputs": [],
   "source": []
  }
 ],
 "metadata": {
  "kernelspec": {
   "display_name": "Python 3",
   "language": "python",
   "name": "python3"
  },
  "language_info": {
   "codemirror_mode": {
    "name": "ipython",
    "version": 3
   },
   "file_extension": ".py",
   "mimetype": "text/x-python",
   "name": "python",
   "nbconvert_exporter": "python",
   "pygments_lexer": "ipython3",
   "version": "3.8.8"
  },
  "toc": {
   "base_numbering": 1,
   "nav_menu": {},
   "number_sections": true,
   "sideBar": true,
   "skip_h1_title": false,
   "title_cell": "Table of Contents",
   "title_sidebar": "Contents",
   "toc_cell": false,
   "toc_position": {},
   "toc_section_display": true,
   "toc_window_display": false
  }
 },
 "nbformat": 4,
 "nbformat_minor": 5
}
