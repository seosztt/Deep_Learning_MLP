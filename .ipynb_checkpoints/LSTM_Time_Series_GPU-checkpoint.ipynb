{
 "cells": [
  {
   "cell_type": "code",
   "execution_count": 1,
   "metadata": {
    "executionInfo": {
     "elapsed": 326,
     "status": "ok",
     "timestamp": 1633076471321,
     "user": {
      "displayName": "임성국",
      "photoUrl": "https://lh3.googleusercontent.com/a/default-user=s64",
      "userId": "16836461090630312519"
     },
     "user_tz": -540
    },
    "id": "oXKxceMg8J--"
   },
   "outputs": [],
   "source": [
    "import warnings\n",
    "warnings.filterwarnings('ignore')"
   ]
  },
  {
   "cell_type": "code",
   "execution_count": 2,
   "metadata": {
    "executionInfo": {
     "elapsed": 328,
     "status": "ok",
     "timestamp": 1633076555277,
     "user": {
      "displayName": "임성국",
      "photoUrl": "https://lh3.googleusercontent.com/a/default-user=s64",
      "userId": "16836461090630312519"
     },
     "user_tz": -540
    },
    "id": "9KJUFk7n8SYO"
   },
   "outputs": [],
   "source": [
    "import numpy as np\n",
    "import pandas as pd\n",
    "from matplotlib import pyplot as plt\n",
    "\n",
    "from sklearn.preprocessing import MinMaxScaler\n",
    "\n",
    "from tensorflow.keras.models import Sequential\n",
    "from tensorflow.keras.layers import Dense, LSTM"
   ]
  },
  {
   "cell_type": "code",
   "execution_count": 3,
   "metadata": {
    "colab": {
     "base_uri": "https://localhost:8080/"
    },
    "executionInfo": {
     "elapsed": 510,
     "status": "ok",
     "timestamp": 1633076594742,
     "user": {
      "displayName": "임성국",
      "photoUrl": "https://lh3.googleusercontent.com/a/default-user=s64",
      "userId": "16836461090630312519"
     },
     "user_tz": -540
    },
    "id": "OaEgS2Lg8pBZ",
    "outputId": "81a58c64-ceb7-424d-ba91-f534cdefc3f7"
   },
   "outputs": [
    {
     "name": "stdout",
     "output_type": "stream",
     "text": [
      "<class 'pandas.core.frame.DataFrame'>\n",
      "RangeIndex: 3287 entries, 0 to 3286\n",
      "Data columns (total 4 columns):\n",
      " #   Column  Non-Null Count  Dtype  \n",
      "---  ------  --------------  -----  \n",
      " 0   date    3287 non-null   object \n",
      " 1   avg     3287 non-null   float64\n",
      " 2   min     3287 non-null   float64\n",
      " 3   max     3287 non-null   float64\n",
      "dtypes: float64(3), object(1)\n",
      "memory usage: 102.8+ KB\n"
     ]
    }
   ],
   "source": [
    "url = 'https://raw.githubusercontent.com/rusita-ai/pyData/master/Seoul_Temp.csv'\n",
    "temp = pd.read_csv(url)\n",
    "\n",
    "temp.info()"
   ]
  },
  {
   "cell_type": "code",
   "execution_count": 5,
   "metadata": {
    "colab": {
     "base_uri": "https://localhost:8080/",
     "height": 206
    },
    "executionInfo": {
     "elapsed": 588,
     "status": "ok",
     "timestamp": 1633076605623,
     "user": {
      "displayName": "임성국",
      "photoUrl": "https://lh3.googleusercontent.com/a/default-user=s64",
      "userId": "16836461090630312519"
     },
     "user_tz": -540
    },
    "id": "BuUaIT1o80Hx",
    "outputId": "441f77a7-a68b-4a7a-b18a-f8d9d7426e1c",
    "scrolled": true
   },
   "outputs": [
    {
     "data": {
      "text/html": [
       "<div>\n",
       "<style scoped>\n",
       "    .dataframe tbody tr th:only-of-type {\n",
       "        vertical-align: middle;\n",
       "    }\n",
       "\n",
       "    .dataframe tbody tr th {\n",
       "        vertical-align: top;\n",
       "    }\n",
       "\n",
       "    .dataframe thead th {\n",
       "        text-align: right;\n",
       "    }\n",
       "</style>\n",
       "<table border=\"1\" class=\"dataframe\">\n",
       "  <thead>\n",
       "    <tr style=\"text-align: right;\">\n",
       "      <th></th>\n",
       "      <th>date</th>\n",
       "      <th>avg</th>\n",
       "      <th>min</th>\n",
       "      <th>max</th>\n",
       "    </tr>\n",
       "  </thead>\n",
       "  <tbody>\n",
       "    <tr>\n",
       "      <th>0</th>\n",
       "      <td>2011-01-01</td>\n",
       "      <td>-6.8</td>\n",
       "      <td>-10.4</td>\n",
       "      <td>-2.9</td>\n",
       "    </tr>\n",
       "    <tr>\n",
       "      <th>1</th>\n",
       "      <td>2011-01-02</td>\n",
       "      <td>-5.4</td>\n",
       "      <td>-8.5</td>\n",
       "      <td>-1.2</td>\n",
       "    </tr>\n",
       "    <tr>\n",
       "      <th>2</th>\n",
       "      <td>2011-01-03</td>\n",
       "      <td>-4.5</td>\n",
       "      <td>-8.5</td>\n",
       "      <td>-0.3</td>\n",
       "    </tr>\n",
       "    <tr>\n",
       "      <th>3</th>\n",
       "      <td>2011-01-04</td>\n",
       "      <td>-3.9</td>\n",
       "      <td>-7.4</td>\n",
       "      <td>-1.7</td>\n",
       "    </tr>\n",
       "    <tr>\n",
       "      <th>4</th>\n",
       "      <td>2011-01-05</td>\n",
       "      <td>-4.0</td>\n",
       "      <td>-7.7</td>\n",
       "      <td>-1.8</td>\n",
       "    </tr>\n",
       "  </tbody>\n",
       "</table>\n",
       "</div>"
      ],
      "text/plain": [
       "         date  avg   min  max\n",
       "0  2011-01-01 -6.8 -10.4 -2.9\n",
       "1  2011-01-02 -5.4  -8.5 -1.2\n",
       "2  2011-01-03 -4.5  -8.5 -0.3\n",
       "3  2011-01-04 -3.9  -7.4 -1.7\n",
       "4  2011-01-05 -4.0  -7.7 -1.8"
      ]
     },
     "execution_count": 5,
     "metadata": {},
     "output_type": "execute_result"
    }
   ],
   "source": [
    "temp.head()"
   ]
  },
  {
   "cell_type": "code",
   "execution_count": 4,
   "metadata": {
    "colab": {
     "base_uri": "https://localhost:8080/",
     "height": 320
    },
    "executionInfo": {
     "elapsed": 712,
     "status": "ok",
     "timestamp": 1633076646754,
     "user": {
      "displayName": "임성국",
      "photoUrl": "https://lh3.googleusercontent.com/a/default-user=s64",
      "userId": "16836461090630312519"
     },
     "user_tz": -540
    },
    "id": "M36DlLRB827v",
    "outputId": "2e316b40-1346-4771-f197-ec7645cf2d47"
   },
   "outputs": [
    {
     "data": {
      "image/png": "[encoded data removed]",
      "text/plain": [
       "<Figure size 864x360 with 1 Axes>"
      ]
     },
     "metadata": {
      "needs_background": "light"
     },
     "output_type": "display_data"
    }
   ],
   "source": [
    "temp_data = temp[['avg']]\n",
    "\n",
    "plt.figure(figsize = (12, 5))\n",
    "plt.plot(temp_data)\n",
    "plt.show()"
   ]
  },
  {
   "cell_type": "code",
   "execution_count": 5,
   "metadata": {
    "executionInfo": {
     "elapsed": 564,
     "status": "ok",
     "timestamp": 1633076678409,
     "user": {
      "displayName": "임성국",
      "photoUrl": "https://lh3.googleusercontent.com/a/default-user=s64",
      "userId": "16836461090630312519"
     },
     "user_tz": -540
    },
    "id": "JbYnAdGG9An8"
   },
   "outputs": [],
   "source": [
    "scaler = MinMaxScaler(feature_range=(-1,1))\n",
    "\n",
    "temp_data = scaler.fit_transform(temp_data)"
   ]
  },
  {
   "cell_type": "code",
   "execution_count": 6,
   "metadata": {
    "executionInfo": {
     "elapsed": 321,
     "status": "ok",
     "timestamp": 1633076748062,
     "user": {
      "displayName": "임성국",
      "photoUrl": "https://lh3.googleusercontent.com/a/default-user=s64",
      "userId": "16836461090630312519"
     },
     "user_tz": -540
    },
    "id": "FuSs9s569Ios"
   },
   "outputs": [],
   "source": [
    "train = temp_data[0:2557]\n",
    "test = temp_data[2557:]"
   ]
  },
  {
   "cell_type": "code",
   "execution_count": 8,
   "metadata": {},
   "outputs": [
    {
     "data": {
      "text/plain": [
       "array([[-0.67010309],\n",
       "       [-0.61237113],\n",
       "       [-0.57525773],\n",
       "       ...,\n",
       "       [-0.30309278],\n",
       "       [-0.33195876],\n",
       "       [-0.40206186]])"
      ]
     },
     "execution_count": 8,
     "metadata": {},
     "output_type": "execute_result"
    }
   ],
   "source": [
    "train"
   ]
  },
  {
   "cell_type": "code",
   "execution_count": 9,
   "metadata": {
    "executionInfo": {
     "elapsed": 617,
     "status": "ok",
     "timestamp": 1633076857094,
     "user": {
      "displayName": "임성국",
      "photoUrl": "https://lh3.googleusercontent.com/a/default-user=s64",
      "userId": "16836461090630312519"
     },
     "user_tz": -540
    },
    "id": "XMt6jFjn9ZwZ"
   },
   "outputs": [],
   "source": [
    "def create_dataset(time_data, look_back = 1):\n",
    "    data_X, data_y = [],[]\n",
    "\n",
    "    for i in range(len(time_data) - look_back):\n",
    "        data_X.append(time_data[i:(i + look_back),0])\n",
    "        data_y.append(time_data[i + look_back, 0])\n",
    "\n",
    "    return np.array(data_X), np.array(data_y)"
   ]
  },
  {
   "cell_type": "code",
   "execution_count": 12,
   "metadata": {
    "executionInfo": {
     "elapsed": 568,
     "status": "ok",
     "timestamp": 1633077041714,
     "user": {
      "displayName": "임성국",
      "photoUrl": "https://lh3.googleusercontent.com/a/default-user=s64",
      "userId": "16836461090630312519"
     },
     "user_tz": -540
    },
    "id": "uMrMssJs-YW7"
   },
   "outputs": [],
   "source": [
    "look_back = 180\n",
    "\n",
    "train_X, train_y = create_dataset(train, look_back)\n",
    "test_X, test_y = create_dataset(test, look_back)"
   ]
  },
  {
   "cell_type": "code",
   "execution_count": 13,
   "metadata": {
    "colab": {
     "base_uri": "https://localhost:8080/"
    },
    "executionInfo": {
     "elapsed": 3,
     "status": "ok",
     "timestamp": 1633077043333,
     "user": {
      "displayName": "임성국",
      "photoUrl": "https://lh3.googleusercontent.com/a/default-user=s64",
      "userId": "16836461090630312519"
     },
     "user_tz": -540
    },
    "id": "s155og8_90GE",
    "outputId": "a35e6e82-5011-46c8-be50-c041fbcf5a4f"
   },
   "outputs": [
    {
     "data": {
      "text/plain": [
       "((2377, 180, 1), (2377,), (550, 180, 1), (550,))"
      ]
     },
     "execution_count": 13,
     "metadata": {},
     "output_type": "execute_result"
    }
   ],
   "source": [
    "train_X = np.reshape(train_X, (train_X.shape[0], train_X.shape[1],1))\n",
    "test_X = np.reshape(test_X, (test_X.shape[0], test_X.shape[1], 1))\n",
    "\n",
    "train_X.shape, train_y.shape, test_X.shape, test_y.shape"
   ]
  },
  {
   "cell_type": "code",
   "execution_count": 15,
   "metadata": {
    "executionInfo": {
     "elapsed": 7059,
     "status": "ok",
     "timestamp": 1633077193315,
     "user": {
      "displayName": "임성국",
      "photoUrl": "https://lh3.googleusercontent.com/a/default-user=s64",
      "userId": "16836461090630312519"
     },
     "user_tz": -540
    },
    "id": "up4KgnFx-2Is"
   },
   "outputs": [],
   "source": [
    "model = Sequential(name = 'LSTM')\n",
    "model.add(LSTM(64,\n",
    "               input_shape = (None, 1)))\n",
    "model.add(Dense(1, activation = 'tanh'))"
   ]
  },
  {
   "cell_type": "code",
   "execution_count": 16,
   "metadata": {
    "colab": {
     "base_uri": "https://localhost:8080/"
    },
    "executionInfo": {
     "elapsed": 594,
     "status": "ok",
     "timestamp": 1633077210231,
     "user": {
      "displayName": "임성국",
      "photoUrl": "https://lh3.googleusercontent.com/a/default-user=s64",
      "userId": "16836461090630312519"
     },
     "user_tz": -540
    },
    "id": "XvDG4ZCD_E0G",
    "outputId": "43a268f9-f36b-4e88-a58d-b9bef346293b",
    "scrolled": false
   },
   "outputs": [
    {
     "name": "stdout",
     "output_type": "stream",
     "text": [
      "Model: \"LSTM\"\n",
      "_________________________________________________________________\n",
      "Layer (type)                 Output Shape              Param #   \n",
      "=================================================================\n",
      "lstm (LSTM)                  (None, 64)                16896     \n",
      "_________________________________________________________________\n",
      "dense (Dense)                (None, 1)                 65        \n",
      "=================================================================\n",
      "Total params: 16,961\n",
      "Trainable params: 16,961\n",
      "Non-trainable params: 0\n",
      "_________________________________________________________________\n"
     ]
    }
   ],
   "source": [
    "model.summary()"
   ]
  },
  {
   "cell_type": "code",
   "execution_count": 17,
   "metadata": {
    "executionInfo": {
     "elapsed": 320,
     "status": "ok",
     "timestamp": 1633077236030,
     "user": {
      "displayName": "임성국",
      "photoUrl": "https://lh3.googleusercontent.com/a/default-user=s64",
      "userId": "16836461090630312519"
     },
     "user_tz": -540
    },
    "id": "78aBzrgZ_KYr"
   },
   "outputs": [],
   "source": [
    "model.compile(loss='mean_squared_error',\n",
    "              optimizer = 'adam')"
   ]
  },
  {
   "cell_type": "code",
   "execution_count": 18,
   "metadata": {
    "colab": {
     "base_uri": "https://localhost:8080/"
    },
    "executionInfo": {
     "elapsed": 1104129,
     "status": "ok",
     "timestamp": 1633078375049,
     "user": {
      "displayName": "임성국",
      "photoUrl": "https://lh3.googleusercontent.com/a/default-user=s64",
      "userId": "16836461090630312519"
     },
     "user_tz": -540
    },
    "id": "u6cN-8rA_Q3i",
    "outputId": "e9bcd168-b8e3-4ddf-84a7-a12d803d562c"
   },
   "outputs": [
    {
     "name": "stdout",
     "output_type": "stream",
     "text": [
      "Epoch 1/200\n",
      "149/149 [==============================] - 13s 40ms/step - loss: 0.0209 - val_loss: 0.0153\n",
      "Epoch 2/200\n",
      "149/149 [==============================] - 5s 37ms/step - loss: 0.0153 - val_loss: 0.0136\n",
      "Epoch 3/200\n",
      "149/149 [==============================] - 5s 36ms/step - loss: 0.0142 - val_loss: 0.0122\n",
      "Epoch 4/200\n",
      "149/149 [==============================] - 5s 36ms/step - loss: 0.0129 - val_loss: 0.0107\n",
      "Epoch 5/200\n",
      "149/149 [==============================] - 5s 36ms/step - loss: 0.0134 - val_loss: 0.0105\n",
      "Epoch 6/200\n",
      "149/149 [==============================] - 5s 36ms/step - loss: 0.0117 - val_loss: 0.0101\n",
      "Epoch 7/200\n",
      "149/149 [==============================] - 5s 36ms/step - loss: 0.0102 - val_loss: 0.0091\n",
      "Epoch 8/200\n",
      "149/149 [==============================] - 5s 36ms/step - loss: 0.0094 - val_loss: 0.0088\n",
      "Epoch 9/200\n",
      "149/149 [==============================] - 5s 36ms/step - loss: 0.0090 - val_loss: 0.0084\n",
      "Epoch 10/200\n",
      "149/149 [==============================] - 5s 36ms/step - loss: 0.0086 - val_loss: 0.0078\n",
      "Epoch 11/200\n",
      "149/149 [==============================] - 5s 36ms/step - loss: 0.0085 - val_loss: 0.0078\n",
      "Epoch 12/200\n",
      "149/149 [==============================] - 5s 36ms/step - loss: 0.0085 - val_loss: 0.0078\n",
      "Epoch 13/200\n",
      "149/149 [==============================] - 5s 36ms/step - loss: 0.0086 - val_loss: 0.0080\n",
      "Epoch 14/200\n",
      "149/149 [==============================] - 5s 36ms/step - loss: 0.0084 - val_loss: 0.0079\n",
      "Epoch 15/200\n",
      "149/149 [==============================] - 5s 36ms/step - loss: 0.0082 - val_loss: 0.0076\n",
      "Epoch 16/200\n",
      "149/149 [==============================] - 5s 37ms/step - loss: 0.0083 - val_loss: 0.0076\n",
      "Epoch 17/200\n",
      "149/149 [==============================] - 5s 36ms/step - loss: 0.0086 - val_loss: 0.0081\n",
      "Epoch 18/200\n",
      "149/149 [==============================] - 5s 36ms/step - loss: 0.0084 - val_loss: 0.0075\n",
      "Epoch 19/200\n",
      "149/149 [==============================] - 5s 36ms/step - loss: 0.0082 - val_loss: 0.0077\n",
      "Epoch 20/200\n",
      "149/149 [==============================] - 5s 36ms/step - loss: 0.0081 - val_loss: 0.0076\n",
      "Epoch 21/200\n",
      "149/149 [==============================] - 5s 36ms/step - loss: 0.0082 - val_loss: 0.0075\n",
      "Epoch 22/200\n",
      "149/149 [==============================] - 5s 36ms/step - loss: 0.0082 - val_loss: 0.0078\n",
      "Epoch 23/200\n",
      "149/149 [==============================] - 5s 37ms/step - loss: 0.0083 - val_loss: 0.0076\n",
      "Epoch 24/200\n",
      "149/149 [==============================] - 5s 36ms/step - loss: 0.0081 - val_loss: 0.0077\n",
      "Epoch 25/200\n",
      "149/149 [==============================] - 5s 36ms/step - loss: 0.0082 - val_loss: 0.0076\n",
      "Epoch 26/200\n",
      "149/149 [==============================] - 5s 36ms/step - loss: 0.0083 - val_loss: 0.0078\n",
      "Epoch 27/200\n",
      "149/149 [==============================] - 5s 36ms/step - loss: 0.0082 - val_loss: 0.0076\n",
      "Epoch 28/200\n",
      "149/149 [==============================] - 5s 36ms/step - loss: 0.0082 - val_loss: 0.0075\n",
      "Epoch 29/200\n",
      "149/149 [==============================] - 5s 36ms/step - loss: 0.0080 - val_loss: 0.0075\n",
      "Epoch 30/200\n",
      "149/149 [==============================] - 5s 36ms/step - loss: 0.0082 - val_loss: 0.0075\n",
      "Epoch 31/200\n",
      "149/149 [==============================] - 5s 36ms/step - loss: 0.0081 - val_loss: 0.0073\n",
      "Epoch 32/200\n",
      "149/149 [==============================] - 5s 36ms/step - loss: 0.0081 - val_loss: 0.0076\n",
      "Epoch 33/200\n",
      "149/149 [==============================] - 5s 36ms/step - loss: 0.0081 - val_loss: 0.0074\n",
      "Epoch 34/200\n",
      "149/149 [==============================] - 5s 36ms/step - loss: 0.0081 - val_loss: 0.0076\n",
      "Epoch 35/200\n",
      "149/149 [==============================] - 5s 36ms/step - loss: 0.0081 - val_loss: 0.0075\n",
      "Epoch 36/200\n",
      "149/149 [==============================] - 5s 36ms/step - loss: 0.0081 - val_loss: 0.0075\n",
      "Epoch 37/200\n",
      "149/149 [==============================] - 5s 36ms/step - loss: 0.0082 - val_loss: 0.0075\n",
      "Epoch 38/200\n",
      "149/149 [==============================] - 5s 36ms/step - loss: 0.0081 - val_loss: 0.0079\n",
      "Epoch 39/200\n",
      "149/149 [==============================] - 5s 36ms/step - loss: 0.0081 - val_loss: 0.0074\n",
      "Epoch 40/200\n",
      "149/149 [==============================] - 5s 36ms/step - loss: 0.0080 - val_loss: 0.0074\n",
      "Epoch 41/200\n",
      "149/149 [==============================] - 5s 36ms/step - loss: 0.0081 - val_loss: 0.0074\n",
      "Epoch 42/200\n",
      "149/149 [==============================] - 5s 36ms/step - loss: 0.0081 - val_loss: 0.0076\n",
      "Epoch 43/200\n",
      "149/149 [==============================] - 5s 36ms/step - loss: 0.0080 - val_loss: 0.0072\n",
      "Epoch 44/200\n",
      "149/149 [==============================] - 5s 36ms/step - loss: 0.0080 - val_loss: 0.0076\n",
      "Epoch 45/200\n",
      "149/149 [==============================] - 5s 36ms/step - loss: 0.0079 - val_loss: 0.0075\n",
      "Epoch 46/200\n",
      "149/149 [==============================] - 5s 37ms/step - loss: 0.0080 - val_loss: 0.0073\n",
      "Epoch 47/200\n",
      "149/149 [==============================] - 5s 36ms/step - loss: 0.0078 - val_loss: 0.0073\n",
      "Epoch 48/200\n",
      "149/149 [==============================] - 5s 36ms/step - loss: 0.0079 - val_loss: 0.0074\n",
      "Epoch 49/200\n",
      "149/149 [==============================] - 5s 36ms/step - loss: 0.0079 - val_loss: 0.0072\n",
      "Epoch 50/200\n",
      "149/149 [==============================] - 5s 36ms/step - loss: 0.0079 - val_loss: 0.0074\n",
      "Epoch 51/200\n",
      "149/149 [==============================] - 5s 36ms/step - loss: 0.0079 - val_loss: 0.0075\n",
      "Epoch 52/200\n",
      "149/149 [==============================] - 5s 36ms/step - loss: 0.0079 - val_loss: 0.0073\n",
      "Epoch 53/200\n",
      "149/149 [==============================] - 5s 36ms/step - loss: 0.0079 - val_loss: 0.0073\n",
      "Epoch 54/200\n",
      "149/149 [==============================] - 5s 36ms/step - loss: 0.0078 - val_loss: 0.0072\n",
      "Epoch 55/200\n",
      "149/149 [==============================] - 5s 36ms/step - loss: 0.0078 - val_loss: 0.0076\n",
      "Epoch 56/200\n",
      "149/149 [==============================] - 5s 36ms/step - loss: 0.0077 - val_loss: 0.0076\n",
      "Epoch 57/200\n",
      "149/149 [==============================] - 5s 36ms/step - loss: 0.0079 - val_loss: 0.0081\n",
      "Epoch 58/200\n",
      "149/149 [==============================] - 5s 36ms/step - loss: 0.0079 - val_loss: 0.0074\n",
      "Epoch 59/200\n",
      "149/149 [==============================] - 5s 37ms/step - loss: 0.0078 - val_loss: 0.0074\n",
      "Epoch 60/200\n",
      "149/149 [==============================] - 5s 36ms/step - loss: 0.0079 - val_loss: 0.0078\n",
      "Epoch 61/200\n",
      "149/149 [==============================] - 5s 36ms/step - loss: 0.0078 - val_loss: 0.0072\n",
      "Epoch 62/200\n",
      "149/149 [==============================] - 5s 36ms/step - loss: 0.0078 - val_loss: 0.0071\n",
      "Epoch 63/200\n",
      "149/149 [==============================] - 5s 36ms/step - loss: 0.0078 - val_loss: 0.0073\n",
      "Epoch 64/200\n",
      "149/149 [==============================] - 5s 36ms/step - loss: 0.0078 - val_loss: 0.0076\n",
      "Epoch 65/200\n",
      "149/149 [==============================] - 5s 36ms/step - loss: 0.0077 - val_loss: 0.0074\n",
      "Epoch 66/200\n",
      "149/149 [==============================] - 5s 36ms/step - loss: 0.0077 - val_loss: 0.0073\n",
      "Epoch 67/200\n",
      "149/149 [==============================] - 5s 36ms/step - loss: 0.0077 - val_loss: 0.0074\n",
      "Epoch 68/200\n",
      "149/149 [==============================] - 5s 36ms/step - loss: 0.0077 - val_loss: 0.0077\n",
      "Epoch 69/200\n",
      "149/149 [==============================] - 5s 36ms/step - loss: 0.0076 - val_loss: 0.0072\n",
      "Epoch 70/200\n",
      "149/149 [==============================] - 5s 36ms/step - loss: 0.0076 - val_loss: 0.0073\n",
      "Epoch 71/200\n",
      "149/149 [==============================] - 5s 36ms/step - loss: 0.0077 - val_loss: 0.0073\n",
      "Epoch 72/200\n",
      "149/149 [==============================] - 5s 36ms/step - loss: 0.0077 - val_loss: 0.0077\n",
      "Epoch 73/200\n",
      "149/149 [==============================] - 5s 36ms/step - loss: 0.0077 - val_loss: 0.0070\n",
      "Epoch 74/200\n",
      "149/149 [==============================] - 5s 36ms/step - loss: 0.0076 - val_loss: 0.0077\n",
      "Epoch 75/200\n",
      "149/149 [==============================] - 5s 37ms/step - loss: 0.0077 - val_loss: 0.0075\n",
      "Epoch 76/200\n",
      "149/149 [==============================] - 5s 36ms/step - loss: 0.0076 - val_loss: 0.0074\n",
      "Epoch 77/200\n",
      "149/149 [==============================] - 5s 36ms/step - loss: 0.0076 - val_loss: 0.0073\n",
      "Epoch 78/200\n",
      "149/149 [==============================] - 5s 36ms/step - loss: 0.0076 - val_loss: 0.0072\n",
      "Epoch 79/200\n",
      "149/149 [==============================] - 5s 36ms/step - loss: 0.0075 - val_loss: 0.0074\n",
      "Epoch 80/200\n",
      "149/149 [==============================] - 5s 36ms/step - loss: 0.0077 - val_loss: 0.0074\n",
      "Epoch 81/200\n",
      "149/149 [==============================] - 5s 36ms/step - loss: 0.0074 - val_loss: 0.0070\n",
      "Epoch 82/200\n",
      "149/149 [==============================] - 5s 37ms/step - loss: 0.0076 - val_loss: 0.0074\n",
      "Epoch 83/200\n",
      "149/149 [==============================] - 5s 36ms/step - loss: 0.0075 - val_loss: 0.0073\n",
      "Epoch 84/200\n",
      "149/149 [==============================] - 5s 37ms/step - loss: 0.0075 - val_loss: 0.0073\n",
      "Epoch 85/200\n",
      "149/149 [==============================] - 5s 36ms/step - loss: 0.0075 - val_loss: 0.0072\n",
      "Epoch 86/200\n",
      "149/149 [==============================] - 5s 36ms/step - loss: 0.0076 - val_loss: 0.0079\n",
      "Epoch 87/200\n",
      "149/149 [==============================] - 5s 36ms/step - loss: 0.0074 - val_loss: 0.0072\n",
      "Epoch 88/200\n",
      "149/149 [==============================] - 5s 36ms/step - loss: 0.0074 - val_loss: 0.0074\n",
      "Epoch 89/200\n",
      "149/149 [==============================] - 5s 36ms/step - loss: 0.0075 - val_loss: 0.0072\n",
      "Epoch 90/200\n",
      "149/149 [==============================] - 5s 36ms/step - loss: 0.0074 - val_loss: 0.0071\n",
      "Epoch 91/200\n",
      "149/149 [==============================] - 5s 36ms/step - loss: 0.0074 - val_loss: 0.0072\n",
      "Epoch 92/200\n",
      "149/149 [==============================] - 5s 36ms/step - loss: 0.0074 - val_loss: 0.0071\n",
      "Epoch 93/200\n",
      "149/149 [==============================] - 5s 36ms/step - loss: 0.0074 - val_loss: 0.0072\n",
      "Epoch 94/200\n",
      "149/149 [==============================] - 5s 36ms/step - loss: 0.0073 - val_loss: 0.0075\n",
      "Epoch 95/200\n",
      "149/149 [==============================] - 5s 36ms/step - loss: 0.0073 - val_loss: 0.0075\n",
      "Epoch 96/200\n",
      "149/149 [==============================] - 5s 36ms/step - loss: 0.0072 - val_loss: 0.0077\n",
      "Epoch 97/200\n",
      "149/149 [==============================] - 5s 36ms/step - loss: 0.0074 - val_loss: 0.0076\n",
      "Epoch 98/200\n",
      "149/149 [==============================] - 5s 36ms/step - loss: 0.0073 - val_loss: 0.0076\n",
      "Epoch 99/200\n",
      "149/149 [==============================] - 5s 36ms/step - loss: 0.0072 - val_loss: 0.0076\n",
      "Epoch 100/200\n",
      "149/149 [==============================] - 5s 36ms/step - loss: 0.0072 - val_loss: 0.0072\n",
      "Epoch 101/200\n",
      "149/149 [==============================] - 5s 36ms/step - loss: 0.0072 - val_loss: 0.0074\n",
      "Epoch 102/200\n",
      "149/149 [==============================] - 5s 36ms/step - loss: 0.0072 - val_loss: 0.0075\n",
      "Epoch 103/200\n",
      "149/149 [==============================] - 5s 36ms/step - loss: 0.0072 - val_loss: 0.0071\n",
      "Epoch 104/200\n",
      "149/149 [==============================] - 5s 36ms/step - loss: 0.0072 - val_loss: 0.0077\n",
      "Epoch 105/200\n",
      "149/149 [==============================] - 5s 36ms/step - loss: 0.0072 - val_loss: 0.0075\n",
      "Epoch 106/200\n",
      "149/149 [==============================] - 5s 36ms/step - loss: 0.0070 - val_loss: 0.0076\n",
      "Epoch 107/200\n",
      "149/149 [==============================] - 5s 36ms/step - loss: 0.0071 - val_loss: 0.0081\n",
      "Epoch 108/200\n",
      "149/149 [==============================] - 5s 36ms/step - loss: 0.0071 - val_loss: 0.0075\n",
      "Epoch 109/200\n",
      "149/149 [==============================] - 5s 36ms/step - loss: 0.0071 - val_loss: 0.0076\n",
      "Epoch 110/200\n",
      "149/149 [==============================] - 5s 36ms/step - loss: 0.0071 - val_loss: 0.0074\n",
      "Epoch 111/200\n",
      "149/149 [==============================] - 5s 36ms/step - loss: 0.0070 - val_loss: 0.0076\n",
      "Epoch 112/200\n",
      "149/149 [==============================] - 5s 36ms/step - loss: 0.0069 - val_loss: 0.0079\n",
      "Epoch 113/200\n",
      "149/149 [==============================] - 5s 36ms/step - loss: 0.0070 - val_loss: 0.0079\n",
      "Epoch 114/200\n",
      "149/149 [==============================] - 5s 36ms/step - loss: 0.0069 - val_loss: 0.0081\n",
      "Epoch 115/200\n",
      "149/149 [==============================] - 5s 36ms/step - loss: 0.0070 - val_loss: 0.0078\n",
      "Epoch 116/200\n",
      "149/149 [==============================] - 5s 36ms/step - loss: 0.0068 - val_loss: 0.0078\n",
      "Epoch 117/200\n",
      "149/149 [==============================] - 5s 36ms/step - loss: 0.0068 - val_loss: 0.0077\n",
      "Epoch 118/200\n",
      "149/149 [==============================] - 5s 36ms/step - loss: 0.0069 - val_loss: 0.0079\n",
      "Epoch 119/200\n",
      "149/149 [==============================] - 5s 36ms/step - loss: 0.0069 - val_loss: 0.0080\n",
      "Epoch 120/200\n",
      "149/149 [==============================] - 5s 36ms/step - loss: 0.0069 - val_loss: 0.0077\n",
      "Epoch 121/200\n",
      "149/149 [==============================] - 5s 36ms/step - loss: 0.0068 - val_loss: 0.0077\n",
      "Epoch 122/200\n",
      "149/149 [==============================] - 5s 36ms/step - loss: 0.0068 - val_loss: 0.0075\n",
      "Epoch 123/200\n",
      "149/149 [==============================] - 5s 36ms/step - loss: 0.0070 - val_loss: 0.0078\n",
      "Epoch 124/200\n",
      "149/149 [==============================] - 5s 37ms/step - loss: 0.0068 - val_loss: 0.0076\n",
      "Epoch 125/200\n",
      "149/149 [==============================] - 5s 37ms/step - loss: 0.0068 - val_loss: 0.0080\n",
      "Epoch 126/200\n",
      "149/149 [==============================] - 5s 36ms/step - loss: 0.0067 - val_loss: 0.0075\n",
      "Epoch 127/200\n",
      "149/149 [==============================] - 5s 36ms/step - loss: 0.0066 - val_loss: 0.0081\n",
      "Epoch 128/200\n",
      "149/149 [==============================] - 5s 37ms/step - loss: 0.0066 - val_loss: 0.0081\n",
      "Epoch 129/200\n",
      "149/149 [==============================] - 5s 36ms/step - loss: 0.0065 - val_loss: 0.0082\n",
      "Epoch 130/200\n",
      "149/149 [==============================] - 5s 36ms/step - loss: 0.0066 - val_loss: 0.0086\n",
      "Epoch 131/200\n",
      "149/149 [==============================] - 5s 36ms/step - loss: 0.0066 - val_loss: 0.0083\n",
      "Epoch 132/200\n",
      "149/149 [==============================] - 5s 36ms/step - loss: 0.0067 - val_loss: 0.0085\n",
      "Epoch 133/200\n",
      "149/149 [==============================] - 5s 36ms/step - loss: 0.0065 - val_loss: 0.0087\n",
      "Epoch 134/200\n",
      "149/149 [==============================] - 5s 36ms/step - loss: 0.0064 - val_loss: 0.0078\n",
      "Epoch 135/200\n",
      "149/149 [==============================] - 5s 36ms/step - loss: 0.0066 - val_loss: 0.0083\n",
      "Epoch 136/200\n",
      "149/149 [==============================] - 5s 36ms/step - loss: 0.0065 - val_loss: 0.0087\n",
      "Epoch 137/200\n",
      "149/149 [==============================] - 5s 37ms/step - loss: 0.0066 - val_loss: 0.0083\n",
      "Epoch 138/200\n",
      "149/149 [==============================] - 5s 37ms/step - loss: 0.0065 - val_loss: 0.0080\n",
      "Epoch 139/200\n",
      "149/149 [==============================] - 5s 36ms/step - loss: 0.0065 - val_loss: 0.0079\n",
      "Epoch 140/200\n",
      "149/149 [==============================] - 5s 37ms/step - loss: 0.0064 - val_loss: 0.0081\n",
      "Epoch 141/200\n",
      "149/149 [==============================] - 5s 36ms/step - loss: 0.0065 - val_loss: 0.0084\n",
      "Epoch 142/200\n",
      "149/149 [==============================] - 5s 37ms/step - loss: 0.0063 - val_loss: 0.0085\n",
      "Epoch 143/200\n",
      "149/149 [==============================] - 5s 37ms/step - loss: 0.0064 - val_loss: 0.0084\n",
      "Epoch 144/200\n",
      "149/149 [==============================] - 5s 36ms/step - loss: 0.0063 - val_loss: 0.0087\n",
      "Epoch 145/200\n",
      "149/149 [==============================] - 5s 36ms/step - loss: 0.0062 - val_loss: 0.0081\n",
      "Epoch 146/200\n",
      "149/149 [==============================] - 5s 36ms/step - loss: 0.0062 - val_loss: 0.0086\n",
      "Epoch 147/200\n",
      "149/149 [==============================] - 5s 36ms/step - loss: 0.0063 - val_loss: 0.0084\n",
      "Epoch 148/200\n",
      "149/149 [==============================] - 5s 36ms/step - loss: 0.0064 - val_loss: 0.0087\n",
      "Epoch 149/200\n",
      "149/149 [==============================] - 5s 37ms/step - loss: 0.0062 - val_loss: 0.0081\n",
      "Epoch 150/200\n",
      "149/149 [==============================] - 5s 36ms/step - loss: 0.0062 - val_loss: 0.0088\n",
      "Epoch 151/200\n",
      "149/149 [==============================] - 5s 36ms/step - loss: 0.0061 - val_loss: 0.0091\n",
      "Epoch 152/200\n",
      "149/149 [==============================] - 5s 37ms/step - loss: 0.0063 - val_loss: 0.0098\n",
      "Epoch 153/200\n",
      "149/149 [==============================] - 5s 37ms/step - loss: 0.0062 - val_loss: 0.0091\n",
      "Epoch 154/200\n",
      "149/149 [==============================] - 5s 37ms/step - loss: 0.0061 - val_loss: 0.0088\n",
      "Epoch 155/200\n",
      "149/149 [==============================] - 5s 37ms/step - loss: 0.0061 - val_loss: 0.0096\n",
      "Epoch 156/200\n",
      "149/149 [==============================] - 5s 37ms/step - loss: 0.0061 - val_loss: 0.0083\n",
      "Epoch 157/200\n",
      "149/149 [==============================] - 5s 37ms/step - loss: 0.0060 - val_loss: 0.0087\n",
      "Epoch 158/200\n",
      "149/149 [==============================] - 5s 36ms/step - loss: 0.0063 - val_loss: 0.0094\n",
      "Epoch 159/200\n",
      "149/149 [==============================] - 5s 36ms/step - loss: 0.0062 - val_loss: 0.0097\n",
      "Epoch 160/200\n",
      "149/149 [==============================] - 5s 36ms/step - loss: 0.0059 - val_loss: 0.0092\n",
      "Epoch 161/200\n",
      "149/149 [==============================] - 5s 36ms/step - loss: 0.0060 - val_loss: 0.0088\n",
      "Epoch 162/200\n",
      "149/149 [==============================] - 5s 37ms/step - loss: 0.0061 - val_loss: 0.0088\n",
      "Epoch 163/200\n",
      "149/149 [==============================] - 5s 36ms/step - loss: 0.0058 - val_loss: 0.0093\n",
      "Epoch 164/200\n",
      "149/149 [==============================] - 5s 36ms/step - loss: 0.0058 - val_loss: 0.0097\n",
      "Epoch 165/200\n",
      "149/149 [==============================] - 5s 37ms/step - loss: 0.0058 - val_loss: 0.0100\n",
      "Epoch 166/200\n",
      "149/149 [==============================] - 5s 37ms/step - loss: 0.0057 - val_loss: 0.0095\n",
      "Epoch 167/200\n",
      "149/149 [==============================] - 5s 36ms/step - loss: 0.0057 - val_loss: 0.0096\n",
      "Epoch 168/200\n",
      "149/149 [==============================] - 5s 36ms/step - loss: 0.0057 - val_loss: 0.0102\n",
      "Epoch 169/200\n",
      "149/149 [==============================] - 5s 37ms/step - loss: 0.0057 - val_loss: 0.0099\n",
      "Epoch 170/200\n",
      "149/149 [==============================] - 5s 36ms/step - loss: 0.0057 - val_loss: 0.0097\n",
      "Epoch 171/200\n",
      "149/149 [==============================] - 5s 37ms/step - loss: 0.0057 - val_loss: 0.0098\n",
      "Epoch 172/200\n",
      "149/149 [==============================] - 5s 36ms/step - loss: 0.0056 - val_loss: 0.0102\n",
      "Epoch 173/200\n",
      "149/149 [==============================] - 5s 36ms/step - loss: 0.0055 - val_loss: 0.0110\n",
      "Epoch 174/200\n",
      "149/149 [==============================] - 5s 36ms/step - loss: 0.0056 - val_loss: 0.0097\n",
      "Epoch 175/200\n",
      "149/149 [==============================] - 5s 36ms/step - loss: 0.0056 - val_loss: 0.0099\n",
      "Epoch 176/200\n",
      "149/149 [==============================] - 5s 36ms/step - loss: 0.0055 - val_loss: 0.0093\n",
      "Epoch 177/200\n",
      "149/149 [==============================] - 5s 36ms/step - loss: 0.0055 - val_loss: 0.0105\n",
      "Epoch 178/200\n",
      "149/149 [==============================] - 5s 36ms/step - loss: 0.0054 - val_loss: 0.0098\n",
      "Epoch 179/200\n",
      "149/149 [==============================] - 5s 36ms/step - loss: 0.0058 - val_loss: 0.0101\n",
      "Epoch 180/200\n",
      "149/149 [==============================] - 5s 36ms/step - loss: 0.0056 - val_loss: 0.0107\n",
      "Epoch 181/200\n",
      "149/149 [==============================] - 5s 36ms/step - loss: 0.0054 - val_loss: 0.0100\n",
      "Epoch 182/200\n",
      "149/149 [==============================] - 5s 36ms/step - loss: 0.0052 - val_loss: 0.0117\n",
      "Epoch 183/200\n",
      "149/149 [==============================] - 5s 36ms/step - loss: 0.0053 - val_loss: 0.0112\n",
      "Epoch 184/200\n",
      "149/149 [==============================] - 5s 36ms/step - loss: 0.0051 - val_loss: 0.0098\n",
      "Epoch 185/200\n",
      "149/149 [==============================] - 5s 36ms/step - loss: 0.0053 - val_loss: 0.0114\n",
      "Epoch 186/200\n",
      "149/149 [==============================] - 5s 36ms/step - loss: 0.0054 - val_loss: 0.0108\n",
      "Epoch 187/200\n",
      "149/149 [==============================] - 5s 36ms/step - loss: 0.0053 - val_loss: 0.0094\n",
      "Epoch 188/200\n",
      "149/149 [==============================] - 5s 36ms/step - loss: 0.0052 - val_loss: 0.0111\n",
      "Epoch 189/200\n",
      "149/149 [==============================] - 5s 37ms/step - loss: 0.0051 - val_loss: 0.0112\n",
      "Epoch 190/200\n",
      "149/149 [==============================] - 5s 37ms/step - loss: 0.0050 - val_loss: 0.0108\n",
      "Epoch 191/200\n",
      "149/149 [==============================] - 5s 37ms/step - loss: 0.0051 - val_loss: 0.0113\n",
      "Epoch 192/200\n",
      "149/149 [==============================] - 5s 37ms/step - loss: 0.0050 - val_loss: 0.0110\n",
      "Epoch 193/200\n",
      "149/149 [==============================] - 5s 36ms/step - loss: 0.0050 - val_loss: 0.0106\n",
      "Epoch 194/200\n",
      "149/149 [==============================] - 5s 36ms/step - loss: 0.0050 - val_loss: 0.0107\n",
      "Epoch 195/200\n",
      "149/149 [==============================] - 5s 36ms/step - loss: 0.0049 - val_loss: 0.0107\n",
      "Epoch 196/200\n",
      "149/149 [==============================] - 5s 36ms/step - loss: 0.0049 - val_loss: 0.0112\n",
      "Epoch 197/200\n",
      "149/149 [==============================] - 5s 37ms/step - loss: 0.0051 - val_loss: 0.0118\n",
      "Epoch 198/200\n",
      "149/149 [==============================] - 5s 37ms/step - loss: 0.0048 - val_loss: 0.0120\n",
      "Epoch 199/200\n",
      "149/149 [==============================] - 5s 36ms/step - loss: 0.0048 - val_loss: 0.0121\n",
      "Epoch 200/200\n",
      "149/149 [==============================] - 5s 36ms/step - loss: 0.0047 - val_loss: 0.0112\n",
      "CPU times: user 14min 7s, sys: 38.3 s, total: 14min 46s\n",
      "Wall time: 18min 23s\n"
     ]
    }
   ],
   "source": [
    "%%time\n",
    "\n",
    "hist = model.fit(train_X, train_y,\n",
    "                 epochs = 200,\n",
    "                 batch_size = 16,\n",
    "                 validation_data = (test_X, test_y))"
   ]
  },
  {
   "cell_type": "code",
   "execution_count": 20,
   "metadata": {
    "colab": {
     "base_uri": "https://localhost:8080/",
     "height": 334
    },
    "executionInfo": {
     "elapsed": 604,
     "status": "ok",
     "timestamp": 1633078669711,
     "user": {
      "displayName": "임성국",
      "photoUrl": "https://lh3.googleusercontent.com/a/default-user=s64",
      "userId": "16836461090630312519"
     },
     "user_tz": -540
    },
    "id": "YJgzL_zW_ZaE",
    "outputId": "6f73754f-508a-4859-819f-c44ce10cb096"
   },
   "outputs": [
    {
     "data": {
      "image/png": "[encoded data removed]",
      "text/plain": [
       "<Figure size 864x360 with 1 Axes>"
      ]
     },
     "metadata": {
      "needs_background": "light"
     },
     "output_type": "display_data"
    }
   ],
   "source": [
    "plt.figure(figsize=(12,5))\n",
    "plt.plot(hist.history['loss'])\n",
    "plt.plot(hist.history['val_loss'])\n",
    "\n",
    "plt.ylabel('loss')\n",
    "plt.xlabel('epoch')\n",
    "plt.legend(['Train Loss', 'Valid Loss'], loc = 'upper right')\n",
    "plt.show()"
   ]
  },
  {
   "cell_type": "code",
   "execution_count": 21,
   "metadata": {
    "colab": {
     "base_uri": "https://localhost:8080/"
    },
    "executionInfo": {
     "elapsed": 1841,
     "status": "ok",
     "timestamp": 1633078674198,
     "user": {
      "displayName": "임성국",
      "photoUrl": "https://lh3.googleusercontent.com/a/default-user=s64",
      "userId": "16836461090630312519"
     },
     "user_tz": -540
    },
    "id": "_cLz7Jgt_2dZ",
    "outputId": "1d0dfae1-cab8-4bc8-c9dc-bde8fdf6d676"
   },
   "outputs": [
    {
     "name": "stdout",
     "output_type": "stream",
     "text": [
      "Train Score:  0.004532539751380682\n",
      "Train Score:  0.01117151789367199\n"
     ]
    }
   ],
   "source": [
    "trainScore = model.evaluate(train_X, train_y, verbose = 0)\n",
    "print('Train Score: ', trainScore)\n",
    "\n",
    "testScore = model.evaluate(test_X, test_y, verbose = 0)\n",
    "print('Test Score: ', testScore)"
   ]
  },
  {
   "cell_type": "code",
   "execution_count": 22,
   "metadata": {
    "colab": {
     "base_uri": "https://localhost:8080/",
     "height": 320
    },
    "executionInfo": {
     "elapsed": 25213,
     "status": "ok",
     "timestamp": 1633078702044,
     "user": {
      "displayName": "임성국",
      "photoUrl": "https://lh3.googleusercontent.com/a/default-user=s64",
      "userId": "16836461090630312519"
     },
     "user_tz": -540
    },
    "id": "rnUt0WlLAIVm",
    "outputId": "5c44a621-d3e9-4a22-aa54-428295f594ec"
   },
   "outputs": [
    {
     "data": {
      "image/png": "[encoded data removed]",
      "text/plain": [
       "<Figure size 864x360 with 1 Axes>"
      ]
     },
     "metadata": {
      "needs_background": "light"
     },
     "output_type": "display_data"
    }
   ],
   "source": [
    "look_ahead = 550\n",
    "\n",
    "xhat = test_X[0]\n",
    "\n",
    "predictions = np.zeros((look_ahead, 1))\n",
    "\n",
    "for i in range(look_ahead):\n",
    "    prediction = model.predict(np.array([xhat]), batch_size = 1)\n",
    "    predictions[i] = prediction\n",
    "    xhat = np.vstack([xhat[1:], prediction])\n",
    "\n",
    "plt.figure(figsize=(12,5))\n",
    "plt.plot(np.arange(look_ahead), predictions, 'r', label = 'Prediction')\n",
    "plt.plot(np.arange(look_ahead), test_y[:look_ahead], label = 'Test_Data')\n",
    "plt.legend()\n",
    "plt.show()"
   ]
  },
  {
   "cell_type": "markdown",
   "metadata": {
    "heading_collapsed": true,
    "id": "8R-CCahvA6D3"
   },
   "source": [
    "#The End#"
   ]
  }
 ],
 "metadata": {
  "accelerator": "GPU",
  "colab": {
   "authorship_tag": "ABX9TyOs0pJ2PAwwllXtDwwFJbUa",
   "collapsed_sections": [],
   "name": "LSTM_Time_Series_GPU.ipynb",
   "provenance": []
  },
  "kernelspec": {
   "display_name": "Python 3",
   "language": "python",
   "name": "python3"
  },
  "language_info": {
   "codemirror_mode": {
    "name": "ipython",
    "version": 3
   },
   "file_extension": ".py",
   "mimetype": "text/x-python",
   "name": "python",
   "nbconvert_exporter": "python",
   "pygments_lexer": "ipython3",
   "version": "3.8.8"
  },
  "toc": {
   "base_numbering": 1,
   "nav_menu": {},
   "number_sections": true,
   "sideBar": true,
   "skip_h1_title": false,
   "title_cell": "Table of Contents",
   "title_sidebar": "Contents",
   "toc_cell": false,
   "toc_position": {},
   "toc_section_display": true,
   "toc_window_display": false
  }
 },
 "nbformat": 4,
 "nbformat_minor": 1
}
